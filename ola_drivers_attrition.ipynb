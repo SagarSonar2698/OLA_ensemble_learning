{
  "nbformat": 4,
  "nbformat_minor": 0,
  "metadata": {
    "colab": {
      "provenance": [],
      "authorship_tag": "ABX9TyNYsUk/VDPRVJbQps9PHdBT",
      "include_colab_link": true
    },
    "kernelspec": {
      "name": "python3",
      "display_name": "Python 3"
    },
    "language_info": {
      "name": "python"
    }
  },
  "cells": [
    {
      "cell_type": "markdown",
      "metadata": {
        "id": "view-in-github",
        "colab_type": "text"
      },
      "source": [
        "<a href=\"https://colab.research.google.com/github/SagarSonar2698/OLA_ensemble_learning/blob/main/ola_drivers_attrition.ipynb\" target=\"_parent\"><img src=\"https://colab.research.google.com/assets/colab-badge.svg\" alt=\"Open In Colab\"/></a>"
      ]
    },
    {
      "cell_type": "code",
      "execution_count": null,
      "metadata": {
        "id": "il079R09vRUe"
      },
      "outputs": [],
      "source": [
        "import pandas as pd\n",
        "import numpy as np\n",
        "import matplotlib.pyplot as plt\n",
        "import seaborn as sns"
      ]
    },
    {
      "cell_type": "code",
      "source": [
        "df = pd.read_csv('/content/ola_driver_scaler.csv')"
      ],
      "metadata": {
        "id": "XniTwMicvihE"
      },
      "execution_count": null,
      "outputs": []
    },
    {
      "cell_type": "code",
      "source": [
        "df.head()"
      ],
      "metadata": {
        "colab": {
          "base_uri": "https://localhost:8080/",
          "height": 206
        },
        "id": "KgLhWH2EvnUQ",
        "outputId": "7609cf40-7c00-473b-de54-3ecd944434ab"
      },
      "execution_count": null,
      "outputs": [
        {
          "output_type": "execute_result",
          "data": {
            "text/plain": [
              "   Unnamed: 0    MMM-YY  Driver_ID   Age  Gender City  Education_Level  \\\n",
              "0           0  01/01/19          1  28.0     0.0  C23                2   \n",
              "1           1  02/01/19          1  28.0     0.0  C23                2   \n",
              "2           2  03/01/19          1  28.0     0.0  C23                2   \n",
              "3           3  11/01/20          2  31.0     0.0   C7                2   \n",
              "4           4  12/01/20          2  31.0     0.0   C7                2   \n",
              "\n",
              "   Income Dateofjoining LastWorkingDate  Joining Designation  Grade  \\\n",
              "0   57387      24/12/18             NaN                    1      1   \n",
              "1   57387      24/12/18             NaN                    1      1   \n",
              "2   57387      24/12/18        03/11/19                    1      1   \n",
              "3   67016      11/06/20             NaN                    2      2   \n",
              "4   67016      11/06/20             NaN                    2      2   \n",
              "\n",
              "   Total Business Value  Quarterly Rating  \n",
              "0               2381060                 2  \n",
              "1               -665480                 2  \n",
              "2                     0                 2  \n",
              "3                     0                 1  \n",
              "4                     0                 1  "
            ],
            "text/html": [
              "\n",
              "  <div id=\"df-51df5cff-1f77-44f2-9162-1f0fd29d0d35\">\n",
              "    <div class=\"colab-df-container\">\n",
              "      <div>\n",
              "<style scoped>\n",
              "    .dataframe tbody tr th:only-of-type {\n",
              "        vertical-align: middle;\n",
              "    }\n",
              "\n",
              "    .dataframe tbody tr th {\n",
              "        vertical-align: top;\n",
              "    }\n",
              "\n",
              "    .dataframe thead th {\n",
              "        text-align: right;\n",
              "    }\n",
              "</style>\n",
              "<table border=\"1\" class=\"dataframe\">\n",
              "  <thead>\n",
              "    <tr style=\"text-align: right;\">\n",
              "      <th></th>\n",
              "      <th>Unnamed: 0</th>\n",
              "      <th>MMM-YY</th>\n",
              "      <th>Driver_ID</th>\n",
              "      <th>Age</th>\n",
              "      <th>Gender</th>\n",
              "      <th>City</th>\n",
              "      <th>Education_Level</th>\n",
              "      <th>Income</th>\n",
              "      <th>Dateofjoining</th>\n",
              "      <th>LastWorkingDate</th>\n",
              "      <th>Joining Designation</th>\n",
              "      <th>Grade</th>\n",
              "      <th>Total Business Value</th>\n",
              "      <th>Quarterly Rating</th>\n",
              "    </tr>\n",
              "  </thead>\n",
              "  <tbody>\n",
              "    <tr>\n",
              "      <th>0</th>\n",
              "      <td>0</td>\n",
              "      <td>01/01/19</td>\n",
              "      <td>1</td>\n",
              "      <td>28.0</td>\n",
              "      <td>0.0</td>\n",
              "      <td>C23</td>\n",
              "      <td>2</td>\n",
              "      <td>57387</td>\n",
              "      <td>24/12/18</td>\n",
              "      <td>NaN</td>\n",
              "      <td>1</td>\n",
              "      <td>1</td>\n",
              "      <td>2381060</td>\n",
              "      <td>2</td>\n",
              "    </tr>\n",
              "    <tr>\n",
              "      <th>1</th>\n",
              "      <td>1</td>\n",
              "      <td>02/01/19</td>\n",
              "      <td>1</td>\n",
              "      <td>28.0</td>\n",
              "      <td>0.0</td>\n",
              "      <td>C23</td>\n",
              "      <td>2</td>\n",
              "      <td>57387</td>\n",
              "      <td>24/12/18</td>\n",
              "      <td>NaN</td>\n",
              "      <td>1</td>\n",
              "      <td>1</td>\n",
              "      <td>-665480</td>\n",
              "      <td>2</td>\n",
              "    </tr>\n",
              "    <tr>\n",
              "      <th>2</th>\n",
              "      <td>2</td>\n",
              "      <td>03/01/19</td>\n",
              "      <td>1</td>\n",
              "      <td>28.0</td>\n",
              "      <td>0.0</td>\n",
              "      <td>C23</td>\n",
              "      <td>2</td>\n",
              "      <td>57387</td>\n",
              "      <td>24/12/18</td>\n",
              "      <td>03/11/19</td>\n",
              "      <td>1</td>\n",
              "      <td>1</td>\n",
              "      <td>0</td>\n",
              "      <td>2</td>\n",
              "    </tr>\n",
              "    <tr>\n",
              "      <th>3</th>\n",
              "      <td>3</td>\n",
              "      <td>11/01/20</td>\n",
              "      <td>2</td>\n",
              "      <td>31.0</td>\n",
              "      <td>0.0</td>\n",
              "      <td>C7</td>\n",
              "      <td>2</td>\n",
              "      <td>67016</td>\n",
              "      <td>11/06/20</td>\n",
              "      <td>NaN</td>\n",
              "      <td>2</td>\n",
              "      <td>2</td>\n",
              "      <td>0</td>\n",
              "      <td>1</td>\n",
              "    </tr>\n",
              "    <tr>\n",
              "      <th>4</th>\n",
              "      <td>4</td>\n",
              "      <td>12/01/20</td>\n",
              "      <td>2</td>\n",
              "      <td>31.0</td>\n",
              "      <td>0.0</td>\n",
              "      <td>C7</td>\n",
              "      <td>2</td>\n",
              "      <td>67016</td>\n",
              "      <td>11/06/20</td>\n",
              "      <td>NaN</td>\n",
              "      <td>2</td>\n",
              "      <td>2</td>\n",
              "      <td>0</td>\n",
              "      <td>1</td>\n",
              "    </tr>\n",
              "  </tbody>\n",
              "</table>\n",
              "</div>\n",
              "      <button class=\"colab-df-convert\" onclick=\"convertToInteractive('df-51df5cff-1f77-44f2-9162-1f0fd29d0d35')\"\n",
              "              title=\"Convert this dataframe to an interactive table.\"\n",
              "              style=\"display:none;\">\n",
              "        \n",
              "  <svg xmlns=\"http://www.w3.org/2000/svg\" height=\"24px\"viewBox=\"0 0 24 24\"\n",
              "       width=\"24px\">\n",
              "    <path d=\"M0 0h24v24H0V0z\" fill=\"none\"/>\n",
              "    <path d=\"M18.56 5.44l.94 2.06.94-2.06 2.06-.94-2.06-.94-.94-2.06-.94 2.06-2.06.94zm-11 1L8.5 8.5l.94-2.06 2.06-.94-2.06-.94L8.5 2.5l-.94 2.06-2.06.94zm10 10l.94 2.06.94-2.06 2.06-.94-2.06-.94-.94-2.06-.94 2.06-2.06.94z\"/><path d=\"M17.41 7.96l-1.37-1.37c-.4-.4-.92-.59-1.43-.59-.52 0-1.04.2-1.43.59L10.3 9.45l-7.72 7.72c-.78.78-.78 2.05 0 2.83L4 21.41c.39.39.9.59 1.41.59.51 0 1.02-.2 1.41-.59l7.78-7.78 2.81-2.81c.8-.78.8-2.07 0-2.86zM5.41 20L4 18.59l7.72-7.72 1.47 1.35L5.41 20z\"/>\n",
              "  </svg>\n",
              "      </button>\n",
              "      \n",
              "  <style>\n",
              "    .colab-df-container {\n",
              "      display:flex;\n",
              "      flex-wrap:wrap;\n",
              "      gap: 12px;\n",
              "    }\n",
              "\n",
              "    .colab-df-convert {\n",
              "      background-color: #E8F0FE;\n",
              "      border: none;\n",
              "      border-radius: 50%;\n",
              "      cursor: pointer;\n",
              "      display: none;\n",
              "      fill: #1967D2;\n",
              "      height: 32px;\n",
              "      padding: 0 0 0 0;\n",
              "      width: 32px;\n",
              "    }\n",
              "\n",
              "    .colab-df-convert:hover {\n",
              "      background-color: #E2EBFA;\n",
              "      box-shadow: 0px 1px 2px rgba(60, 64, 67, 0.3), 0px 1px 3px 1px rgba(60, 64, 67, 0.15);\n",
              "      fill: #174EA6;\n",
              "    }\n",
              "\n",
              "    [theme=dark] .colab-df-convert {\n",
              "      background-color: #3B4455;\n",
              "      fill: #D2E3FC;\n",
              "    }\n",
              "\n",
              "    [theme=dark] .colab-df-convert:hover {\n",
              "      background-color: #434B5C;\n",
              "      box-shadow: 0px 1px 3px 1px rgba(0, 0, 0, 0.15);\n",
              "      filter: drop-shadow(0px 1px 2px rgba(0, 0, 0, 0.3));\n",
              "      fill: #FFFFFF;\n",
              "    }\n",
              "  </style>\n",
              "\n",
              "      <script>\n",
              "        const buttonEl =\n",
              "          document.querySelector('#df-51df5cff-1f77-44f2-9162-1f0fd29d0d35 button.colab-df-convert');\n",
              "        buttonEl.style.display =\n",
              "          google.colab.kernel.accessAllowed ? 'block' : 'none';\n",
              "\n",
              "        async function convertToInteractive(key) {\n",
              "          const element = document.querySelector('#df-51df5cff-1f77-44f2-9162-1f0fd29d0d35');\n",
              "          const dataTable =\n",
              "            await google.colab.kernel.invokeFunction('convertToInteractive',\n",
              "                                                     [key], {});\n",
              "          if (!dataTable) return;\n",
              "\n",
              "          const docLinkHtml = 'Like what you see? Visit the ' +\n",
              "            '<a target=\"_blank\" href=https://colab.research.google.com/notebooks/data_table.ipynb>data table notebook</a>'\n",
              "            + ' to learn more about interactive tables.';\n",
              "          element.innerHTML = '';\n",
              "          dataTable['output_type'] = 'display_data';\n",
              "          await google.colab.output.renderOutput(dataTable, element);\n",
              "          const docLink = document.createElement('div');\n",
              "          docLink.innerHTML = docLinkHtml;\n",
              "          element.appendChild(docLink);\n",
              "        }\n",
              "      </script>\n",
              "    </div>\n",
              "  </div>\n",
              "  "
            ]
          },
          "metadata": {},
          "execution_count": 202
        }
      ]
    },
    {
      "cell_type": "code",
      "source": [
        "demo_df = df.copy(deep = True)"
      ],
      "metadata": {
        "id": "Dgq9BaEFpdNm"
      },
      "execution_count": null,
      "outputs": []
    },
    {
      "cell_type": "code",
      "source": [
        "df.drop(columns = ['Unnamed: 0'] ,inplace = True)"
      ],
      "metadata": {
        "id": "_d989im8vpBg"
      },
      "execution_count": null,
      "outputs": []
    },
    {
      "cell_type": "code",
      "source": [
        "df.info()"
      ],
      "metadata": {
        "colab": {
          "base_uri": "https://localhost:8080/"
        },
        "id": "o5l_U8zJwMDH",
        "outputId": "adcca4bb-4fa2-4edb-9f88-181e4c998cf6"
      },
      "execution_count": null,
      "outputs": [
        {
          "output_type": "stream",
          "name": "stdout",
          "text": [
            "<class 'pandas.core.frame.DataFrame'>\n",
            "RangeIndex: 19104 entries, 0 to 19103\n",
            "Data columns (total 13 columns):\n",
            " #   Column                Non-Null Count  Dtype  \n",
            "---  ------                --------------  -----  \n",
            " 0   MMM-YY                19104 non-null  object \n",
            " 1   Driver_ID             19104 non-null  int64  \n",
            " 2   Age                   19043 non-null  float64\n",
            " 3   Gender                19052 non-null  float64\n",
            " 4   City                  19104 non-null  object \n",
            " 5   Education_Level       19104 non-null  int64  \n",
            " 6   Income                19104 non-null  int64  \n",
            " 7   Dateofjoining         19104 non-null  object \n",
            " 8   LastWorkingDate       1616 non-null   object \n",
            " 9   Joining Designation   19104 non-null  int64  \n",
            " 10  Grade                 19104 non-null  int64  \n",
            " 11  Total Business Value  19104 non-null  int64  \n",
            " 12  Quarterly Rating      19104 non-null  int64  \n",
            "dtypes: float64(2), int64(7), object(4)\n",
            "memory usage: 1.9+ MB\n"
          ]
        }
      ]
    },
    {
      "cell_type": "code",
      "source": [
        "convert_dict = {'MMM-YY': np.datetime64,\n",
        "                'Dateofjoining': np.datetime64\n",
        "              \n",
        "                }\n",
        " \n",
        "df = df.astype(convert_dict)"
      ],
      "metadata": {
        "id": "soJ43DNswWQk"
      },
      "execution_count": null,
      "outputs": []
    },
    {
      "cell_type": "markdown",
      "source": [
        "# data normalization"
      ],
      "metadata": {
        "id": "iXM5nt3rJ0KF"
      }
    },
    {
      "cell_type": "code",
      "source": [
        "columns = ['Age','Income','Total Business Value']\n",
        "for col in columns:\n",
        "  df[col] = (df[col] - np.mean(df[col]))/np.std(df[col])"
      ],
      "metadata": {
        "id": "lsdrrqwZGtv0"
      },
      "execution_count": null,
      "outputs": []
    },
    {
      "cell_type": "markdown",
      "source": [
        "# checking for null values"
      ],
      "metadata": {
        "id": "nOO12A0Lxi5s"
      }
    },
    {
      "cell_type": "code",
      "source": [
        "# summarize the number of rows with missing values for each column\n",
        "for col in df.columns:\n",
        "\t# count number of rows with missing values\n",
        "\tn_miss = df[[col]].isnull().sum()\n",
        "\tperc = n_miss / df.shape[0] * 100\n",
        "\tprint('> %s, Missing: %d (%.1f%%)' % (col, n_miss, perc))"
      ],
      "metadata": {
        "colab": {
          "base_uri": "https://localhost:8080/"
        },
        "id": "ZIje-wqPxaCa",
        "outputId": "e37d0500-85f9-494e-f290-3ef0b907744f"
      },
      "execution_count": null,
      "outputs": [
        {
          "output_type": "stream",
          "name": "stdout",
          "text": [
            "> MMM-YY, Missing: 0 (0.0%)\n",
            "> Driver_ID, Missing: 0 (0.0%)\n",
            "> Age, Missing: 61 (0.3%)\n",
            "> Gender, Missing: 52 (0.3%)\n",
            "> City, Missing: 0 (0.0%)\n",
            "> Education_Level, Missing: 0 (0.0%)\n",
            "> Income, Missing: 0 (0.0%)\n",
            "> Dateofjoining, Missing: 0 (0.0%)\n",
            "> LastWorkingDate, Missing: 17488 (91.5%)\n",
            "> Joining Designation, Missing: 0 (0.0%)\n",
            "> Grade, Missing: 0 (0.0%)\n",
            "> Total Business Value, Missing: 0 (0.0%)\n",
            "> Quarterly Rating, Missing: 0 (0.0%)\n"
          ]
        }
      ]
    },
    {
      "cell_type": "markdown",
      "source": [
        "here we can see 91.5 % of data from last working date column is null"
      ],
      "metadata": {
        "id": "uCYO1lahx3Ru"
      }
    },
    {
      "cell_type": "markdown",
      "source": [
        "# KNN imputation"
      ],
      "metadata": {
        "id": "RE1kyskUyDRc"
      }
    },
    {
      "cell_type": "code",
      "source": [
        "from sklearn.model_selection import train_test_split\n",
        "from scipy.stats import zscore"
      ],
      "metadata": {
        "id": "WX7ElLBCJxRC"
      },
      "execution_count": null,
      "outputs": []
    },
    {
      "cell_type": "code",
      "source": [
        "df.columns"
      ],
      "metadata": {
        "colab": {
          "base_uri": "https://localhost:8080/"
        },
        "id": "f_Ei9k6uOgJ2",
        "outputId": "f54a8d00-e3e1-4658-8740-93d48e72ee5c"
      },
      "execution_count": null,
      "outputs": [
        {
          "output_type": "execute_result",
          "data": {
            "text/plain": [
              "Index(['MMM-YY', 'Driver_ID', 'Age', 'Gender', 'City', 'Education_Level',\n",
              "       'Income', 'Dateofjoining', 'LastWorkingDate', 'Joining Designation',\n",
              "       'Grade', 'Total Business Value', 'Quarterly Rating'],\n",
              "      dtype='object')"
            ]
          },
          "metadata": {},
          "execution_count": 210
        }
      ]
    },
    {
      "cell_type": "code",
      "source": [
        "df.info()"
      ],
      "metadata": {
        "colab": {
          "base_uri": "https://localhost:8080/"
        },
        "id": "D78l8pR0Q1hZ",
        "outputId": "e9a39642-66b7-492f-a8f7-66da88229e79"
      },
      "execution_count": null,
      "outputs": [
        {
          "output_type": "stream",
          "name": "stdout",
          "text": [
            "<class 'pandas.core.frame.DataFrame'>\n",
            "RangeIndex: 19104 entries, 0 to 19103\n",
            "Data columns (total 13 columns):\n",
            " #   Column                Non-Null Count  Dtype         \n",
            "---  ------                --------------  -----         \n",
            " 0   MMM-YY                19104 non-null  datetime64[ns]\n",
            " 1   Driver_ID             19104 non-null  int64         \n",
            " 2   Age                   19043 non-null  float64       \n",
            " 3   Gender                19052 non-null  float64       \n",
            " 4   City                  19104 non-null  object        \n",
            " 5   Education_Level       19104 non-null  int64         \n",
            " 6   Income                19104 non-null  float64       \n",
            " 7   Dateofjoining         19104 non-null  datetime64[ns]\n",
            " 8   LastWorkingDate       1616 non-null   object        \n",
            " 9   Joining Designation   19104 non-null  int64         \n",
            " 10  Grade                 19104 non-null  int64         \n",
            " 11  Total Business Value  19104 non-null  float64       \n",
            " 12  Quarterly Rating      19104 non-null  int64         \n",
            "dtypes: datetime64[ns](2), float64(4), int64(5), object(2)\n",
            "memory usage: 1.9+ MB\n"
          ]
        }
      ]
    },
    {
      "cell_type": "markdown",
      "source": [
        "**Imputation of only countinious variable which is 'Age' in our case**"
      ],
      "metadata": {
        "id": "Nar95a9qTU1q"
      }
    },
    {
      "cell_type": "markdown",
      "source": [
        "**data normalization**"
      ],
      "metadata": {
        "id": "S_-JUVLrvS2A"
      }
    },
    {
      "cell_type": "code",
      "source": [
        "df.columns"
      ],
      "metadata": {
        "colab": {
          "base_uri": "https://localhost:8080/"
        },
        "id": "v-JQRfNkGKoL",
        "outputId": "b416ff0d-7a97-49a8-f404-99a01982e78f"
      },
      "execution_count": null,
      "outputs": [
        {
          "output_type": "execute_result",
          "data": {
            "text/plain": [
              "Index(['MMM-YY', 'Driver_ID', 'Age', 'Gender', 'City', 'Education_Level',\n",
              "       'Income', 'Dateofjoining', 'LastWorkingDate', 'Joining Designation',\n",
              "       'Grade', 'Total Business Value', 'Quarterly Rating'],\n",
              "      dtype='object')"
            ]
          },
          "metadata": {},
          "execution_count": 212
        }
      ]
    },
    {
      "cell_type": "code",
      "source": [
        "df1 = df.drop(columns = ['MMM-YY','City','Dateofjoining', 'LastWorkingDate','Gender'])"
      ],
      "metadata": {
        "id": "DOmVMI0WFUUG"
      },
      "execution_count": null,
      "outputs": []
    },
    {
      "cell_type": "code",
      "source": [
        "df1"
      ],
      "metadata": {
        "colab": {
          "base_uri": "https://localhost:8080/",
          "height": 424
        },
        "id": "BJWy6NJ2GrdF",
        "outputId": "143b83b0-021f-44bc-ba20-d47794b0f6af"
      },
      "execution_count": null,
      "outputs": [
        {
          "output_type": "execute_result",
          "data": {
            "text/plain": [
              "       Driver_ID       Age  Education_Level    Income  Joining Designation  \\\n",
              "0              1 -1.065629                2 -0.267358                    1   \n",
              "1              1 -1.065629                2 -0.267358                    1   \n",
              "2              1 -1.065629                2 -0.267358                    1   \n",
              "3              2 -0.586223                2  0.044122                    2   \n",
              "4              2 -0.586223                2  0.044122                    2   \n",
              "...          ...       ...              ...       ...                  ...   \n",
              "19099       2788 -0.746025                2  0.148865                    2   \n",
              "19100       2788 -0.746025                2  0.148865                    2   \n",
              "19101       2788 -0.746025                2  0.148865                    2   \n",
              "19102       2788 -0.746025                2  0.148865                    2   \n",
              "19103       2788 -0.746025                2  0.148865                    2   \n",
              "\n",
              "       Grade  Total Business Value  Quarterly Rating  \n",
              "0          1              1.603674                 2  \n",
              "1          1             -1.096482                 2  \n",
              "2          1             -0.506666                 2  \n",
              "3          2             -0.506666                 1  \n",
              "4          2             -0.506666                 1  \n",
              "...      ...                   ...               ...  \n",
              "19099      2              0.149447                 3  \n",
              "19100      2             -0.109274                 3  \n",
              "19101      2             -0.506666                 2  \n",
              "19102      2             -0.329033                 2  \n",
              "19103      2             -0.141970                 2  \n",
              "\n",
              "[19104 rows x 8 columns]"
            ],
            "text/html": [
              "\n",
              "  <div id=\"df-80860f4f-b90d-4aa1-9725-18cfdf84d747\">\n",
              "    <div class=\"colab-df-container\">\n",
              "      <div>\n",
              "<style scoped>\n",
              "    .dataframe tbody tr th:only-of-type {\n",
              "        vertical-align: middle;\n",
              "    }\n",
              "\n",
              "    .dataframe tbody tr th {\n",
              "        vertical-align: top;\n",
              "    }\n",
              "\n",
              "    .dataframe thead th {\n",
              "        text-align: right;\n",
              "    }\n",
              "</style>\n",
              "<table border=\"1\" class=\"dataframe\">\n",
              "  <thead>\n",
              "    <tr style=\"text-align: right;\">\n",
              "      <th></th>\n",
              "      <th>Driver_ID</th>\n",
              "      <th>Age</th>\n",
              "      <th>Education_Level</th>\n",
              "      <th>Income</th>\n",
              "      <th>Joining Designation</th>\n",
              "      <th>Grade</th>\n",
              "      <th>Total Business Value</th>\n",
              "      <th>Quarterly Rating</th>\n",
              "    </tr>\n",
              "  </thead>\n",
              "  <tbody>\n",
              "    <tr>\n",
              "      <th>0</th>\n",
              "      <td>1</td>\n",
              "      <td>-1.065629</td>\n",
              "      <td>2</td>\n",
              "      <td>-0.267358</td>\n",
              "      <td>1</td>\n",
              "      <td>1</td>\n",
              "      <td>1.603674</td>\n",
              "      <td>2</td>\n",
              "    </tr>\n",
              "    <tr>\n",
              "      <th>1</th>\n",
              "      <td>1</td>\n",
              "      <td>-1.065629</td>\n",
              "      <td>2</td>\n",
              "      <td>-0.267358</td>\n",
              "      <td>1</td>\n",
              "      <td>1</td>\n",
              "      <td>-1.096482</td>\n",
              "      <td>2</td>\n",
              "    </tr>\n",
              "    <tr>\n",
              "      <th>2</th>\n",
              "      <td>1</td>\n",
              "      <td>-1.065629</td>\n",
              "      <td>2</td>\n",
              "      <td>-0.267358</td>\n",
              "      <td>1</td>\n",
              "      <td>1</td>\n",
              "      <td>-0.506666</td>\n",
              "      <td>2</td>\n",
              "    </tr>\n",
              "    <tr>\n",
              "      <th>3</th>\n",
              "      <td>2</td>\n",
              "      <td>-0.586223</td>\n",
              "      <td>2</td>\n",
              "      <td>0.044122</td>\n",
              "      <td>2</td>\n",
              "      <td>2</td>\n",
              "      <td>-0.506666</td>\n",
              "      <td>1</td>\n",
              "    </tr>\n",
              "    <tr>\n",
              "      <th>4</th>\n",
              "      <td>2</td>\n",
              "      <td>-0.586223</td>\n",
              "      <td>2</td>\n",
              "      <td>0.044122</td>\n",
              "      <td>2</td>\n",
              "      <td>2</td>\n",
              "      <td>-0.506666</td>\n",
              "      <td>1</td>\n",
              "    </tr>\n",
              "    <tr>\n",
              "      <th>...</th>\n",
              "      <td>...</td>\n",
              "      <td>...</td>\n",
              "      <td>...</td>\n",
              "      <td>...</td>\n",
              "      <td>...</td>\n",
              "      <td>...</td>\n",
              "      <td>...</td>\n",
              "      <td>...</td>\n",
              "    </tr>\n",
              "    <tr>\n",
              "      <th>19099</th>\n",
              "      <td>2788</td>\n",
              "      <td>-0.746025</td>\n",
              "      <td>2</td>\n",
              "      <td>0.148865</td>\n",
              "      <td>2</td>\n",
              "      <td>2</td>\n",
              "      <td>0.149447</td>\n",
              "      <td>3</td>\n",
              "    </tr>\n",
              "    <tr>\n",
              "      <th>19100</th>\n",
              "      <td>2788</td>\n",
              "      <td>-0.746025</td>\n",
              "      <td>2</td>\n",
              "      <td>0.148865</td>\n",
              "      <td>2</td>\n",
              "      <td>2</td>\n",
              "      <td>-0.109274</td>\n",
              "      <td>3</td>\n",
              "    </tr>\n",
              "    <tr>\n",
              "      <th>19101</th>\n",
              "      <td>2788</td>\n",
              "      <td>-0.746025</td>\n",
              "      <td>2</td>\n",
              "      <td>0.148865</td>\n",
              "      <td>2</td>\n",
              "      <td>2</td>\n",
              "      <td>-0.506666</td>\n",
              "      <td>2</td>\n",
              "    </tr>\n",
              "    <tr>\n",
              "      <th>19102</th>\n",
              "      <td>2788</td>\n",
              "      <td>-0.746025</td>\n",
              "      <td>2</td>\n",
              "      <td>0.148865</td>\n",
              "      <td>2</td>\n",
              "      <td>2</td>\n",
              "      <td>-0.329033</td>\n",
              "      <td>2</td>\n",
              "    </tr>\n",
              "    <tr>\n",
              "      <th>19103</th>\n",
              "      <td>2788</td>\n",
              "      <td>-0.746025</td>\n",
              "      <td>2</td>\n",
              "      <td>0.148865</td>\n",
              "      <td>2</td>\n",
              "      <td>2</td>\n",
              "      <td>-0.141970</td>\n",
              "      <td>2</td>\n",
              "    </tr>\n",
              "  </tbody>\n",
              "</table>\n",
              "<p>19104 rows × 8 columns</p>\n",
              "</div>\n",
              "      <button class=\"colab-df-convert\" onclick=\"convertToInteractive('df-80860f4f-b90d-4aa1-9725-18cfdf84d747')\"\n",
              "              title=\"Convert this dataframe to an interactive table.\"\n",
              "              style=\"display:none;\">\n",
              "        \n",
              "  <svg xmlns=\"http://www.w3.org/2000/svg\" height=\"24px\"viewBox=\"0 0 24 24\"\n",
              "       width=\"24px\">\n",
              "    <path d=\"M0 0h24v24H0V0z\" fill=\"none\"/>\n",
              "    <path d=\"M18.56 5.44l.94 2.06.94-2.06 2.06-.94-2.06-.94-.94-2.06-.94 2.06-2.06.94zm-11 1L8.5 8.5l.94-2.06 2.06-.94-2.06-.94L8.5 2.5l-.94 2.06-2.06.94zm10 10l.94 2.06.94-2.06 2.06-.94-2.06-.94-.94-2.06-.94 2.06-2.06.94z\"/><path d=\"M17.41 7.96l-1.37-1.37c-.4-.4-.92-.59-1.43-.59-.52 0-1.04.2-1.43.59L10.3 9.45l-7.72 7.72c-.78.78-.78 2.05 0 2.83L4 21.41c.39.39.9.59 1.41.59.51 0 1.02-.2 1.41-.59l7.78-7.78 2.81-2.81c.8-.78.8-2.07 0-2.86zM5.41 20L4 18.59l7.72-7.72 1.47 1.35L5.41 20z\"/>\n",
              "  </svg>\n",
              "      </button>\n",
              "      \n",
              "  <style>\n",
              "    .colab-df-container {\n",
              "      display:flex;\n",
              "      flex-wrap:wrap;\n",
              "      gap: 12px;\n",
              "    }\n",
              "\n",
              "    .colab-df-convert {\n",
              "      background-color: #E8F0FE;\n",
              "      border: none;\n",
              "      border-radius: 50%;\n",
              "      cursor: pointer;\n",
              "      display: none;\n",
              "      fill: #1967D2;\n",
              "      height: 32px;\n",
              "      padding: 0 0 0 0;\n",
              "      width: 32px;\n",
              "    }\n",
              "\n",
              "    .colab-df-convert:hover {\n",
              "      background-color: #E2EBFA;\n",
              "      box-shadow: 0px 1px 2px rgba(60, 64, 67, 0.3), 0px 1px 3px 1px rgba(60, 64, 67, 0.15);\n",
              "      fill: #174EA6;\n",
              "    }\n",
              "\n",
              "    [theme=dark] .colab-df-convert {\n",
              "      background-color: #3B4455;\n",
              "      fill: #D2E3FC;\n",
              "    }\n",
              "\n",
              "    [theme=dark] .colab-df-convert:hover {\n",
              "      background-color: #434B5C;\n",
              "      box-shadow: 0px 1px 3px 1px rgba(0, 0, 0, 0.15);\n",
              "      filter: drop-shadow(0px 1px 2px rgba(0, 0, 0, 0.3));\n",
              "      fill: #FFFFFF;\n",
              "    }\n",
              "  </style>\n",
              "\n",
              "      <script>\n",
              "        const buttonEl =\n",
              "          document.querySelector('#df-80860f4f-b90d-4aa1-9725-18cfdf84d747 button.colab-df-convert');\n",
              "        buttonEl.style.display =\n",
              "          google.colab.kernel.accessAllowed ? 'block' : 'none';\n",
              "\n",
              "        async function convertToInteractive(key) {\n",
              "          const element = document.querySelector('#df-80860f4f-b90d-4aa1-9725-18cfdf84d747');\n",
              "          const dataTable =\n",
              "            await google.colab.kernel.invokeFunction('convertToInteractive',\n",
              "                                                     [key], {});\n",
              "          if (!dataTable) return;\n",
              "\n",
              "          const docLinkHtml = 'Like what you see? Visit the ' +\n",
              "            '<a target=\"_blank\" href=https://colab.research.google.com/notebooks/data_table.ipynb>data table notebook</a>'\n",
              "            + ' to learn more about interactive tables.';\n",
              "          element.innerHTML = '';\n",
              "          dataTable['output_type'] = 'display_data';\n",
              "          await google.colab.output.renderOutput(dataTable, element);\n",
              "          const docLink = document.createElement('div');\n",
              "          docLink.innerHTML = docLinkHtml;\n",
              "          element.appendChild(docLink);\n",
              "        }\n",
              "      </script>\n",
              "    </div>\n",
              "  </div>\n",
              "  "
            ]
          },
          "metadata": {},
          "execution_count": 214
        }
      ]
    },
    {
      "cell_type": "code",
      "source": [
        "from sklearn.impute import KNNImputer\n",
        "\n",
        "imputer = KNNImputer(n_neighbors=3)\n",
        "imputed = imputer.fit_transform(df1)\n",
        "df_imputed = pd.DataFrame(imputed, columns=df1.columns)"
      ],
      "metadata": {
        "id": "aNVCPJe6REc0"
      },
      "execution_count": null,
      "outputs": []
    },
    {
      "cell_type": "code",
      "source": [
        "df['Age'] = df_imputed['Age']"
      ],
      "metadata": {
        "id": "wkqdhzAkGliy"
      },
      "execution_count": null,
      "outputs": []
    },
    {
      "cell_type": "markdown",
      "source": [
        "# Grouby data over driver id & feature creation"
      ],
      "metadata": {
        "id": "QE_jHaJ7Yjo0"
      }
    },
    {
      "cell_type": "code",
      "source": [
        "df_final = demo_df.groupby(['Driver_ID','Age','Gender','City','Education_Level','Dateofjoining','Joining Designation','Grade']).agg({'MMM-YY':'last',\n",
        "                                                                                                                                                   'Total Business Value' : ['first','last'],\n",
        "                                                                                                                                                   'Quarterly Rating' : ['first','last'],'LastWorkingDate':'last'})\n",
        "                                                                                                                                    \n"
      ],
      "metadata": {
        "id": "slLhPWWlRrp1"
      },
      "execution_count": null,
      "outputs": []
    },
    {
      "cell_type": "code",
      "source": [
        "df_final"
      ],
      "metadata": {
        "colab": {
          "base_uri": "https://localhost:8080/",
          "height": 486
        },
        "id": "492R84F8YHl8",
        "outputId": "d82d49a7-14ca-4e65-d224-ee4680d9d97e"
      },
      "execution_count": null,
      "outputs": [
        {
          "output_type": "execute_result",
          "data": {
            "text/plain": [
              "                                                                                      MMM-YY  \\\n",
              "                                                                                        last   \n",
              "Driver_ID Age  Gender City Education_Level Dateofjoining Joining Designation Grade             \n",
              "1         28.0 0.0    C23  2               24/12/18      1                   1      03/01/19   \n",
              "2         31.0 0.0    C7   2               11/06/20      2                   2      12/01/20   \n",
              "4         43.0 0.0    C13  2               12/07/19      2                   2      04/01/20   \n",
              "5         29.0 0.0    C9   0               01/09/19      1                   1      03/01/19   \n",
              "6         31.0 1.0    C11  1               31/07/20      3                   3      12/01/20   \n",
              "...                                                                                      ...   \n",
              "2786      44.0 0.0    C19  0               31/07/18      2                   2      01/01/19   \n",
              "          45.0 0.0    C19  0               31/07/18      2                   2      09/01/19   \n",
              "2787      28.0 1.0    C20  2               21/07/18      1                   1      06/01/19   \n",
              "2788      29.0 0.0    C27  2               06/08/20      2                   2      06/01/20   \n",
              "          30.0 0.0    C27  2               06/08/20      2                   2      12/01/20   \n",
              "\n",
              "                                                                                   Total Business Value  \\\n",
              "                                                                                                  first   \n",
              "Driver_ID Age  Gender City Education_Level Dateofjoining Joining Designation Grade                        \n",
              "1         28.0 0.0    C23  2               24/12/18      1                   1                  2381060   \n",
              "2         31.0 0.0    C7   2               11/06/20      2                   2                        0   \n",
              "4         43.0 0.0    C13  2               12/07/19      2                   2                        0   \n",
              "5         29.0 0.0    C9   0               01/09/19      1                   1                        0   \n",
              "6         31.0 1.0    C11  1               31/07/20      3                   3                        0   \n",
              "...                                                                                                 ...   \n",
              "2786      44.0 0.0    C19  0               31/07/18      2                   2                   221080   \n",
              "          45.0 0.0    C19  0               31/07/18      2                   2                   485270   \n",
              "2787      28.0 1.0    C20  2               21/07/18      1                   1                   408090   \n",
              "2788      29.0 0.0    C27  2               06/08/20      2                   2                        0   \n",
              "          30.0 0.0    C27  2               06/08/20      2                   2                   497690   \n",
              "\n",
              "                                                                                            \\\n",
              "                                                                                      last   \n",
              "Driver_ID Age  Gender City Education_Level Dateofjoining Joining Designation Grade           \n",
              "1         28.0 0.0    C23  2               24/12/18      1                   1           0   \n",
              "2         31.0 0.0    C7   2               11/06/20      2                   2           0   \n",
              "4         43.0 0.0    C13  2               12/07/19      2                   2           0   \n",
              "5         29.0 0.0    C9   0               01/09/19      1                   1           0   \n",
              "6         31.0 1.0    C11  1               31/07/20      3                   3           0   \n",
              "...                                                                                    ...   \n",
              "2786      44.0 0.0    C19  0               31/07/18      2                   2      221080   \n",
              "          45.0 0.0    C19  0               31/07/18      2                   2           0   \n",
              "2787      28.0 1.0    C20  2               21/07/18      1                   1           0   \n",
              "2788      29.0 0.0    C27  2               06/08/20      2                   2           0   \n",
              "          30.0 0.0    C27  2               06/08/20      2                   2      411480   \n",
              "\n",
              "                                                                                   Quarterly Rating  \\\n",
              "                                                                                              first   \n",
              "Driver_ID Age  Gender City Education_Level Dateofjoining Joining Designation Grade                    \n",
              "1         28.0 0.0    C23  2               24/12/18      1                   1                    2   \n",
              "2         31.0 0.0    C7   2               11/06/20      2                   2                    1   \n",
              "4         43.0 0.0    C13  2               12/07/19      2                   2                    1   \n",
              "5         29.0 0.0    C9   0               01/09/19      1                   1                    1   \n",
              "6         31.0 1.0    C11  1               31/07/20      3                   3                    1   \n",
              "...                                                                                             ...   \n",
              "2786      44.0 0.0    C19  0               31/07/18      2                   2                    2   \n",
              "          45.0 0.0    C19  0               31/07/18      2                   2                    2   \n",
              "2787      28.0 1.0    C20  2               21/07/18      1                   1                    2   \n",
              "2788      29.0 0.0    C27  2               06/08/20      2                   2                    1   \n",
              "          30.0 0.0    C27  2               06/08/20      2                   2                    3   \n",
              "\n",
              "                                                                                         \\\n",
              "                                                                                   last   \n",
              "Driver_ID Age  Gender City Education_Level Dateofjoining Joining Designation Grade        \n",
              "1         28.0 0.0    C23  2               24/12/18      1                   1        2   \n",
              "2         31.0 0.0    C7   2               11/06/20      2                   2        1   \n",
              "4         43.0 0.0    C13  2               12/07/19      2                   2        1   \n",
              "5         29.0 0.0    C9   0               01/09/19      1                   1        1   \n",
              "6         31.0 1.0    C11  1               31/07/20      3                   3        2   \n",
              "...                                                                                 ...   \n",
              "2786      44.0 0.0    C19  0               31/07/18      2                   2        2   \n",
              "          45.0 0.0    C19  0               31/07/18      2                   2        1   \n",
              "2787      28.0 1.0    C20  2               21/07/18      1                   1        1   \n",
              "2788      29.0 0.0    C27  2               06/08/20      2                   2        1   \n",
              "          30.0 0.0    C27  2               06/08/20      2                   2        2   \n",
              "\n",
              "                                                                                   LastWorkingDate  \n",
              "                                                                                              last  \n",
              "Driver_ID Age  Gender City Education_Level Dateofjoining Joining Designation Grade                  \n",
              "1         28.0 0.0    C23  2               24/12/18      1                   1            03/11/19  \n",
              "2         31.0 0.0    C7   2               11/06/20      2                   2                None  \n",
              "4         43.0 0.0    C13  2               12/07/19      2                   2            27/04/20  \n",
              "5         29.0 0.0    C9   0               01/09/19      1                   1            03/07/19  \n",
              "6         31.0 1.0    C11  1               31/07/20      3                   3                None  \n",
              "...                                                                                            ...  \n",
              "2786      44.0 0.0    C19  0               31/07/18      2                   2                None  \n",
              "          45.0 0.0    C19  0               31/07/18      2                   2            22/09/19  \n",
              "2787      28.0 1.0    C20  2               21/07/18      1                   1            20/06/19  \n",
              "2788      29.0 0.0    C27  2               06/08/20      2                   2                None  \n",
              "          30.0 0.0    C27  2               06/08/20      2                   2                None  \n",
              "\n",
              "[3783 rows x 6 columns]"
            ],
            "text/html": [
              "\n",
              "  <div id=\"df-6724f3bb-52d8-4ff4-989c-b86fbffac938\">\n",
              "    <div class=\"colab-df-container\">\n",
              "      <div>\n",
              "<style scoped>\n",
              "    .dataframe tbody tr th:only-of-type {\n",
              "        vertical-align: middle;\n",
              "    }\n",
              "\n",
              "    .dataframe tbody tr th {\n",
              "        vertical-align: top;\n",
              "    }\n",
              "\n",
              "    .dataframe thead tr th {\n",
              "        text-align: left;\n",
              "    }\n",
              "\n",
              "    .dataframe thead tr:last-of-type th {\n",
              "        text-align: right;\n",
              "    }\n",
              "</style>\n",
              "<table border=\"1\" class=\"dataframe\">\n",
              "  <thead>\n",
              "    <tr>\n",
              "      <th></th>\n",
              "      <th></th>\n",
              "      <th></th>\n",
              "      <th></th>\n",
              "      <th></th>\n",
              "      <th></th>\n",
              "      <th></th>\n",
              "      <th></th>\n",
              "      <th>MMM-YY</th>\n",
              "      <th colspan=\"2\" halign=\"left\">Total Business Value</th>\n",
              "      <th colspan=\"2\" halign=\"left\">Quarterly Rating</th>\n",
              "      <th>LastWorkingDate</th>\n",
              "    </tr>\n",
              "    <tr>\n",
              "      <th></th>\n",
              "      <th></th>\n",
              "      <th></th>\n",
              "      <th></th>\n",
              "      <th></th>\n",
              "      <th></th>\n",
              "      <th></th>\n",
              "      <th></th>\n",
              "      <th>last</th>\n",
              "      <th>first</th>\n",
              "      <th>last</th>\n",
              "      <th>first</th>\n",
              "      <th>last</th>\n",
              "      <th>last</th>\n",
              "    </tr>\n",
              "    <tr>\n",
              "      <th>Driver_ID</th>\n",
              "      <th>Age</th>\n",
              "      <th>Gender</th>\n",
              "      <th>City</th>\n",
              "      <th>Education_Level</th>\n",
              "      <th>Dateofjoining</th>\n",
              "      <th>Joining Designation</th>\n",
              "      <th>Grade</th>\n",
              "      <th></th>\n",
              "      <th></th>\n",
              "      <th></th>\n",
              "      <th></th>\n",
              "      <th></th>\n",
              "      <th></th>\n",
              "    </tr>\n",
              "  </thead>\n",
              "  <tbody>\n",
              "    <tr>\n",
              "      <th>1</th>\n",
              "      <th>28.0</th>\n",
              "      <th>0.0</th>\n",
              "      <th>C23</th>\n",
              "      <th>2</th>\n",
              "      <th>24/12/18</th>\n",
              "      <th>1</th>\n",
              "      <th>1</th>\n",
              "      <td>03/01/19</td>\n",
              "      <td>2381060</td>\n",
              "      <td>0</td>\n",
              "      <td>2</td>\n",
              "      <td>2</td>\n",
              "      <td>03/11/19</td>\n",
              "    </tr>\n",
              "    <tr>\n",
              "      <th>2</th>\n",
              "      <th>31.0</th>\n",
              "      <th>0.0</th>\n",
              "      <th>C7</th>\n",
              "      <th>2</th>\n",
              "      <th>11/06/20</th>\n",
              "      <th>2</th>\n",
              "      <th>2</th>\n",
              "      <td>12/01/20</td>\n",
              "      <td>0</td>\n",
              "      <td>0</td>\n",
              "      <td>1</td>\n",
              "      <td>1</td>\n",
              "      <td>None</td>\n",
              "    </tr>\n",
              "    <tr>\n",
              "      <th>4</th>\n",
              "      <th>43.0</th>\n",
              "      <th>0.0</th>\n",
              "      <th>C13</th>\n",
              "      <th>2</th>\n",
              "      <th>12/07/19</th>\n",
              "      <th>2</th>\n",
              "      <th>2</th>\n",
              "      <td>04/01/20</td>\n",
              "      <td>0</td>\n",
              "      <td>0</td>\n",
              "      <td>1</td>\n",
              "      <td>1</td>\n",
              "      <td>27/04/20</td>\n",
              "    </tr>\n",
              "    <tr>\n",
              "      <th>5</th>\n",
              "      <th>29.0</th>\n",
              "      <th>0.0</th>\n",
              "      <th>C9</th>\n",
              "      <th>0</th>\n",
              "      <th>01/09/19</th>\n",
              "      <th>1</th>\n",
              "      <th>1</th>\n",
              "      <td>03/01/19</td>\n",
              "      <td>0</td>\n",
              "      <td>0</td>\n",
              "      <td>1</td>\n",
              "      <td>1</td>\n",
              "      <td>03/07/19</td>\n",
              "    </tr>\n",
              "    <tr>\n",
              "      <th>6</th>\n",
              "      <th>31.0</th>\n",
              "      <th>1.0</th>\n",
              "      <th>C11</th>\n",
              "      <th>1</th>\n",
              "      <th>31/07/20</th>\n",
              "      <th>3</th>\n",
              "      <th>3</th>\n",
              "      <td>12/01/20</td>\n",
              "      <td>0</td>\n",
              "      <td>0</td>\n",
              "      <td>1</td>\n",
              "      <td>2</td>\n",
              "      <td>None</td>\n",
              "    </tr>\n",
              "    <tr>\n",
              "      <th>...</th>\n",
              "      <th>...</th>\n",
              "      <th>...</th>\n",
              "      <th>...</th>\n",
              "      <th>...</th>\n",
              "      <th>...</th>\n",
              "      <th>...</th>\n",
              "      <th>...</th>\n",
              "      <td>...</td>\n",
              "      <td>...</td>\n",
              "      <td>...</td>\n",
              "      <td>...</td>\n",
              "      <td>...</td>\n",
              "      <td>...</td>\n",
              "    </tr>\n",
              "    <tr>\n",
              "      <th rowspan=\"2\" valign=\"top\">2786</th>\n",
              "      <th>44.0</th>\n",
              "      <th>0.0</th>\n",
              "      <th>C19</th>\n",
              "      <th>0</th>\n",
              "      <th>31/07/18</th>\n",
              "      <th>2</th>\n",
              "      <th>2</th>\n",
              "      <td>01/01/19</td>\n",
              "      <td>221080</td>\n",
              "      <td>221080</td>\n",
              "      <td>2</td>\n",
              "      <td>2</td>\n",
              "      <td>None</td>\n",
              "    </tr>\n",
              "    <tr>\n",
              "      <th>45.0</th>\n",
              "      <th>0.0</th>\n",
              "      <th>C19</th>\n",
              "      <th>0</th>\n",
              "      <th>31/07/18</th>\n",
              "      <th>2</th>\n",
              "      <th>2</th>\n",
              "      <td>09/01/19</td>\n",
              "      <td>485270</td>\n",
              "      <td>0</td>\n",
              "      <td>2</td>\n",
              "      <td>1</td>\n",
              "      <td>22/09/19</td>\n",
              "    </tr>\n",
              "    <tr>\n",
              "      <th>2787</th>\n",
              "      <th>28.0</th>\n",
              "      <th>1.0</th>\n",
              "      <th>C20</th>\n",
              "      <th>2</th>\n",
              "      <th>21/07/18</th>\n",
              "      <th>1</th>\n",
              "      <th>1</th>\n",
              "      <td>06/01/19</td>\n",
              "      <td>408090</td>\n",
              "      <td>0</td>\n",
              "      <td>2</td>\n",
              "      <td>1</td>\n",
              "      <td>20/06/19</td>\n",
              "    </tr>\n",
              "    <tr>\n",
              "      <th rowspan=\"2\" valign=\"top\">2788</th>\n",
              "      <th>29.0</th>\n",
              "      <th>0.0</th>\n",
              "      <th>C27</th>\n",
              "      <th>2</th>\n",
              "      <th>06/08/20</th>\n",
              "      <th>2</th>\n",
              "      <th>2</th>\n",
              "      <td>06/01/20</td>\n",
              "      <td>0</td>\n",
              "      <td>0</td>\n",
              "      <td>1</td>\n",
              "      <td>1</td>\n",
              "      <td>None</td>\n",
              "    </tr>\n",
              "    <tr>\n",
              "      <th>30.0</th>\n",
              "      <th>0.0</th>\n",
              "      <th>C27</th>\n",
              "      <th>2</th>\n",
              "      <th>06/08/20</th>\n",
              "      <th>2</th>\n",
              "      <th>2</th>\n",
              "      <td>12/01/20</td>\n",
              "      <td>497690</td>\n",
              "      <td>411480</td>\n",
              "      <td>3</td>\n",
              "      <td>2</td>\n",
              "      <td>None</td>\n",
              "    </tr>\n",
              "  </tbody>\n",
              "</table>\n",
              "<p>3783 rows × 6 columns</p>\n",
              "</div>\n",
              "      <button class=\"colab-df-convert\" onclick=\"convertToInteractive('df-6724f3bb-52d8-4ff4-989c-b86fbffac938')\"\n",
              "              title=\"Convert this dataframe to an interactive table.\"\n",
              "              style=\"display:none;\">\n",
              "        \n",
              "  <svg xmlns=\"http://www.w3.org/2000/svg\" height=\"24px\"viewBox=\"0 0 24 24\"\n",
              "       width=\"24px\">\n",
              "    <path d=\"M0 0h24v24H0V0z\" fill=\"none\"/>\n",
              "    <path d=\"M18.56 5.44l.94 2.06.94-2.06 2.06-.94-2.06-.94-.94-2.06-.94 2.06-2.06.94zm-11 1L8.5 8.5l.94-2.06 2.06-.94-2.06-.94L8.5 2.5l-.94 2.06-2.06.94zm10 10l.94 2.06.94-2.06 2.06-.94-2.06-.94-.94-2.06-.94 2.06-2.06.94z\"/><path d=\"M17.41 7.96l-1.37-1.37c-.4-.4-.92-.59-1.43-.59-.52 0-1.04.2-1.43.59L10.3 9.45l-7.72 7.72c-.78.78-.78 2.05 0 2.83L4 21.41c.39.39.9.59 1.41.59.51 0 1.02-.2 1.41-.59l7.78-7.78 2.81-2.81c.8-.78.8-2.07 0-2.86zM5.41 20L4 18.59l7.72-7.72 1.47 1.35L5.41 20z\"/>\n",
              "  </svg>\n",
              "      </button>\n",
              "      \n",
              "  <style>\n",
              "    .colab-df-container {\n",
              "      display:flex;\n",
              "      flex-wrap:wrap;\n",
              "      gap: 12px;\n",
              "    }\n",
              "\n",
              "    .colab-df-convert {\n",
              "      background-color: #E8F0FE;\n",
              "      border: none;\n",
              "      border-radius: 50%;\n",
              "      cursor: pointer;\n",
              "      display: none;\n",
              "      fill: #1967D2;\n",
              "      height: 32px;\n",
              "      padding: 0 0 0 0;\n",
              "      width: 32px;\n",
              "    }\n",
              "\n",
              "    .colab-df-convert:hover {\n",
              "      background-color: #E2EBFA;\n",
              "      box-shadow: 0px 1px 2px rgba(60, 64, 67, 0.3), 0px 1px 3px 1px rgba(60, 64, 67, 0.15);\n",
              "      fill: #174EA6;\n",
              "    }\n",
              "\n",
              "    [theme=dark] .colab-df-convert {\n",
              "      background-color: #3B4455;\n",
              "      fill: #D2E3FC;\n",
              "    }\n",
              "\n",
              "    [theme=dark] .colab-df-convert:hover {\n",
              "      background-color: #434B5C;\n",
              "      box-shadow: 0px 1px 3px 1px rgba(0, 0, 0, 0.15);\n",
              "      filter: drop-shadow(0px 1px 2px rgba(0, 0, 0, 0.3));\n",
              "      fill: #FFFFFF;\n",
              "    }\n",
              "  </style>\n",
              "\n",
              "      <script>\n",
              "        const buttonEl =\n",
              "          document.querySelector('#df-6724f3bb-52d8-4ff4-989c-b86fbffac938 button.colab-df-convert');\n",
              "        buttonEl.style.display =\n",
              "          google.colab.kernel.accessAllowed ? 'block' : 'none';\n",
              "\n",
              "        async function convertToInteractive(key) {\n",
              "          const element = document.querySelector('#df-6724f3bb-52d8-4ff4-989c-b86fbffac938');\n",
              "          const dataTable =\n",
              "            await google.colab.kernel.invokeFunction('convertToInteractive',\n",
              "                                                     [key], {});\n",
              "          if (!dataTable) return;\n",
              "\n",
              "          const docLinkHtml = 'Like what you see? Visit the ' +\n",
              "            '<a target=\"_blank\" href=https://colab.research.google.com/notebooks/data_table.ipynb>data table notebook</a>'\n",
              "            + ' to learn more about interactive tables.';\n",
              "          element.innerHTML = '';\n",
              "          dataTable['output_type'] = 'display_data';\n",
              "          await google.colab.output.renderOutput(dataTable, element);\n",
              "          const docLink = document.createElement('div');\n",
              "          docLink.innerHTML = docLinkHtml;\n",
              "          element.appendChild(docLink);\n",
              "        }\n",
              "      </script>\n",
              "    </div>\n",
              "  </div>\n",
              "  "
            ]
          },
          "metadata": {},
          "execution_count": 218
        }
      ]
    },
    {
      "cell_type": "code",
      "source": [
        "df_final"
      ],
      "metadata": {
        "colab": {
          "base_uri": "https://localhost:8080/",
          "height": 486
        },
        "id": "S6W-SRBpWcdV",
        "outputId": "996a9f46-a888-4c6a-c126-8f6fdfb88162"
      },
      "execution_count": null,
      "outputs": [
        {
          "output_type": "execute_result",
          "data": {
            "text/plain": [
              "                                                                                      MMM-YY  \\\n",
              "                                                                                        last   \n",
              "Driver_ID Age  Gender City Education_Level Dateofjoining Joining Designation Grade             \n",
              "1         28.0 0.0    C23  2               24/12/18      1                   1      03/01/19   \n",
              "2         31.0 0.0    C7   2               11/06/20      2                   2      12/01/20   \n",
              "4         43.0 0.0    C13  2               12/07/19      2                   2      04/01/20   \n",
              "5         29.0 0.0    C9   0               01/09/19      1                   1      03/01/19   \n",
              "6         31.0 1.0    C11  1               31/07/20      3                   3      12/01/20   \n",
              "...                                                                                      ...   \n",
              "2786      44.0 0.0    C19  0               31/07/18      2                   2      01/01/19   \n",
              "          45.0 0.0    C19  0               31/07/18      2                   2      09/01/19   \n",
              "2787      28.0 1.0    C20  2               21/07/18      1                   1      06/01/19   \n",
              "2788      29.0 0.0    C27  2               06/08/20      2                   2      06/01/20   \n",
              "          30.0 0.0    C27  2               06/08/20      2                   2      12/01/20   \n",
              "\n",
              "                                                                                   Total Business Value  \\\n",
              "                                                                                                  first   \n",
              "Driver_ID Age  Gender City Education_Level Dateofjoining Joining Designation Grade                        \n",
              "1         28.0 0.0    C23  2               24/12/18      1                   1                  2381060   \n",
              "2         31.0 0.0    C7   2               11/06/20      2                   2                        0   \n",
              "4         43.0 0.0    C13  2               12/07/19      2                   2                        0   \n",
              "5         29.0 0.0    C9   0               01/09/19      1                   1                        0   \n",
              "6         31.0 1.0    C11  1               31/07/20      3                   3                        0   \n",
              "...                                                                                                 ...   \n",
              "2786      44.0 0.0    C19  0               31/07/18      2                   2                   221080   \n",
              "          45.0 0.0    C19  0               31/07/18      2                   2                   485270   \n",
              "2787      28.0 1.0    C20  2               21/07/18      1                   1                   408090   \n",
              "2788      29.0 0.0    C27  2               06/08/20      2                   2                        0   \n",
              "          30.0 0.0    C27  2               06/08/20      2                   2                   497690   \n",
              "\n",
              "                                                                                            \\\n",
              "                                                                                      last   \n",
              "Driver_ID Age  Gender City Education_Level Dateofjoining Joining Designation Grade           \n",
              "1         28.0 0.0    C23  2               24/12/18      1                   1           0   \n",
              "2         31.0 0.0    C7   2               11/06/20      2                   2           0   \n",
              "4         43.0 0.0    C13  2               12/07/19      2                   2           0   \n",
              "5         29.0 0.0    C9   0               01/09/19      1                   1           0   \n",
              "6         31.0 1.0    C11  1               31/07/20      3                   3           0   \n",
              "...                                                                                    ...   \n",
              "2786      44.0 0.0    C19  0               31/07/18      2                   2      221080   \n",
              "          45.0 0.0    C19  0               31/07/18      2                   2           0   \n",
              "2787      28.0 1.0    C20  2               21/07/18      1                   1           0   \n",
              "2788      29.0 0.0    C27  2               06/08/20      2                   2           0   \n",
              "          30.0 0.0    C27  2               06/08/20      2                   2      411480   \n",
              "\n",
              "                                                                                   Quarterly Rating  \\\n",
              "                                                                                              first   \n",
              "Driver_ID Age  Gender City Education_Level Dateofjoining Joining Designation Grade                    \n",
              "1         28.0 0.0    C23  2               24/12/18      1                   1                    2   \n",
              "2         31.0 0.0    C7   2               11/06/20      2                   2                    1   \n",
              "4         43.0 0.0    C13  2               12/07/19      2                   2                    1   \n",
              "5         29.0 0.0    C9   0               01/09/19      1                   1                    1   \n",
              "6         31.0 1.0    C11  1               31/07/20      3                   3                    1   \n",
              "...                                                                                             ...   \n",
              "2786      44.0 0.0    C19  0               31/07/18      2                   2                    2   \n",
              "          45.0 0.0    C19  0               31/07/18      2                   2                    2   \n",
              "2787      28.0 1.0    C20  2               21/07/18      1                   1                    2   \n",
              "2788      29.0 0.0    C27  2               06/08/20      2                   2                    1   \n",
              "          30.0 0.0    C27  2               06/08/20      2                   2                    3   \n",
              "\n",
              "                                                                                         \\\n",
              "                                                                                   last   \n",
              "Driver_ID Age  Gender City Education_Level Dateofjoining Joining Designation Grade        \n",
              "1         28.0 0.0    C23  2               24/12/18      1                   1        2   \n",
              "2         31.0 0.0    C7   2               11/06/20      2                   2        1   \n",
              "4         43.0 0.0    C13  2               12/07/19      2                   2        1   \n",
              "5         29.0 0.0    C9   0               01/09/19      1                   1        1   \n",
              "6         31.0 1.0    C11  1               31/07/20      3                   3        2   \n",
              "...                                                                                 ...   \n",
              "2786      44.0 0.0    C19  0               31/07/18      2                   2        2   \n",
              "          45.0 0.0    C19  0               31/07/18      2                   2        1   \n",
              "2787      28.0 1.0    C20  2               21/07/18      1                   1        1   \n",
              "2788      29.0 0.0    C27  2               06/08/20      2                   2        1   \n",
              "          30.0 0.0    C27  2               06/08/20      2                   2        2   \n",
              "\n",
              "                                                                                   LastWorkingDate  \n",
              "                                                                                              last  \n",
              "Driver_ID Age  Gender City Education_Level Dateofjoining Joining Designation Grade                  \n",
              "1         28.0 0.0    C23  2               24/12/18      1                   1            03/11/19  \n",
              "2         31.0 0.0    C7   2               11/06/20      2                   2                None  \n",
              "4         43.0 0.0    C13  2               12/07/19      2                   2            27/04/20  \n",
              "5         29.0 0.0    C9   0               01/09/19      1                   1            03/07/19  \n",
              "6         31.0 1.0    C11  1               31/07/20      3                   3                None  \n",
              "...                                                                                            ...  \n",
              "2786      44.0 0.0    C19  0               31/07/18      2                   2                None  \n",
              "          45.0 0.0    C19  0               31/07/18      2                   2            22/09/19  \n",
              "2787      28.0 1.0    C20  2               21/07/18      1                   1            20/06/19  \n",
              "2788      29.0 0.0    C27  2               06/08/20      2                   2                None  \n",
              "          30.0 0.0    C27  2               06/08/20      2                   2                None  \n",
              "\n",
              "[3783 rows x 6 columns]"
            ],
            "text/html": [
              "\n",
              "  <div id=\"df-9810190c-19c6-4a90-bcfe-11695740d800\">\n",
              "    <div class=\"colab-df-container\">\n",
              "      <div>\n",
              "<style scoped>\n",
              "    .dataframe tbody tr th:only-of-type {\n",
              "        vertical-align: middle;\n",
              "    }\n",
              "\n",
              "    .dataframe tbody tr th {\n",
              "        vertical-align: top;\n",
              "    }\n",
              "\n",
              "    .dataframe thead tr th {\n",
              "        text-align: left;\n",
              "    }\n",
              "\n",
              "    .dataframe thead tr:last-of-type th {\n",
              "        text-align: right;\n",
              "    }\n",
              "</style>\n",
              "<table border=\"1\" class=\"dataframe\">\n",
              "  <thead>\n",
              "    <tr>\n",
              "      <th></th>\n",
              "      <th></th>\n",
              "      <th></th>\n",
              "      <th></th>\n",
              "      <th></th>\n",
              "      <th></th>\n",
              "      <th></th>\n",
              "      <th></th>\n",
              "      <th>MMM-YY</th>\n",
              "      <th colspan=\"2\" halign=\"left\">Total Business Value</th>\n",
              "      <th colspan=\"2\" halign=\"left\">Quarterly Rating</th>\n",
              "      <th>LastWorkingDate</th>\n",
              "    </tr>\n",
              "    <tr>\n",
              "      <th></th>\n",
              "      <th></th>\n",
              "      <th></th>\n",
              "      <th></th>\n",
              "      <th></th>\n",
              "      <th></th>\n",
              "      <th></th>\n",
              "      <th></th>\n",
              "      <th>last</th>\n",
              "      <th>first</th>\n",
              "      <th>last</th>\n",
              "      <th>first</th>\n",
              "      <th>last</th>\n",
              "      <th>last</th>\n",
              "    </tr>\n",
              "    <tr>\n",
              "      <th>Driver_ID</th>\n",
              "      <th>Age</th>\n",
              "      <th>Gender</th>\n",
              "      <th>City</th>\n",
              "      <th>Education_Level</th>\n",
              "      <th>Dateofjoining</th>\n",
              "      <th>Joining Designation</th>\n",
              "      <th>Grade</th>\n",
              "      <th></th>\n",
              "      <th></th>\n",
              "      <th></th>\n",
              "      <th></th>\n",
              "      <th></th>\n",
              "      <th></th>\n",
              "    </tr>\n",
              "  </thead>\n",
              "  <tbody>\n",
              "    <tr>\n",
              "      <th>1</th>\n",
              "      <th>28.0</th>\n",
              "      <th>0.0</th>\n",
              "      <th>C23</th>\n",
              "      <th>2</th>\n",
              "      <th>24/12/18</th>\n",
              "      <th>1</th>\n",
              "      <th>1</th>\n",
              "      <td>03/01/19</td>\n",
              "      <td>2381060</td>\n",
              "      <td>0</td>\n",
              "      <td>2</td>\n",
              "      <td>2</td>\n",
              "      <td>03/11/19</td>\n",
              "    </tr>\n",
              "    <tr>\n",
              "      <th>2</th>\n",
              "      <th>31.0</th>\n",
              "      <th>0.0</th>\n",
              "      <th>C7</th>\n",
              "      <th>2</th>\n",
              "      <th>11/06/20</th>\n",
              "      <th>2</th>\n",
              "      <th>2</th>\n",
              "      <td>12/01/20</td>\n",
              "      <td>0</td>\n",
              "      <td>0</td>\n",
              "      <td>1</td>\n",
              "      <td>1</td>\n",
              "      <td>None</td>\n",
              "    </tr>\n",
              "    <tr>\n",
              "      <th>4</th>\n",
              "      <th>43.0</th>\n",
              "      <th>0.0</th>\n",
              "      <th>C13</th>\n",
              "      <th>2</th>\n",
              "      <th>12/07/19</th>\n",
              "      <th>2</th>\n",
              "      <th>2</th>\n",
              "      <td>04/01/20</td>\n",
              "      <td>0</td>\n",
              "      <td>0</td>\n",
              "      <td>1</td>\n",
              "      <td>1</td>\n",
              "      <td>27/04/20</td>\n",
              "    </tr>\n",
              "    <tr>\n",
              "      <th>5</th>\n",
              "      <th>29.0</th>\n",
              "      <th>0.0</th>\n",
              "      <th>C9</th>\n",
              "      <th>0</th>\n",
              "      <th>01/09/19</th>\n",
              "      <th>1</th>\n",
              "      <th>1</th>\n",
              "      <td>03/01/19</td>\n",
              "      <td>0</td>\n",
              "      <td>0</td>\n",
              "      <td>1</td>\n",
              "      <td>1</td>\n",
              "      <td>03/07/19</td>\n",
              "    </tr>\n",
              "    <tr>\n",
              "      <th>6</th>\n",
              "      <th>31.0</th>\n",
              "      <th>1.0</th>\n",
              "      <th>C11</th>\n",
              "      <th>1</th>\n",
              "      <th>31/07/20</th>\n",
              "      <th>3</th>\n",
              "      <th>3</th>\n",
              "      <td>12/01/20</td>\n",
              "      <td>0</td>\n",
              "      <td>0</td>\n",
              "      <td>1</td>\n",
              "      <td>2</td>\n",
              "      <td>None</td>\n",
              "    </tr>\n",
              "    <tr>\n",
              "      <th>...</th>\n",
              "      <th>...</th>\n",
              "      <th>...</th>\n",
              "      <th>...</th>\n",
              "      <th>...</th>\n",
              "      <th>...</th>\n",
              "      <th>...</th>\n",
              "      <th>...</th>\n",
              "      <td>...</td>\n",
              "      <td>...</td>\n",
              "      <td>...</td>\n",
              "      <td>...</td>\n",
              "      <td>...</td>\n",
              "      <td>...</td>\n",
              "    </tr>\n",
              "    <tr>\n",
              "      <th rowspan=\"2\" valign=\"top\">2786</th>\n",
              "      <th>44.0</th>\n",
              "      <th>0.0</th>\n",
              "      <th>C19</th>\n",
              "      <th>0</th>\n",
              "      <th>31/07/18</th>\n",
              "      <th>2</th>\n",
              "      <th>2</th>\n",
              "      <td>01/01/19</td>\n",
              "      <td>221080</td>\n",
              "      <td>221080</td>\n",
              "      <td>2</td>\n",
              "      <td>2</td>\n",
              "      <td>None</td>\n",
              "    </tr>\n",
              "    <tr>\n",
              "      <th>45.0</th>\n",
              "      <th>0.0</th>\n",
              "      <th>C19</th>\n",
              "      <th>0</th>\n",
              "      <th>31/07/18</th>\n",
              "      <th>2</th>\n",
              "      <th>2</th>\n",
              "      <td>09/01/19</td>\n",
              "      <td>485270</td>\n",
              "      <td>0</td>\n",
              "      <td>2</td>\n",
              "      <td>1</td>\n",
              "      <td>22/09/19</td>\n",
              "    </tr>\n",
              "    <tr>\n",
              "      <th>2787</th>\n",
              "      <th>28.0</th>\n",
              "      <th>1.0</th>\n",
              "      <th>C20</th>\n",
              "      <th>2</th>\n",
              "      <th>21/07/18</th>\n",
              "      <th>1</th>\n",
              "      <th>1</th>\n",
              "      <td>06/01/19</td>\n",
              "      <td>408090</td>\n",
              "      <td>0</td>\n",
              "      <td>2</td>\n",
              "      <td>1</td>\n",
              "      <td>20/06/19</td>\n",
              "    </tr>\n",
              "    <tr>\n",
              "      <th rowspan=\"2\" valign=\"top\">2788</th>\n",
              "      <th>29.0</th>\n",
              "      <th>0.0</th>\n",
              "      <th>C27</th>\n",
              "      <th>2</th>\n",
              "      <th>06/08/20</th>\n",
              "      <th>2</th>\n",
              "      <th>2</th>\n",
              "      <td>06/01/20</td>\n",
              "      <td>0</td>\n",
              "      <td>0</td>\n",
              "      <td>1</td>\n",
              "      <td>1</td>\n",
              "      <td>None</td>\n",
              "    </tr>\n",
              "    <tr>\n",
              "      <th>30.0</th>\n",
              "      <th>0.0</th>\n",
              "      <th>C27</th>\n",
              "      <th>2</th>\n",
              "      <th>06/08/20</th>\n",
              "      <th>2</th>\n",
              "      <th>2</th>\n",
              "      <td>12/01/20</td>\n",
              "      <td>497690</td>\n",
              "      <td>411480</td>\n",
              "      <td>3</td>\n",
              "      <td>2</td>\n",
              "      <td>None</td>\n",
              "    </tr>\n",
              "  </tbody>\n",
              "</table>\n",
              "<p>3783 rows × 6 columns</p>\n",
              "</div>\n",
              "      <button class=\"colab-df-convert\" onclick=\"convertToInteractive('df-9810190c-19c6-4a90-bcfe-11695740d800')\"\n",
              "              title=\"Convert this dataframe to an interactive table.\"\n",
              "              style=\"display:none;\">\n",
              "        \n",
              "  <svg xmlns=\"http://www.w3.org/2000/svg\" height=\"24px\"viewBox=\"0 0 24 24\"\n",
              "       width=\"24px\">\n",
              "    <path d=\"M0 0h24v24H0V0z\" fill=\"none\"/>\n",
              "    <path d=\"M18.56 5.44l.94 2.06.94-2.06 2.06-.94-2.06-.94-.94-2.06-.94 2.06-2.06.94zm-11 1L8.5 8.5l.94-2.06 2.06-.94-2.06-.94L8.5 2.5l-.94 2.06-2.06.94zm10 10l.94 2.06.94-2.06 2.06-.94-2.06-.94-.94-2.06-.94 2.06-2.06.94z\"/><path d=\"M17.41 7.96l-1.37-1.37c-.4-.4-.92-.59-1.43-.59-.52 0-1.04.2-1.43.59L10.3 9.45l-7.72 7.72c-.78.78-.78 2.05 0 2.83L4 21.41c.39.39.9.59 1.41.59.51 0 1.02-.2 1.41-.59l7.78-7.78 2.81-2.81c.8-.78.8-2.07 0-2.86zM5.41 20L4 18.59l7.72-7.72 1.47 1.35L5.41 20z\"/>\n",
              "  </svg>\n",
              "      </button>\n",
              "      \n",
              "  <style>\n",
              "    .colab-df-container {\n",
              "      display:flex;\n",
              "      flex-wrap:wrap;\n",
              "      gap: 12px;\n",
              "    }\n",
              "\n",
              "    .colab-df-convert {\n",
              "      background-color: #E8F0FE;\n",
              "      border: none;\n",
              "      border-radius: 50%;\n",
              "      cursor: pointer;\n",
              "      display: none;\n",
              "      fill: #1967D2;\n",
              "      height: 32px;\n",
              "      padding: 0 0 0 0;\n",
              "      width: 32px;\n",
              "    }\n",
              "\n",
              "    .colab-df-convert:hover {\n",
              "      background-color: #E2EBFA;\n",
              "      box-shadow: 0px 1px 2px rgba(60, 64, 67, 0.3), 0px 1px 3px 1px rgba(60, 64, 67, 0.15);\n",
              "      fill: #174EA6;\n",
              "    }\n",
              "\n",
              "    [theme=dark] .colab-df-convert {\n",
              "      background-color: #3B4455;\n",
              "      fill: #D2E3FC;\n",
              "    }\n",
              "\n",
              "    [theme=dark] .colab-df-convert:hover {\n",
              "      background-color: #434B5C;\n",
              "      box-shadow: 0px 1px 3px 1px rgba(0, 0, 0, 0.15);\n",
              "      filter: drop-shadow(0px 1px 2px rgba(0, 0, 0, 0.3));\n",
              "      fill: #FFFFFF;\n",
              "    }\n",
              "  </style>\n",
              "\n",
              "      <script>\n",
              "        const buttonEl =\n",
              "          document.querySelector('#df-9810190c-19c6-4a90-bcfe-11695740d800 button.colab-df-convert');\n",
              "        buttonEl.style.display =\n",
              "          google.colab.kernel.accessAllowed ? 'block' : 'none';\n",
              "\n",
              "        async function convertToInteractive(key) {\n",
              "          const element = document.querySelector('#df-9810190c-19c6-4a90-bcfe-11695740d800');\n",
              "          const dataTable =\n",
              "            await google.colab.kernel.invokeFunction('convertToInteractive',\n",
              "                                                     [key], {});\n",
              "          if (!dataTable) return;\n",
              "\n",
              "          const docLinkHtml = 'Like what you see? Visit the ' +\n",
              "            '<a target=\"_blank\" href=https://colab.research.google.com/notebooks/data_table.ipynb>data table notebook</a>'\n",
              "            + ' to learn more about interactive tables.';\n",
              "          element.innerHTML = '';\n",
              "          dataTable['output_type'] = 'display_data';\n",
              "          await google.colab.output.renderOutput(dataTable, element);\n",
              "          const docLink = document.createElement('div');\n",
              "          docLink.innerHTML = docLinkHtml;\n",
              "          element.appendChild(docLink);\n",
              "        }\n",
              "      </script>\n",
              "    </div>\n",
              "  </div>\n",
              "  "
            ]
          },
          "metadata": {},
          "execution_count": 219
        }
      ]
    },
    {
      "cell_type": "markdown",
      "source": [
        "# Created a column which tells whether the quarterly rating has increased for that driver - for those whose quarterly rating has increased we assign the value 1"
      ],
      "metadata": {
        "id": "s_k4T-hgbIsI"
      }
    },
    {
      "cell_type": "code",
      "source": [
        "df_final['improvment_in_quat_rating'] = np.where(df_final['Quarterly Rating']['last'] > df_final['Quarterly Rating']['first'],1,0)"
      ],
      "metadata": {
        "id": "uAeXX9eJgM-g"
      },
      "execution_count": null,
      "outputs": []
    },
    {
      "cell_type": "markdown",
      "source": [
        "# Target variable creation: Create a column called target which tells whether the driver has left the company- driver whose last working day is present will have the value 1"
      ],
      "metadata": {
        "id": "PuTyDhSSbUTr"
      }
    },
    {
      "cell_type": "code",
      "source": [
        "pd.set_option('mode.chained_assignment','warn')"
      ],
      "metadata": {
        "id": "rbyIyBL9kWgV"
      },
      "execution_count": null,
      "outputs": []
    },
    {
      "cell_type": "code",
      "source": [
        "df_final.loc[:,('LastWorkingDate','last')].fillna('0',inplace =True)"
      ],
      "metadata": {
        "id": "0n09u5QzcQHv"
      },
      "execution_count": null,
      "outputs": []
    },
    {
      "cell_type": "code",
      "source": [
        "df_final['target'] = np.where(df_final['LastWorkingDate'] != '0',1,0)"
      ],
      "metadata": {
        "id": "3-dDYS3Da5aj"
      },
      "execution_count": null,
      "outputs": []
    },
    {
      "cell_type": "markdown",
      "source": [
        "# Create a column which tells whether the monthly income has increased for that driver - for those whose monthly income has increased we assign the value 1"
      ],
      "metadata": {
        "id": "DflDqxikdepB"
      }
    },
    {
      "cell_type": "code",
      "source": [
        "df_final['diff_income'] = df_final.loc[:,('Total Business Value','last')] - df_final.loc[:,('Total Business Value','first')]"
      ],
      "metadata": {
        "id": "yzhoh1HdfFEh"
      },
      "execution_count": null,
      "outputs": []
    },
    {
      "cell_type": "code",
      "source": [
        "df_final['increment_income'] = np.where(df_final['diff_income']>0,1,0)"
      ],
      "metadata": {
        "id": "fq7g2LV3nS70"
      },
      "execution_count": null,
      "outputs": []
    },
    {
      "cell_type": "code",
      "source": [
        "df_final.drop(columns = ['diff_income'],inplace = True)"
      ],
      "metadata": {
        "id": "viZuPQHunrev"
      },
      "execution_count": null,
      "outputs": []
    },
    {
      "cell_type": "code",
      "source": [
        "df_final.reset_index(inplace = True)"
      ],
      "metadata": {
        "id": "ECd5PygUnxj6"
      },
      "execution_count": null,
      "outputs": []
    },
    {
      "cell_type": "code",
      "source": [
        "df_final"
      ],
      "metadata": {
        "id": "-LHHxlvTqBed",
        "colab": {
          "base_uri": "https://localhost:8080/",
          "height": 455
        },
        "outputId": "09497e03-d996-475c-adee-909e300e0604"
      },
      "execution_count": null,
      "outputs": [
        {
          "output_type": "execute_result",
          "data": {
            "text/plain": [
              "     Driver_ID   Age Gender City Education_Level Dateofjoining  \\\n",
              "                                                                 \n",
              "0            1  28.0    0.0  C23               2      24/12/18   \n",
              "1            2  31.0    0.0   C7               2      11/06/20   \n",
              "2            4  43.0    0.0  C13               2      12/07/19   \n",
              "3            5  29.0    0.0   C9               0      01/09/19   \n",
              "4            6  31.0    1.0  C11               1      31/07/20   \n",
              "...        ...   ...    ...  ...             ...           ...   \n",
              "3778      2786  44.0    0.0  C19               0      31/07/18   \n",
              "3779      2786  45.0    0.0  C19               0      31/07/18   \n",
              "3780      2787  28.0    1.0  C20               2      21/07/18   \n",
              "3781      2788  29.0    0.0  C27               2      06/08/20   \n",
              "3782      2788  30.0    0.0  C27               2      06/08/20   \n",
              "\n",
              "     Joining Designation Grade    MMM-YY Total Business Value          \\\n",
              "                                    last                first    last   \n",
              "0                      1     1  03/01/19              2381060       0   \n",
              "1                      2     2  12/01/20                    0       0   \n",
              "2                      2     2  04/01/20                    0       0   \n",
              "3                      1     1  03/01/19                    0       0   \n",
              "4                      3     3  12/01/20                    0       0   \n",
              "...                  ...   ...       ...                  ...     ...   \n",
              "3778                   2     2  01/01/19               221080  221080   \n",
              "3779                   2     2  09/01/19               485270       0   \n",
              "3780                   1     1  06/01/19               408090       0   \n",
              "3781                   2     2  06/01/20                    0       0   \n",
              "3782                   2     2  12/01/20               497690  411480   \n",
              "\n",
              "     Quarterly Rating      LastWorkingDate improvment_in_quat_rating target  \\\n",
              "                first last            last                                    \n",
              "0                   2    2        03/11/19                         0      1   \n",
              "1                   1    1               0                         0      0   \n",
              "2                   1    1        27/04/20                         0      1   \n",
              "3                   1    1        03/07/19                         0      1   \n",
              "4                   1    2               0                         1      0   \n",
              "...               ...  ...             ...                       ...    ...   \n",
              "3778                2    2               0                         0      0   \n",
              "3779                2    1        22/09/19                         0      1   \n",
              "3780                2    1        20/06/19                         0      1   \n",
              "3781                1    1               0                         0      0   \n",
              "3782                3    2               0                         0      0   \n",
              "\n",
              "     increment_income  \n",
              "                       \n",
              "0                   0  \n",
              "1                   0  \n",
              "2                   0  \n",
              "3                   0  \n",
              "4                   0  \n",
              "...               ...  \n",
              "3778                0  \n",
              "3779                0  \n",
              "3780                0  \n",
              "3781                0  \n",
              "3782                0  \n",
              "\n",
              "[3783 rows x 17 columns]"
            ],
            "text/html": [
              "\n",
              "  <div id=\"df-2d07cca0-0058-4788-bdca-1cf584b8b383\">\n",
              "    <div class=\"colab-df-container\">\n",
              "      <div>\n",
              "<style scoped>\n",
              "    .dataframe tbody tr th:only-of-type {\n",
              "        vertical-align: middle;\n",
              "    }\n",
              "\n",
              "    .dataframe tbody tr th {\n",
              "        vertical-align: top;\n",
              "    }\n",
              "\n",
              "    .dataframe thead tr th {\n",
              "        text-align: left;\n",
              "    }\n",
              "</style>\n",
              "<table border=\"1\" class=\"dataframe\">\n",
              "  <thead>\n",
              "    <tr>\n",
              "      <th></th>\n",
              "      <th>Driver_ID</th>\n",
              "      <th>Age</th>\n",
              "      <th>Gender</th>\n",
              "      <th>City</th>\n",
              "      <th>Education_Level</th>\n",
              "      <th>Dateofjoining</th>\n",
              "      <th>Joining Designation</th>\n",
              "      <th>Grade</th>\n",
              "      <th>MMM-YY</th>\n",
              "      <th colspan=\"2\" halign=\"left\">Total Business Value</th>\n",
              "      <th colspan=\"2\" halign=\"left\">Quarterly Rating</th>\n",
              "      <th>LastWorkingDate</th>\n",
              "      <th>improvment_in_quat_rating</th>\n",
              "      <th>target</th>\n",
              "      <th>increment_income</th>\n",
              "    </tr>\n",
              "    <tr>\n",
              "      <th></th>\n",
              "      <th></th>\n",
              "      <th></th>\n",
              "      <th></th>\n",
              "      <th></th>\n",
              "      <th></th>\n",
              "      <th></th>\n",
              "      <th></th>\n",
              "      <th></th>\n",
              "      <th>last</th>\n",
              "      <th>first</th>\n",
              "      <th>last</th>\n",
              "      <th>first</th>\n",
              "      <th>last</th>\n",
              "      <th>last</th>\n",
              "      <th></th>\n",
              "      <th></th>\n",
              "      <th></th>\n",
              "    </tr>\n",
              "  </thead>\n",
              "  <tbody>\n",
              "    <tr>\n",
              "      <th>0</th>\n",
              "      <td>1</td>\n",
              "      <td>28.0</td>\n",
              "      <td>0.0</td>\n",
              "      <td>C23</td>\n",
              "      <td>2</td>\n",
              "      <td>24/12/18</td>\n",
              "      <td>1</td>\n",
              "      <td>1</td>\n",
              "      <td>03/01/19</td>\n",
              "      <td>2381060</td>\n",
              "      <td>0</td>\n",
              "      <td>2</td>\n",
              "      <td>2</td>\n",
              "      <td>03/11/19</td>\n",
              "      <td>0</td>\n",
              "      <td>1</td>\n",
              "      <td>0</td>\n",
              "    </tr>\n",
              "    <tr>\n",
              "      <th>1</th>\n",
              "      <td>2</td>\n",
              "      <td>31.0</td>\n",
              "      <td>0.0</td>\n",
              "      <td>C7</td>\n",
              "      <td>2</td>\n",
              "      <td>11/06/20</td>\n",
              "      <td>2</td>\n",
              "      <td>2</td>\n",
              "      <td>12/01/20</td>\n",
              "      <td>0</td>\n",
              "      <td>0</td>\n",
              "      <td>1</td>\n",
              "      <td>1</td>\n",
              "      <td>0</td>\n",
              "      <td>0</td>\n",
              "      <td>0</td>\n",
              "      <td>0</td>\n",
              "    </tr>\n",
              "    <tr>\n",
              "      <th>2</th>\n",
              "      <td>4</td>\n",
              "      <td>43.0</td>\n",
              "      <td>0.0</td>\n",
              "      <td>C13</td>\n",
              "      <td>2</td>\n",
              "      <td>12/07/19</td>\n",
              "      <td>2</td>\n",
              "      <td>2</td>\n",
              "      <td>04/01/20</td>\n",
              "      <td>0</td>\n",
              "      <td>0</td>\n",
              "      <td>1</td>\n",
              "      <td>1</td>\n",
              "      <td>27/04/20</td>\n",
              "      <td>0</td>\n",
              "      <td>1</td>\n",
              "      <td>0</td>\n",
              "    </tr>\n",
              "    <tr>\n",
              "      <th>3</th>\n",
              "      <td>5</td>\n",
              "      <td>29.0</td>\n",
              "      <td>0.0</td>\n",
              "      <td>C9</td>\n",
              "      <td>0</td>\n",
              "      <td>01/09/19</td>\n",
              "      <td>1</td>\n",
              "      <td>1</td>\n",
              "      <td>03/01/19</td>\n",
              "      <td>0</td>\n",
              "      <td>0</td>\n",
              "      <td>1</td>\n",
              "      <td>1</td>\n",
              "      <td>03/07/19</td>\n",
              "      <td>0</td>\n",
              "      <td>1</td>\n",
              "      <td>0</td>\n",
              "    </tr>\n",
              "    <tr>\n",
              "      <th>4</th>\n",
              "      <td>6</td>\n",
              "      <td>31.0</td>\n",
              "      <td>1.0</td>\n",
              "      <td>C11</td>\n",
              "      <td>1</td>\n",
              "      <td>31/07/20</td>\n",
              "      <td>3</td>\n",
              "      <td>3</td>\n",
              "      <td>12/01/20</td>\n",
              "      <td>0</td>\n",
              "      <td>0</td>\n",
              "      <td>1</td>\n",
              "      <td>2</td>\n",
              "      <td>0</td>\n",
              "      <td>1</td>\n",
              "      <td>0</td>\n",
              "      <td>0</td>\n",
              "    </tr>\n",
              "    <tr>\n",
              "      <th>...</th>\n",
              "      <td>...</td>\n",
              "      <td>...</td>\n",
              "      <td>...</td>\n",
              "      <td>...</td>\n",
              "      <td>...</td>\n",
              "      <td>...</td>\n",
              "      <td>...</td>\n",
              "      <td>...</td>\n",
              "      <td>...</td>\n",
              "      <td>...</td>\n",
              "      <td>...</td>\n",
              "      <td>...</td>\n",
              "      <td>...</td>\n",
              "      <td>...</td>\n",
              "      <td>...</td>\n",
              "      <td>...</td>\n",
              "      <td>...</td>\n",
              "    </tr>\n",
              "    <tr>\n",
              "      <th>3778</th>\n",
              "      <td>2786</td>\n",
              "      <td>44.0</td>\n",
              "      <td>0.0</td>\n",
              "      <td>C19</td>\n",
              "      <td>0</td>\n",
              "      <td>31/07/18</td>\n",
              "      <td>2</td>\n",
              "      <td>2</td>\n",
              "      <td>01/01/19</td>\n",
              "      <td>221080</td>\n",
              "      <td>221080</td>\n",
              "      <td>2</td>\n",
              "      <td>2</td>\n",
              "      <td>0</td>\n",
              "      <td>0</td>\n",
              "      <td>0</td>\n",
              "      <td>0</td>\n",
              "    </tr>\n",
              "    <tr>\n",
              "      <th>3779</th>\n",
              "      <td>2786</td>\n",
              "      <td>45.0</td>\n",
              "      <td>0.0</td>\n",
              "      <td>C19</td>\n",
              "      <td>0</td>\n",
              "      <td>31/07/18</td>\n",
              "      <td>2</td>\n",
              "      <td>2</td>\n",
              "      <td>09/01/19</td>\n",
              "      <td>485270</td>\n",
              "      <td>0</td>\n",
              "      <td>2</td>\n",
              "      <td>1</td>\n",
              "      <td>22/09/19</td>\n",
              "      <td>0</td>\n",
              "      <td>1</td>\n",
              "      <td>0</td>\n",
              "    </tr>\n",
              "    <tr>\n",
              "      <th>3780</th>\n",
              "      <td>2787</td>\n",
              "      <td>28.0</td>\n",
              "      <td>1.0</td>\n",
              "      <td>C20</td>\n",
              "      <td>2</td>\n",
              "      <td>21/07/18</td>\n",
              "      <td>1</td>\n",
              "      <td>1</td>\n",
              "      <td>06/01/19</td>\n",
              "      <td>408090</td>\n",
              "      <td>0</td>\n",
              "      <td>2</td>\n",
              "      <td>1</td>\n",
              "      <td>20/06/19</td>\n",
              "      <td>0</td>\n",
              "      <td>1</td>\n",
              "      <td>0</td>\n",
              "    </tr>\n",
              "    <tr>\n",
              "      <th>3781</th>\n",
              "      <td>2788</td>\n",
              "      <td>29.0</td>\n",
              "      <td>0.0</td>\n",
              "      <td>C27</td>\n",
              "      <td>2</td>\n",
              "      <td>06/08/20</td>\n",
              "      <td>2</td>\n",
              "      <td>2</td>\n",
              "      <td>06/01/20</td>\n",
              "      <td>0</td>\n",
              "      <td>0</td>\n",
              "      <td>1</td>\n",
              "      <td>1</td>\n",
              "      <td>0</td>\n",
              "      <td>0</td>\n",
              "      <td>0</td>\n",
              "      <td>0</td>\n",
              "    </tr>\n",
              "    <tr>\n",
              "      <th>3782</th>\n",
              "      <td>2788</td>\n",
              "      <td>30.0</td>\n",
              "      <td>0.0</td>\n",
              "      <td>C27</td>\n",
              "      <td>2</td>\n",
              "      <td>06/08/20</td>\n",
              "      <td>2</td>\n",
              "      <td>2</td>\n",
              "      <td>12/01/20</td>\n",
              "      <td>497690</td>\n",
              "      <td>411480</td>\n",
              "      <td>3</td>\n",
              "      <td>2</td>\n",
              "      <td>0</td>\n",
              "      <td>0</td>\n",
              "      <td>0</td>\n",
              "      <td>0</td>\n",
              "    </tr>\n",
              "  </tbody>\n",
              "</table>\n",
              "<p>3783 rows × 17 columns</p>\n",
              "</div>\n",
              "      <button class=\"colab-df-convert\" onclick=\"convertToInteractive('df-2d07cca0-0058-4788-bdca-1cf584b8b383')\"\n",
              "              title=\"Convert this dataframe to an interactive table.\"\n",
              "              style=\"display:none;\">\n",
              "        \n",
              "  <svg xmlns=\"http://www.w3.org/2000/svg\" height=\"24px\"viewBox=\"0 0 24 24\"\n",
              "       width=\"24px\">\n",
              "    <path d=\"M0 0h24v24H0V0z\" fill=\"none\"/>\n",
              "    <path d=\"M18.56 5.44l.94 2.06.94-2.06 2.06-.94-2.06-.94-.94-2.06-.94 2.06-2.06.94zm-11 1L8.5 8.5l.94-2.06 2.06-.94-2.06-.94L8.5 2.5l-.94 2.06-2.06.94zm10 10l.94 2.06.94-2.06 2.06-.94-2.06-.94-.94-2.06-.94 2.06-2.06.94z\"/><path d=\"M17.41 7.96l-1.37-1.37c-.4-.4-.92-.59-1.43-.59-.52 0-1.04.2-1.43.59L10.3 9.45l-7.72 7.72c-.78.78-.78 2.05 0 2.83L4 21.41c.39.39.9.59 1.41.59.51 0 1.02-.2 1.41-.59l7.78-7.78 2.81-2.81c.8-.78.8-2.07 0-2.86zM5.41 20L4 18.59l7.72-7.72 1.47 1.35L5.41 20z\"/>\n",
              "  </svg>\n",
              "      </button>\n",
              "      \n",
              "  <style>\n",
              "    .colab-df-container {\n",
              "      display:flex;\n",
              "      flex-wrap:wrap;\n",
              "      gap: 12px;\n",
              "    }\n",
              "\n",
              "    .colab-df-convert {\n",
              "      background-color: #E8F0FE;\n",
              "      border: none;\n",
              "      border-radius: 50%;\n",
              "      cursor: pointer;\n",
              "      display: none;\n",
              "      fill: #1967D2;\n",
              "      height: 32px;\n",
              "      padding: 0 0 0 0;\n",
              "      width: 32px;\n",
              "    }\n",
              "\n",
              "    .colab-df-convert:hover {\n",
              "      background-color: #E2EBFA;\n",
              "      box-shadow: 0px 1px 2px rgba(60, 64, 67, 0.3), 0px 1px 3px 1px rgba(60, 64, 67, 0.15);\n",
              "      fill: #174EA6;\n",
              "    }\n",
              "\n",
              "    [theme=dark] .colab-df-convert {\n",
              "      background-color: #3B4455;\n",
              "      fill: #D2E3FC;\n",
              "    }\n",
              "\n",
              "    [theme=dark] .colab-df-convert:hover {\n",
              "      background-color: #434B5C;\n",
              "      box-shadow: 0px 1px 3px 1px rgba(0, 0, 0, 0.15);\n",
              "      filter: drop-shadow(0px 1px 2px rgba(0, 0, 0, 0.3));\n",
              "      fill: #FFFFFF;\n",
              "    }\n",
              "  </style>\n",
              "\n",
              "      <script>\n",
              "        const buttonEl =\n",
              "          document.querySelector('#df-2d07cca0-0058-4788-bdca-1cf584b8b383 button.colab-df-convert');\n",
              "        buttonEl.style.display =\n",
              "          google.colab.kernel.accessAllowed ? 'block' : 'none';\n",
              "\n",
              "        async function convertToInteractive(key) {\n",
              "          const element = document.querySelector('#df-2d07cca0-0058-4788-bdca-1cf584b8b383');\n",
              "          const dataTable =\n",
              "            await google.colab.kernel.invokeFunction('convertToInteractive',\n",
              "                                                     [key], {});\n",
              "          if (!dataTable) return;\n",
              "\n",
              "          const docLinkHtml = 'Like what you see? Visit the ' +\n",
              "            '<a target=\"_blank\" href=https://colab.research.google.com/notebooks/data_table.ipynb>data table notebook</a>'\n",
              "            + ' to learn more about interactive tables.';\n",
              "          element.innerHTML = '';\n",
              "          dataTable['output_type'] = 'display_data';\n",
              "          await google.colab.output.renderOutput(dataTable, element);\n",
              "          const docLink = document.createElement('div');\n",
              "          docLink.innerHTML = docLinkHtml;\n",
              "          element.appendChild(docLink);\n",
              "        }\n",
              "      </script>\n",
              "    </div>\n",
              "  </div>\n",
              "  "
            ]
          },
          "metadata": {},
          "execution_count": 228
        }
      ]
    },
    {
      "cell_type": "code",
      "source": [
        "df_final.info()"
      ],
      "metadata": {
        "colab": {
          "base_uri": "https://localhost:8080/"
        },
        "id": "ezzWa4RfHNOa",
        "outputId": "6c30547f-e6c7-447f-b978-c2530e3971de"
      },
      "execution_count": null,
      "outputs": [
        {
          "output_type": "stream",
          "name": "stdout",
          "text": [
            "<class 'pandas.core.frame.DataFrame'>\n",
            "RangeIndex: 3783 entries, 0 to 3782\n",
            "Data columns (total 17 columns):\n",
            " #   Column                         Non-Null Count  Dtype  \n",
            "---  ------                         --------------  -----  \n",
            " 0   (Driver_ID, )                  3783 non-null   int64  \n",
            " 1   (Age, )                        3783 non-null   float64\n",
            " 2   (Gender, )                     3783 non-null   float64\n",
            " 3   (City, )                       3783 non-null   object \n",
            " 4   (Education_Level, )            3783 non-null   int64  \n",
            " 5   (Dateofjoining, )              3783 non-null   object \n",
            " 6   (Joining Designation, )        3783 non-null   int64  \n",
            " 7   (Grade, )                      3783 non-null   int64  \n",
            " 8   (MMM-YY, last)                 3783 non-null   object \n",
            " 9   (Total Business Value, first)  3783 non-null   int64  \n",
            " 10  (Total Business Value, last)   3783 non-null   int64  \n",
            " 11  (Quarterly Rating, first)      3783 non-null   int64  \n",
            " 12  (Quarterly Rating, last)       3783 non-null   int64  \n",
            " 13  (LastWorkingDate, last)        3783 non-null   object \n",
            " 14  (improvment_in_quat_rating, )  3783 non-null   int64  \n",
            " 15  (target, )                     3783 non-null   int64  \n",
            " 16  (increment_income, )           3783 non-null   int64  \n",
            "dtypes: float64(2), int64(11), object(4)\n",
            "memory usage: 502.6+ KB\n"
          ]
        }
      ]
    },
    {
      "cell_type": "code",
      "source": [
        "df_final.describe()"
      ],
      "metadata": {
        "colab": {
          "base_uri": "https://localhost:8080/",
          "height": 332
        },
        "id": "M2-RQhvpMFgV",
        "outputId": "75092d3e-7bc5-4166-ae80-0b326d8381c2"
      },
      "execution_count": null,
      "outputs": [
        {
          "output_type": "execute_result",
          "data": {
            "text/plain": [
              "         Driver_ID          Age       Gender Education_Level  \\\n",
              "                                                               \n",
              "count  3783.000000  3783.000000  3783.000000     3783.000000   \n",
              "mean   1407.650806    33.958499     0.412635        1.010309   \n",
              "std     805.698183     6.140013     0.492373        0.808894   \n",
              "min       1.000000    21.000000     0.000000        0.000000   \n",
              "25%     706.500000    29.500000     0.000000        0.000000   \n",
              "50%    1407.000000    33.000000     0.000000        1.000000   \n",
              "75%    2114.000000    38.000000     1.000000        2.000000   \n",
              "max    2788.000000    58.000000     1.000000        2.000000   \n",
              "\n",
              "      Joining Designation        Grade Total Business Value                \\\n",
              "                                                      first          last   \n",
              "count         3783.000000  3783.000000         3.783000e+03  3.783000e+03   \n",
              "mean             1.763151     2.164155         4.106338e+05  3.842511e+05   \n",
              "std              0.846460     0.986029         8.978219e+05  1.056897e+06   \n",
              "min              1.000000     1.000000        -2.910060e+06 -1.590270e+06   \n",
              "25%              1.000000     1.000000         0.000000e+00  0.000000e+00   \n",
              "50%              2.000000     2.000000         0.000000e+00  0.000000e+00   \n",
              "75%              2.000000     3.000000         5.016300e+05  4.580050e+05   \n",
              "max              5.000000     5.000000         1.270150e+07  3.374772e+07   \n",
              "\n",
              "      Quarterly Rating              improvment_in_quat_rating       target  \\\n",
              "                 first         last                                          \n",
              "count      3783.000000  3783.000000               3783.000000  3783.000000   \n",
              "mean          1.716891     1.684642                  0.145652     0.424531   \n",
              "std           0.963615     0.955761                  0.352803     0.494337   \n",
              "min           1.000000     1.000000                  0.000000     0.000000   \n",
              "25%           1.000000     1.000000                  0.000000     0.000000   \n",
              "50%           1.000000     1.000000                  0.000000     0.000000   \n",
              "75%           2.000000     2.000000                  0.000000     1.000000   \n",
              "max           4.000000     4.000000                  1.000000     1.000000   \n",
              "\n",
              "      increment_income  \n",
              "                        \n",
              "count      3783.000000  \n",
              "mean          0.263019  \n",
              "std           0.440331  \n",
              "min           0.000000  \n",
              "25%           0.000000  \n",
              "50%           0.000000  \n",
              "75%           1.000000  \n",
              "max           1.000000  "
            ],
            "text/html": [
              "\n",
              "  <div id=\"df-8962c4fc-1464-45d2-b434-535a3cf3c961\">\n",
              "    <div class=\"colab-df-container\">\n",
              "      <div>\n",
              "<style scoped>\n",
              "    .dataframe tbody tr th:only-of-type {\n",
              "        vertical-align: middle;\n",
              "    }\n",
              "\n",
              "    .dataframe tbody tr th {\n",
              "        vertical-align: top;\n",
              "    }\n",
              "\n",
              "    .dataframe thead tr th {\n",
              "        text-align: left;\n",
              "    }\n",
              "</style>\n",
              "<table border=\"1\" class=\"dataframe\">\n",
              "  <thead>\n",
              "    <tr>\n",
              "      <th></th>\n",
              "      <th>Driver_ID</th>\n",
              "      <th>Age</th>\n",
              "      <th>Gender</th>\n",
              "      <th>Education_Level</th>\n",
              "      <th>Joining Designation</th>\n",
              "      <th>Grade</th>\n",
              "      <th colspan=\"2\" halign=\"left\">Total Business Value</th>\n",
              "      <th colspan=\"2\" halign=\"left\">Quarterly Rating</th>\n",
              "      <th>improvment_in_quat_rating</th>\n",
              "      <th>target</th>\n",
              "      <th>increment_income</th>\n",
              "    </tr>\n",
              "    <tr>\n",
              "      <th></th>\n",
              "      <th></th>\n",
              "      <th></th>\n",
              "      <th></th>\n",
              "      <th></th>\n",
              "      <th></th>\n",
              "      <th></th>\n",
              "      <th>first</th>\n",
              "      <th>last</th>\n",
              "      <th>first</th>\n",
              "      <th>last</th>\n",
              "      <th></th>\n",
              "      <th></th>\n",
              "      <th></th>\n",
              "    </tr>\n",
              "  </thead>\n",
              "  <tbody>\n",
              "    <tr>\n",
              "      <th>count</th>\n",
              "      <td>3783.000000</td>\n",
              "      <td>3783.000000</td>\n",
              "      <td>3783.000000</td>\n",
              "      <td>3783.000000</td>\n",
              "      <td>3783.000000</td>\n",
              "      <td>3783.000000</td>\n",
              "      <td>3.783000e+03</td>\n",
              "      <td>3.783000e+03</td>\n",
              "      <td>3783.000000</td>\n",
              "      <td>3783.000000</td>\n",
              "      <td>3783.000000</td>\n",
              "      <td>3783.000000</td>\n",
              "      <td>3783.000000</td>\n",
              "    </tr>\n",
              "    <tr>\n",
              "      <th>mean</th>\n",
              "      <td>1407.650806</td>\n",
              "      <td>33.958499</td>\n",
              "      <td>0.412635</td>\n",
              "      <td>1.010309</td>\n",
              "      <td>1.763151</td>\n",
              "      <td>2.164155</td>\n",
              "      <td>4.106338e+05</td>\n",
              "      <td>3.842511e+05</td>\n",
              "      <td>1.716891</td>\n",
              "      <td>1.684642</td>\n",
              "      <td>0.145652</td>\n",
              "      <td>0.424531</td>\n",
              "      <td>0.263019</td>\n",
              "    </tr>\n",
              "    <tr>\n",
              "      <th>std</th>\n",
              "      <td>805.698183</td>\n",
              "      <td>6.140013</td>\n",
              "      <td>0.492373</td>\n",
              "      <td>0.808894</td>\n",
              "      <td>0.846460</td>\n",
              "      <td>0.986029</td>\n",
              "      <td>8.978219e+05</td>\n",
              "      <td>1.056897e+06</td>\n",
              "      <td>0.963615</td>\n",
              "      <td>0.955761</td>\n",
              "      <td>0.352803</td>\n",
              "      <td>0.494337</td>\n",
              "      <td>0.440331</td>\n",
              "    </tr>\n",
              "    <tr>\n",
              "      <th>min</th>\n",
              "      <td>1.000000</td>\n",
              "      <td>21.000000</td>\n",
              "      <td>0.000000</td>\n",
              "      <td>0.000000</td>\n",
              "      <td>1.000000</td>\n",
              "      <td>1.000000</td>\n",
              "      <td>-2.910060e+06</td>\n",
              "      <td>-1.590270e+06</td>\n",
              "      <td>1.000000</td>\n",
              "      <td>1.000000</td>\n",
              "      <td>0.000000</td>\n",
              "      <td>0.000000</td>\n",
              "      <td>0.000000</td>\n",
              "    </tr>\n",
              "    <tr>\n",
              "      <th>25%</th>\n",
              "      <td>706.500000</td>\n",
              "      <td>29.500000</td>\n",
              "      <td>0.000000</td>\n",
              "      <td>0.000000</td>\n",
              "      <td>1.000000</td>\n",
              "      <td>1.000000</td>\n",
              "      <td>0.000000e+00</td>\n",
              "      <td>0.000000e+00</td>\n",
              "      <td>1.000000</td>\n",
              "      <td>1.000000</td>\n",
              "      <td>0.000000</td>\n",
              "      <td>0.000000</td>\n",
              "      <td>0.000000</td>\n",
              "    </tr>\n",
              "    <tr>\n",
              "      <th>50%</th>\n",
              "      <td>1407.000000</td>\n",
              "      <td>33.000000</td>\n",
              "      <td>0.000000</td>\n",
              "      <td>1.000000</td>\n",
              "      <td>2.000000</td>\n",
              "      <td>2.000000</td>\n",
              "      <td>0.000000e+00</td>\n",
              "      <td>0.000000e+00</td>\n",
              "      <td>1.000000</td>\n",
              "      <td>1.000000</td>\n",
              "      <td>0.000000</td>\n",
              "      <td>0.000000</td>\n",
              "      <td>0.000000</td>\n",
              "    </tr>\n",
              "    <tr>\n",
              "      <th>75%</th>\n",
              "      <td>2114.000000</td>\n",
              "      <td>38.000000</td>\n",
              "      <td>1.000000</td>\n",
              "      <td>2.000000</td>\n",
              "      <td>2.000000</td>\n",
              "      <td>3.000000</td>\n",
              "      <td>5.016300e+05</td>\n",
              "      <td>4.580050e+05</td>\n",
              "      <td>2.000000</td>\n",
              "      <td>2.000000</td>\n",
              "      <td>0.000000</td>\n",
              "      <td>1.000000</td>\n",
              "      <td>1.000000</td>\n",
              "    </tr>\n",
              "    <tr>\n",
              "      <th>max</th>\n",
              "      <td>2788.000000</td>\n",
              "      <td>58.000000</td>\n",
              "      <td>1.000000</td>\n",
              "      <td>2.000000</td>\n",
              "      <td>5.000000</td>\n",
              "      <td>5.000000</td>\n",
              "      <td>1.270150e+07</td>\n",
              "      <td>3.374772e+07</td>\n",
              "      <td>4.000000</td>\n",
              "      <td>4.000000</td>\n",
              "      <td>1.000000</td>\n",
              "      <td>1.000000</td>\n",
              "      <td>1.000000</td>\n",
              "    </tr>\n",
              "  </tbody>\n",
              "</table>\n",
              "</div>\n",
              "      <button class=\"colab-df-convert\" onclick=\"convertToInteractive('df-8962c4fc-1464-45d2-b434-535a3cf3c961')\"\n",
              "              title=\"Convert this dataframe to an interactive table.\"\n",
              "              style=\"display:none;\">\n",
              "        \n",
              "  <svg xmlns=\"http://www.w3.org/2000/svg\" height=\"24px\"viewBox=\"0 0 24 24\"\n",
              "       width=\"24px\">\n",
              "    <path d=\"M0 0h24v24H0V0z\" fill=\"none\"/>\n",
              "    <path d=\"M18.56 5.44l.94 2.06.94-2.06 2.06-.94-2.06-.94-.94-2.06-.94 2.06-2.06.94zm-11 1L8.5 8.5l.94-2.06 2.06-.94-2.06-.94L8.5 2.5l-.94 2.06-2.06.94zm10 10l.94 2.06.94-2.06 2.06-.94-2.06-.94-.94-2.06-.94 2.06-2.06.94z\"/><path d=\"M17.41 7.96l-1.37-1.37c-.4-.4-.92-.59-1.43-.59-.52 0-1.04.2-1.43.59L10.3 9.45l-7.72 7.72c-.78.78-.78 2.05 0 2.83L4 21.41c.39.39.9.59 1.41.59.51 0 1.02-.2 1.41-.59l7.78-7.78 2.81-2.81c.8-.78.8-2.07 0-2.86zM5.41 20L4 18.59l7.72-7.72 1.47 1.35L5.41 20z\"/>\n",
              "  </svg>\n",
              "      </button>\n",
              "      \n",
              "  <style>\n",
              "    .colab-df-container {\n",
              "      display:flex;\n",
              "      flex-wrap:wrap;\n",
              "      gap: 12px;\n",
              "    }\n",
              "\n",
              "    .colab-df-convert {\n",
              "      background-color: #E8F0FE;\n",
              "      border: none;\n",
              "      border-radius: 50%;\n",
              "      cursor: pointer;\n",
              "      display: none;\n",
              "      fill: #1967D2;\n",
              "      height: 32px;\n",
              "      padding: 0 0 0 0;\n",
              "      width: 32px;\n",
              "    }\n",
              "\n",
              "    .colab-df-convert:hover {\n",
              "      background-color: #E2EBFA;\n",
              "      box-shadow: 0px 1px 2px rgba(60, 64, 67, 0.3), 0px 1px 3px 1px rgba(60, 64, 67, 0.15);\n",
              "      fill: #174EA6;\n",
              "    }\n",
              "\n",
              "    [theme=dark] .colab-df-convert {\n",
              "      background-color: #3B4455;\n",
              "      fill: #D2E3FC;\n",
              "    }\n",
              "\n",
              "    [theme=dark] .colab-df-convert:hover {\n",
              "      background-color: #434B5C;\n",
              "      box-shadow: 0px 1px 3px 1px rgba(0, 0, 0, 0.15);\n",
              "      filter: drop-shadow(0px 1px 2px rgba(0, 0, 0, 0.3));\n",
              "      fill: #FFFFFF;\n",
              "    }\n",
              "  </style>\n",
              "\n",
              "      <script>\n",
              "        const buttonEl =\n",
              "          document.querySelector('#df-8962c4fc-1464-45d2-b434-535a3cf3c961 button.colab-df-convert');\n",
              "        buttonEl.style.display =\n",
              "          google.colab.kernel.accessAllowed ? 'block' : 'none';\n",
              "\n",
              "        async function convertToInteractive(key) {\n",
              "          const element = document.querySelector('#df-8962c4fc-1464-45d2-b434-535a3cf3c961');\n",
              "          const dataTable =\n",
              "            await google.colab.kernel.invokeFunction('convertToInteractive',\n",
              "                                                     [key], {});\n",
              "          if (!dataTable) return;\n",
              "\n",
              "          const docLinkHtml = 'Like what you see? Visit the ' +\n",
              "            '<a target=\"_blank\" href=https://colab.research.google.com/notebooks/data_table.ipynb>data table notebook</a>'\n",
              "            + ' to learn more about interactive tables.';\n",
              "          element.innerHTML = '';\n",
              "          dataTable['output_type'] = 'display_data';\n",
              "          await google.colab.output.renderOutput(dataTable, element);\n",
              "          const docLink = document.createElement('div');\n",
              "          docLink.innerHTML = docLinkHtml;\n",
              "          element.appendChild(docLink);\n",
              "        }\n",
              "      </script>\n",
              "    </div>\n",
              "  </div>\n",
              "  "
            ]
          },
          "metadata": {},
          "execution_count": 230
        }
      ]
    },
    {
      "cell_type": "code",
      "source": [
        "plt.figure(figsize = (15,10))\n",
        "corr = df_final.corr()\n",
        "sns.heatmap(data = corr,annot = True)\n",
        "plt.show()"
      ],
      "metadata": {
        "colab": {
          "base_uri": "https://localhost:8080/",
          "height": 740
        },
        "id": "AMVtzJKrIrVQ",
        "outputId": "3841c114-3b7e-47fe-f734-0ea5e138757c"
      },
      "execution_count": null,
      "outputs": [
        {
          "output_type": "display_data",
          "data": {
            "text/plain": [
              "<Figure size 1080x720 with 2 Axes>"
            ],
            "image/png": "[encoded data removed]"
          },
          "metadata": {
            "needs_background": "light"
          }
        }
      ]
    },
    {
      "cell_type": "markdown",
      "source": [
        "\n",
        "\n",
        "1.  quaterly rating and total bussiness values has good correlation,this implies better the rating better total bussiness value generated by ola driver.\n",
        "\n"
      ],
      "metadata": {
        "id": "YuExzwWlMzJy"
      }
    },
    {
      "cell_type": "code",
      "source": [
        "df_final.info()"
      ],
      "metadata": {
        "id": "fppPf-JRLvEb",
        "colab": {
          "base_uri": "https://localhost:8080/"
        },
        "outputId": "e1345bd6-0607-4447-9b39-9ec861638765"
      },
      "execution_count": null,
      "outputs": [
        {
          "output_type": "stream",
          "name": "stdout",
          "text": [
            "<class 'pandas.core.frame.DataFrame'>\n",
            "RangeIndex: 3783 entries, 0 to 3782\n",
            "Data columns (total 17 columns):\n",
            " #   Column                         Non-Null Count  Dtype  \n",
            "---  ------                         --------------  -----  \n",
            " 0   (Driver_ID, )                  3783 non-null   int64  \n",
            " 1   (Age, )                        3783 non-null   float64\n",
            " 2   (Gender, )                     3783 non-null   float64\n",
            " 3   (City, )                       3783 non-null   object \n",
            " 4   (Education_Level, )            3783 non-null   int64  \n",
            " 5   (Dateofjoining, )              3783 non-null   object \n",
            " 6   (Joining Designation, )        3783 non-null   int64  \n",
            " 7   (Grade, )                      3783 non-null   int64  \n",
            " 8   (MMM-YY, last)                 3783 non-null   object \n",
            " 9   (Total Business Value, first)  3783 non-null   int64  \n",
            " 10  (Total Business Value, last)   3783 non-null   int64  \n",
            " 11  (Quarterly Rating, first)      3783 non-null   int64  \n",
            " 12  (Quarterly Rating, last)       3783 non-null   int64  \n",
            " 13  (LastWorkingDate, last)        3783 non-null   object \n",
            " 14  (improvment_in_quat_rating, )  3783 non-null   int64  \n",
            " 15  (target, )                     3783 non-null   int64  \n",
            " 16  (increment_income, )           3783 non-null   int64  \n",
            "dtypes: float64(2), int64(11), object(4)\n",
            "memory usage: 502.6+ KB\n"
          ]
        }
      ]
    },
    {
      "cell_type": "code",
      "source": [
        "df['Quarterly Rating'].value_counts()"
      ],
      "metadata": {
        "colab": {
          "base_uri": "https://localhost:8080/"
        },
        "id": "NAYtK6zhWnBc",
        "outputId": "08845036-9def-4be0-e481-ed619fc145fc"
      },
      "execution_count": null,
      "outputs": [
        {
          "output_type": "execute_result",
          "data": {
            "text/plain": [
              "1    7679\n",
              "2    5553\n",
              "3    3895\n",
              "4    1977\n",
              "Name: Quarterly Rating, dtype: int64"
            ]
          },
          "metadata": {},
          "execution_count": 233
        }
      ]
    },
    {
      "cell_type": "code",
      "source": [
        "df_final['Gender'] = df_final['Gender'].astype('object')\n",
        "df_final['Education_Level'] = df_final['Education_Level'].astype('object')\n",
        "df_final['Joining Designation'] = df_final['Joining Designation'].astype('object')\n",
        "df_final['Grade'] = df_final['Grade'].astype('object')\n",
        "df_final.loc[:,('Quarterly Rating', 'first')] = df_final.loc[:,('Quarterly Rating', 'first')].astype('object')\n",
        "df_final.loc[:,('Quarterly Rating', 'last')] = df_final.loc[:,('Quarterly Rating', 'last')].astype('object')\n",
        "df_final['improvment_in_quat_rating'] = df_final['improvment_in_quat_rating'].astype('object')\n",
        "df_final['target'] = df_final['target'].astype('object')\n",
        "df_final['increment_income'] = df_final['increment_income'].astype('object')\n"
      ],
      "metadata": {
        "id": "QzJ6VgWtVGd8"
      },
      "execution_count": null,
      "outputs": []
    },
    {
      "cell_type": "markdown",
      "source": [
        "# **data exploration**"
      ],
      "metadata": {
        "id": "7TRT5UAeYz0P"
      }
    },
    {
      "cell_type": "code",
      "source": [
        "np.array(df_final.columns)"
      ],
      "metadata": {
        "colab": {
          "base_uri": "https://localhost:8080/"
        },
        "id": "DkaYgcInZ2vm",
        "outputId": "3cae6d86-f7a7-4a20-a8b2-8b57dacb922a"
      },
      "execution_count": null,
      "outputs": [
        {
          "output_type": "execute_result",
          "data": {
            "text/plain": [
              "array([('Driver_ID', ''), ('Age', ''), ('Gender', ''), ('City', ''),\n",
              "       ('Education_Level', ''), ('Dateofjoining', ''),\n",
              "       ('Joining Designation', ''), ('Grade', ''), ('MMM-YY', 'last'),\n",
              "       ('Total Business Value', 'first'),\n",
              "       ('Total Business Value', 'last'), ('Quarterly Rating', 'first'),\n",
              "       ('Quarterly Rating', 'last'), ('LastWorkingDate', 'last'),\n",
              "       ('improvment_in_quat_rating', ''), ('target', ''),\n",
              "       ('increment_income', '')], dtype=object)"
            ]
          },
          "metadata": {},
          "execution_count": 235
        }
      ]
    },
    {
      "cell_type": "code",
      "source": [
        "plt.figure(figsize = (10,5))\n",
        "sns.boxplot(data = df_final,x = 'target',y = ('Total Business Value', 'last'))\n",
        "plt.ylim(-3*10**(6),1*10**(7))\n",
        "plt.title('people who left ola theire last total bussiness value')\n",
        "plt.show()"
      ],
      "metadata": {
        "colab": {
          "base_uri": "https://localhost:8080/",
          "height": 350
        },
        "id": "wUnsYuKfYyVa",
        "outputId": "b44bbed2-9a4b-4330-8f42-37fa456649b4"
      },
      "execution_count": null,
      "outputs": [
        {
          "output_type": "display_data",
          "data": {
            "text/plain": [
              "<Figure size 720x360 with 1 Axes>"
            ],
            "image/png": "[encoded data removed]"
          },
          "metadata": {
            "needs_background": "light"
          }
        }
      ]
    },
    {
      "cell_type": "markdown",
      "source": [
        "drivers who left the job have no total bussiness value or theire rides have very high precentage of cancellation and refunds as compared to drivers who are still in ola"
      ],
      "metadata": {
        "id": "fjBykjUzc7UG"
      }
    },
    {
      "cell_type": "code",
      "source": [
        "plt.figure(figsize = (10,5))\n",
        "sns.countplot(data = df_final,x = 'target',hue = 'Gender')\n",
        "plt.title('Gender Vs Target variable')\n",
        "plt.grid()\n",
        "plt.show()"
      ],
      "metadata": {
        "colab": {
          "base_uri": "https://localhost:8080/",
          "height": 350
        },
        "id": "Grb78GJNjQtW",
        "outputId": "08a0713b-95a8-493b-ed81-0582cfd023f7"
      },
      "execution_count": null,
      "outputs": [
        {
          "output_type": "display_data",
          "data": {
            "text/plain": [
              "<Figure size 720x360 with 1 Axes>"
            ],
            "image/png": "[encoded data removed]"
          },
          "metadata": {
            "needs_background": "light"
          }
        }
      ]
    },
    {
      "cell_type": "markdown",
      "source": [
        "males are generally quiting theire jobs from ola than women this is may be happening due to finding better earning opportunity from other firms "
      ],
      "metadata": {
        "id": "R9kSG9t3k5bf"
      }
    },
    {
      "cell_type": "code",
      "source": [
        "plt.figure(figsize = (10,5))\n",
        "sns.countplot(data = df_final,x = 'target',hue = 'increment_income')\n",
        "plt.title('target Vs increment_income')\n",
        "plt.grid()\n",
        "plt.show()"
      ],
      "metadata": {
        "colab": {
          "base_uri": "https://localhost:8080/",
          "height": 350
        },
        "id": "ek_pzVpNn5WF",
        "outputId": "db8ce361-6cc2-4ae8-eee6-31dbbbfd9c16"
      },
      "execution_count": null,
      "outputs": [
        {
          "output_type": "display_data",
          "data": {
            "text/plain": [
              "<Figure size 720x360 with 1 Axes>"
            ],
            "image/png": "[encoded data removed]"
          },
          "metadata": {
            "needs_background": "light"
          }
        }
      ]
    },
    {
      "cell_type": "markdown",
      "source": [
        "here we can see most of the people who had not able to incresed theire income are the ones who are leaving ola."
      ],
      "metadata": {
        "id": "DGPiIh6NoszY"
      }
    },
    {
      "cell_type": "code",
      "source": [
        "plt.figure(figsize = (10,5))\n",
        "sns.countplot(data = df_final,x = 'target',hue = 'improvment_in_quat_rating')\n",
        "plt.title('target Vs improvment_in_quat_rating')\n",
        "plt.grid()\n",
        "plt.show()"
      ],
      "metadata": {
        "colab": {
          "base_uri": "https://localhost:8080/",
          "height": 350
        },
        "id": "rD_Zr8H9pItJ",
        "outputId": "f0f76f71-843f-4e92-97dc-fc8dc549c666"
      },
      "execution_count": null,
      "outputs": [
        {
          "output_type": "display_data",
          "data": {
            "text/plain": [
              "<Figure size 720x360 with 1 Axes>"
            ],
            "image/png": "[encoded data removed]"
          },
          "metadata": {
            "needs_background": "light"
          }
        }
      ]
    },
    {
      "cell_type": "markdown",
      "source": [
        "drivers who have no improvement in quaterly rating are more likely to leave ola"
      ],
      "metadata": {
        "id": "WBzs7V7jpplt"
      }
    },
    {
      "cell_type": "code",
      "source": [
        "plt.figure(figsize = (8,5))\n",
        "sns.countplot(data = df_final,x = 'Gender',hue = 'improvment_in_quat_rating')\n",
        "plt.title('Gender Vs improvement_in_quat_rating')\n",
        "plt.grid()\n",
        "plt.show()"
      ],
      "metadata": {
        "colab": {
          "base_uri": "https://localhost:8080/",
          "height": 350
        },
        "id": "06dPh7t5qRD_",
        "outputId": "ae72ef32-8766-4b19-cec3-7c7b7ab36032"
      },
      "execution_count": null,
      "outputs": [
        {
          "output_type": "display_data",
          "data": {
            "text/plain": [
              "<Figure size 576x360 with 1 Axes>"
            ],
            "image/png": "[encoded data removed]"
          },
          "metadata": {
            "needs_background": "light"
          }
        }
      ]
    },
    {
      "cell_type": "markdown",
      "source": [
        "here we can see most of the drivers have no improvement in quaterly ratings.its advisable to focus more on incresing quaterly ratings of the drivers."
      ],
      "metadata": {
        "id": "YSeVDsawrYxc"
      }
    },
    {
      "cell_type": "code",
      "source": [
        "plt.figure(figsize = (8,5))\n",
        "sns.countplot(data = df_final,x = 'Gender',hue = 'increment_income')\n",
        "plt.title('Gender Vs increment_income')\n",
        "plt.grid()\n",
        "plt.show()"
      ],
      "metadata": {
        "colab": {
          "base_uri": "https://localhost:8080/",
          "height": 350
        },
        "id": "OaCoy70rthvD",
        "outputId": "c1aee9ef-20ec-42b5-9f83-c8924c5e03f3"
      },
      "execution_count": null,
      "outputs": [
        {
          "output_type": "display_data",
          "data": {
            "text/plain": [
              "<Figure size 576x360 with 1 Axes>"
            ],
            "image/png": "[encoded data removed]"
          },
          "metadata": {
            "needs_background": "light"
          }
        }
      ]
    },
    {
      "cell_type": "markdown",
      "source": [
        "more number of men have incremented theire income than womens this is may be due to more number of mens have able to improve theire quaterly ratings."
      ],
      "metadata": {
        "id": "CP99EkjxuPEA"
      }
    },
    {
      "cell_type": "markdown",
      "source": [
        "# one hot encoading of catogorical variables"
      ],
      "metadata": {
        "id": "UqYp9zV-h7sL"
      }
    },
    {
      "cell_type": "markdown",
      "source": [
        "since all the columns are are i numerical format hence we does not need to preform one hot encoading on this data also all the categorical columns are such theire order matters hence no reason to perform one hot encoading"
      ],
      "metadata": {
        "id": "i2UAMdvNFh3i"
      }
    },
    {
      "cell_type": "code",
      "source": [
        "df_final['Dateofjoining'] = df_final['Dateofjoining'].astype('datetime64')\n",
        "df_final.loc[:,('MMM-YY','last')] = df_final.loc[:,('MMM-YY','last')].astype('datetime64')"
      ],
      "metadata": {
        "id": "meSZnHvclERx"
      },
      "execution_count": null,
      "outputs": []
    },
    {
      "cell_type": "code",
      "source": [
        "df_final.drop(columns = [('Total Business Value','first'),('Total Business Value', 'last'),('Quarterly Rating', 'first'),('Quarterly Rating', 'last'),('LastWorkingDate', 'last')],inplace = True)"
      ],
      "metadata": {
        "id": "F8KvuKR6kOEW"
      },
      "execution_count": null,
      "outputs": []
    },
    {
      "cell_type": "markdown",
      "source": [
        "# Class Imbalance Treatment"
      ],
      "metadata": {
        "id": "zsBgaG5SDsDK"
      }
    },
    {
      "cell_type": "code",
      "source": [
        "df_final.columns"
      ],
      "metadata": {
        "colab": {
          "base_uri": "https://localhost:8080/"
        },
        "id": "N_wMMTXpEZM2",
        "outputId": "4c7dc79b-a135-4471-a1ef-c4bad3709cb6"
      },
      "execution_count": null,
      "outputs": [
        {
          "output_type": "execute_result",
          "data": {
            "text/plain": [
              "MultiIndex([(                'Driver_ID',     ''),\n",
              "            (                      'Age',     ''),\n",
              "            (                   'Gender',     ''),\n",
              "            (                     'City',     ''),\n",
              "            (          'Education_Level',     ''),\n",
              "            (            'Dateofjoining',     ''),\n",
              "            (      'Joining Designation',     ''),\n",
              "            (                    'Grade',     ''),\n",
              "            (                   'MMM-YY', 'last'),\n",
              "            ('improvment_in_quat_rating',     ''),\n",
              "            (                   'target',     ''),\n",
              "            (         'increment_income',     '')],\n",
              "           )"
            ]
          },
          "metadata": {},
          "execution_count": 141
        }
      ]
    },
    {
      "cell_type": "code",
      "source": [
        "cat_columns = [('Gender',''),('Education_Level', ''),('target', ''),('increment_income', ''),('improvment_in_quat_rating', '')]"
      ],
      "metadata": {
        "id": "zVWb2XMFD9I8"
      },
      "execution_count": null,
      "outputs": []
    },
    {
      "cell_type": "code",
      "source": [
        "for col in cat_columns:\n",
        "  v = df_final[col].value_counts()\n",
        "  print('for column name :',col)\n",
        "  for i in range(len(v)):\n",
        "    print('percent availibility of data for',i,'is',((v[i]/len(df_final[col]))*100).round(2),'%')\n"
      ],
      "metadata": {
        "colab": {
          "base_uri": "https://localhost:8080/"
        },
        "id": "ZGlQIsiRDN5s",
        "outputId": "fc041e67-bfe5-45a0-b15a-f7d53bd6e454"
      },
      "execution_count": null,
      "outputs": [
        {
          "output_type": "stream",
          "name": "stdout",
          "text": [
            "for column name : ('Gender', '')\n",
            "percent availibility of data for 0 is 58.74 %\n",
            "percent availibility of data for 1 is 41.26 %\n",
            "for column name : ('Education_Level', '')\n",
            "percent availibility of data for 0 is 32.2 %\n",
            "percent availibility of data for 1 is 34.58 %\n",
            "percent availibility of data for 2 is 33.23 %\n",
            "for column name : ('target', '')\n",
            "percent availibility of data for 0 is 57.55 %\n",
            "percent availibility of data for 1 is 42.45 %\n",
            "for column name : ('increment_income', '')\n",
            "percent availibility of data for 0 is 73.7 %\n",
            "percent availibility of data for 1 is 26.3 %\n",
            "for column name : ('improvment_in_quat_rating', '')\n",
            "percent availibility of data for 0 is 85.43 %\n",
            "percent availibility of data for 1 is 14.57 %\n"
          ]
        }
      ]
    },
    {
      "cell_type": "markdown",
      "source": [
        "**Here we can see most imbalnced data consist in improvement_in_quat_rating and increment_income the major difference is in so here we will use oversampling technique to balance the data**"
      ],
      "metadata": {
        "id": "-G-H-QdaG2Ba"
      }
    },
    {
      "cell_type": "code",
      "source": [
        "from sklearn.utils import resample\n",
        "y = df_final[('improvment_in_quat_rating', '')]\n",
        "X = df_final.drop(columns = [('improvment_in_quat_rating', '')], axis=1)"
      ],
      "metadata": {
        "id": "_faIHEyREIiu"
      },
      "execution_count": null,
      "outputs": []
    },
    {
      "cell_type": "code",
      "source": [
        "from sklearn.model_selection import train_test_split\n",
        "X_train, X_test, y_train, y_test = train_test_split(X, y, test_size=0.3, random_state=1)"
      ],
      "metadata": {
        "id": "Eb7dQN9mJRcq"
      },
      "execution_count": null,
      "outputs": []
    },
    {
      "cell_type": "code",
      "source": [
        "X = pd.concat([X_train, y_train], axis=1)"
      ],
      "metadata": {
        "id": "SpvabDJUJzSD"
      },
      "execution_count": null,
      "outputs": []
    },
    {
      "cell_type": "code",
      "source": [
        "# separate minority and majority classes\n",
        "no_improvement = X[X[('improvment_in_quat_rating', '')]==0]\n",
        "improvement = X[X[('improvment_in_quat_rating', '')]==1]"
      ],
      "metadata": {
        "id": "2HqZcd4gJ8bO"
      },
      "execution_count": null,
      "outputs": []
    },
    {
      "cell_type": "code",
      "source": [
        "# upsample minority\n",
        "improvement_upsampled = resample(improvement,\n",
        "                          replace=True, # sample with replacement\n",
        "                          n_samples=len(no_improvement), # match number in majority class\n",
        "                          random_state=27) # reproducible results"
      ],
      "metadata": {
        "id": "bDfX8qHwKaLb"
      },
      "execution_count": null,
      "outputs": []
    },
    {
      "cell_type": "code",
      "source": [
        "# combine majority and upsampled minority\n",
        "upsampled = pd.concat([no_improvement, improvement_upsampled])"
      ],
      "metadata": {
        "id": "nPDwwnwjKuOs"
      },
      "execution_count": null,
      "outputs": []
    },
    {
      "cell_type": "markdown",
      "source": [
        "**value count after upsampling**"
      ],
      "metadata": {
        "id": "XtSZ7pvWLLkR"
      }
    },
    {
      "cell_type": "code",
      "source": [
        "upsampled[('improvment_in_quat_rating','')].value_counts()"
      ],
      "metadata": {
        "colab": {
          "base_uri": "https://localhost:8080/"
        },
        "id": "QXM-tdQUK8Pd",
        "outputId": "1b8bb19d-5328-422a-f4cb-679c42b0348f"
      },
      "execution_count": null,
      "outputs": [
        {
          "output_type": "execute_result",
          "data": {
            "text/plain": [
              "0    2263\n",
              "1    2263\n",
              "Name: (improvment_in_quat_rating, ), dtype: int64"
            ]
          },
          "metadata": {},
          "execution_count": 150
        }
      ]
    },
    {
      "cell_type": "code",
      "source": [
        "upsampled.columns"
      ],
      "metadata": {
        "colab": {
          "base_uri": "https://localhost:8080/"
        },
        "id": "LaEfiU98LJ3k",
        "outputId": "1bbb3ba3-4399-4f15-f4ed-24942c696318"
      },
      "execution_count": null,
      "outputs": [
        {
          "output_type": "execute_result",
          "data": {
            "text/plain": [
              "MultiIndex([(                'Driver_ID',     ''),\n",
              "            (                      'Age',     ''),\n",
              "            (                   'Gender',     ''),\n",
              "            (                     'City',     ''),\n",
              "            (          'Education_Level',     ''),\n",
              "            (            'Dateofjoining',     ''),\n",
              "            (      'Joining Designation',     ''),\n",
              "            (                    'Grade',     ''),\n",
              "            (                   'MMM-YY', 'last'),\n",
              "            (                   'target',     ''),\n",
              "            (         'increment_income',     ''),\n",
              "            ('improvment_in_quat_rating',     '')],\n",
              "           )"
            ]
          },
          "metadata": {},
          "execution_count": 151
        }
      ]
    },
    {
      "cell_type": "markdown",
      "source": [
        "# Modelling"
      ],
      "metadata": {
        "id": "w9_KJ5iJMaNs"
      }
    },
    {
      "cell_type": "code",
      "source": [
        "ml_df = upsampled[[('Age', ''),\n",
        "                          ('Gender', ''),('City', ''),('Education_Level', ''),\n",
        "                   ('Joining Designation', ''),('Grade', ''),('target', ''),\n",
        "                ('increment_income', ''),('improvment_in_quat_rating', '')]]"
      ],
      "metadata": {
        "id": "BTw7UnhlL9xv"
      },
      "execution_count": null,
      "outputs": []
    },
    {
      "cell_type": "code",
      "source": [
        "ml_df"
      ],
      "metadata": {
        "colab": {
          "base_uri": "https://localhost:8080/",
          "height": 438
        },
        "id": "cRAjIRYwM6U_",
        "outputId": "c0c610ab-27de-492c-f3d2-597687c6c615"
      },
      "execution_count": null,
      "outputs": [
        {
          "output_type": "execute_result",
          "data": {
            "text/plain": [
              "       Age Gender City Education_Level Joining Designation Grade target  \\\n",
              "                                                                          \n",
              "1334  37.0    1.0  C25               2                   2     3      0   \n",
              "2606  27.0    0.0  C28               1                   3     3      1   \n",
              "2673  37.0    0.0  C10               1                   3     3      1   \n",
              "428   47.0    0.0  C10               2                   2     4      1   \n",
              "34    32.0    0.0   C5               1                   3     3      1   \n",
              "...    ...    ...  ...             ...                 ...   ...    ...   \n",
              "564   36.0    0.0  C13               2                   3     3      0   \n",
              "3129  32.0    1.0  C25               0                   3     3      0   \n",
              "537   36.0    1.0  C13               0                   2     2      0   \n",
              "336   34.0    0.0   C3               1                   1     1      0   \n",
              "837   29.0    1.0   C8               2                   3     3      0   \n",
              "\n",
              "     increment_income improvment_in_quat_rating  \n",
              "                                                 \n",
              "1334                0                         0  \n",
              "2606                0                         0  \n",
              "2673                0                         0  \n",
              "428                 0                         0  \n",
              "34                  0                         0  \n",
              "...               ...                       ...  \n",
              "564                 0                         1  \n",
              "3129                0                         1  \n",
              "537                 1                         1  \n",
              "336                 1                         1  \n",
              "837                 1                         1  \n",
              "\n",
              "[4526 rows x 9 columns]"
            ],
            "text/html": [
              "\n",
              "  <div id=\"df-aabb0af2-35df-4875-8aac-b65fca9ccae3\">\n",
              "    <div class=\"colab-df-container\">\n",
              "      <div>\n",
              "<style scoped>\n",
              "    .dataframe tbody tr th:only-of-type {\n",
              "        vertical-align: middle;\n",
              "    }\n",
              "\n",
              "    .dataframe tbody tr th {\n",
              "        vertical-align: top;\n",
              "    }\n",
              "\n",
              "    .dataframe thead tr th {\n",
              "        text-align: left;\n",
              "    }\n",
              "</style>\n",
              "<table border=\"1\" class=\"dataframe\">\n",
              "  <thead>\n",
              "    <tr>\n",
              "      <th></th>\n",
              "      <th>Age</th>\n",
              "      <th>Gender</th>\n",
              "      <th>City</th>\n",
              "      <th>Education_Level</th>\n",
              "      <th>Joining Designation</th>\n",
              "      <th>Grade</th>\n",
              "      <th>target</th>\n",
              "      <th>increment_income</th>\n",
              "      <th>improvment_in_quat_rating</th>\n",
              "    </tr>\n",
              "    <tr>\n",
              "      <th></th>\n",
              "      <th></th>\n",
              "      <th></th>\n",
              "      <th></th>\n",
              "      <th></th>\n",
              "      <th></th>\n",
              "      <th></th>\n",
              "      <th></th>\n",
              "      <th></th>\n",
              "      <th></th>\n",
              "    </tr>\n",
              "  </thead>\n",
              "  <tbody>\n",
              "    <tr>\n",
              "      <th>1334</th>\n",
              "      <td>37.0</td>\n",
              "      <td>1.0</td>\n",
              "      <td>C25</td>\n",
              "      <td>2</td>\n",
              "      <td>2</td>\n",
              "      <td>3</td>\n",
              "      <td>0</td>\n",
              "      <td>0</td>\n",
              "      <td>0</td>\n",
              "    </tr>\n",
              "    <tr>\n",
              "      <th>2606</th>\n",
              "      <td>27.0</td>\n",
              "      <td>0.0</td>\n",
              "      <td>C28</td>\n",
              "      <td>1</td>\n",
              "      <td>3</td>\n",
              "      <td>3</td>\n",
              "      <td>1</td>\n",
              "      <td>0</td>\n",
              "      <td>0</td>\n",
              "    </tr>\n",
              "    <tr>\n",
              "      <th>2673</th>\n",
              "      <td>37.0</td>\n",
              "      <td>0.0</td>\n",
              "      <td>C10</td>\n",
              "      <td>1</td>\n",
              "      <td>3</td>\n",
              "      <td>3</td>\n",
              "      <td>1</td>\n",
              "      <td>0</td>\n",
              "      <td>0</td>\n",
              "    </tr>\n",
              "    <tr>\n",
              "      <th>428</th>\n",
              "      <td>47.0</td>\n",
              "      <td>0.0</td>\n",
              "      <td>C10</td>\n",
              "      <td>2</td>\n",
              "      <td>2</td>\n",
              "      <td>4</td>\n",
              "      <td>1</td>\n",
              "      <td>0</td>\n",
              "      <td>0</td>\n",
              "    </tr>\n",
              "    <tr>\n",
              "      <th>34</th>\n",
              "      <td>32.0</td>\n",
              "      <td>0.0</td>\n",
              "      <td>C5</td>\n",
              "      <td>1</td>\n",
              "      <td>3</td>\n",
              "      <td>3</td>\n",
              "      <td>1</td>\n",
              "      <td>0</td>\n",
              "      <td>0</td>\n",
              "    </tr>\n",
              "    <tr>\n",
              "      <th>...</th>\n",
              "      <td>...</td>\n",
              "      <td>...</td>\n",
              "      <td>...</td>\n",
              "      <td>...</td>\n",
              "      <td>...</td>\n",
              "      <td>...</td>\n",
              "      <td>...</td>\n",
              "      <td>...</td>\n",
              "      <td>...</td>\n",
              "    </tr>\n",
              "    <tr>\n",
              "      <th>564</th>\n",
              "      <td>36.0</td>\n",
              "      <td>0.0</td>\n",
              "      <td>C13</td>\n",
              "      <td>2</td>\n",
              "      <td>3</td>\n",
              "      <td>3</td>\n",
              "      <td>0</td>\n",
              "      <td>0</td>\n",
              "      <td>1</td>\n",
              "    </tr>\n",
              "    <tr>\n",
              "      <th>3129</th>\n",
              "      <td>32.0</td>\n",
              "      <td>1.0</td>\n",
              "      <td>C25</td>\n",
              "      <td>0</td>\n",
              "      <td>3</td>\n",
              "      <td>3</td>\n",
              "      <td>0</td>\n",
              "      <td>0</td>\n",
              "      <td>1</td>\n",
              "    </tr>\n",
              "    <tr>\n",
              "      <th>537</th>\n",
              "      <td>36.0</td>\n",
              "      <td>1.0</td>\n",
              "      <td>C13</td>\n",
              "      <td>0</td>\n",
              "      <td>2</td>\n",
              "      <td>2</td>\n",
              "      <td>0</td>\n",
              "      <td>1</td>\n",
              "      <td>1</td>\n",
              "    </tr>\n",
              "    <tr>\n",
              "      <th>336</th>\n",
              "      <td>34.0</td>\n",
              "      <td>0.0</td>\n",
              "      <td>C3</td>\n",
              "      <td>1</td>\n",
              "      <td>1</td>\n",
              "      <td>1</td>\n",
              "      <td>0</td>\n",
              "      <td>1</td>\n",
              "      <td>1</td>\n",
              "    </tr>\n",
              "    <tr>\n",
              "      <th>837</th>\n",
              "      <td>29.0</td>\n",
              "      <td>1.0</td>\n",
              "      <td>C8</td>\n",
              "      <td>2</td>\n",
              "      <td>3</td>\n",
              "      <td>3</td>\n",
              "      <td>0</td>\n",
              "      <td>1</td>\n",
              "      <td>1</td>\n",
              "    </tr>\n",
              "  </tbody>\n",
              "</table>\n",
              "<p>4526 rows × 9 columns</p>\n",
              "</div>\n",
              "      <button class=\"colab-df-convert\" onclick=\"convertToInteractive('df-aabb0af2-35df-4875-8aac-b65fca9ccae3')\"\n",
              "              title=\"Convert this dataframe to an interactive table.\"\n",
              "              style=\"display:none;\">\n",
              "        \n",
              "  <svg xmlns=\"http://www.w3.org/2000/svg\" height=\"24px\"viewBox=\"0 0 24 24\"\n",
              "       width=\"24px\">\n",
              "    <path d=\"M0 0h24v24H0V0z\" fill=\"none\"/>\n",
              "    <path d=\"M18.56 5.44l.94 2.06.94-2.06 2.06-.94-2.06-.94-.94-2.06-.94 2.06-2.06.94zm-11 1L8.5 8.5l.94-2.06 2.06-.94-2.06-.94L8.5 2.5l-.94 2.06-2.06.94zm10 10l.94 2.06.94-2.06 2.06-.94-2.06-.94-.94-2.06-.94 2.06-2.06.94z\"/><path d=\"M17.41 7.96l-1.37-1.37c-.4-.4-.92-.59-1.43-.59-.52 0-1.04.2-1.43.59L10.3 9.45l-7.72 7.72c-.78.78-.78 2.05 0 2.83L4 21.41c.39.39.9.59 1.41.59.51 0 1.02-.2 1.41-.59l7.78-7.78 2.81-2.81c.8-.78.8-2.07 0-2.86zM5.41 20L4 18.59l7.72-7.72 1.47 1.35L5.41 20z\"/>\n",
              "  </svg>\n",
              "      </button>\n",
              "      \n",
              "  <style>\n",
              "    .colab-df-container {\n",
              "      display:flex;\n",
              "      flex-wrap:wrap;\n",
              "      gap: 12px;\n",
              "    }\n",
              "\n",
              "    .colab-df-convert {\n",
              "      background-color: #E8F0FE;\n",
              "      border: none;\n",
              "      border-radius: 50%;\n",
              "      cursor: pointer;\n",
              "      display: none;\n",
              "      fill: #1967D2;\n",
              "      height: 32px;\n",
              "      padding: 0 0 0 0;\n",
              "      width: 32px;\n",
              "    }\n",
              "\n",
              "    .colab-df-convert:hover {\n",
              "      background-color: #E2EBFA;\n",
              "      box-shadow: 0px 1px 2px rgba(60, 64, 67, 0.3), 0px 1px 3px 1px rgba(60, 64, 67, 0.15);\n",
              "      fill: #174EA6;\n",
              "    }\n",
              "\n",
              "    [theme=dark] .colab-df-convert {\n",
              "      background-color: #3B4455;\n",
              "      fill: #D2E3FC;\n",
              "    }\n",
              "\n",
              "    [theme=dark] .colab-df-convert:hover {\n",
              "      background-color: #434B5C;\n",
              "      box-shadow: 0px 1px 3px 1px rgba(0, 0, 0, 0.15);\n",
              "      filter: drop-shadow(0px 1px 2px rgba(0, 0, 0, 0.3));\n",
              "      fill: #FFFFFF;\n",
              "    }\n",
              "  </style>\n",
              "\n",
              "      <script>\n",
              "        const buttonEl =\n",
              "          document.querySelector('#df-aabb0af2-35df-4875-8aac-b65fca9ccae3 button.colab-df-convert');\n",
              "        buttonEl.style.display =\n",
              "          google.colab.kernel.accessAllowed ? 'block' : 'none';\n",
              "\n",
              "        async function convertToInteractive(key) {\n",
              "          const element = document.querySelector('#df-aabb0af2-35df-4875-8aac-b65fca9ccae3');\n",
              "          const dataTable =\n",
              "            await google.colab.kernel.invokeFunction('convertToInteractive',\n",
              "                                                     [key], {});\n",
              "          if (!dataTable) return;\n",
              "\n",
              "          const docLinkHtml = 'Like what you see? Visit the ' +\n",
              "            '<a target=\"_blank\" href=https://colab.research.google.com/notebooks/data_table.ipynb>data table notebook</a>'\n",
              "            + ' to learn more about interactive tables.';\n",
              "          element.innerHTML = '';\n",
              "          dataTable['output_type'] = 'display_data';\n",
              "          await google.colab.output.renderOutput(dataTable, element);\n",
              "          const docLink = document.createElement('div');\n",
              "          docLink.innerHTML = docLinkHtml;\n",
              "          element.appendChild(docLink);\n",
              "        }\n",
              "      </script>\n",
              "    </div>\n",
              "  </div>\n",
              "  "
            ]
          },
          "metadata": {},
          "execution_count": 153
        }
      ]
    },
    {
      "cell_type": "markdown",
      "source": [
        "# target encoading on city columns"
      ],
      "metadata": {
        "id": "eOzUlgZuLBGE"
      }
    },
    {
      "cell_type": "code",
      "source": [
        "city_map = ml_df.groupby('City')['target'].mean().to_dict()"
      ],
      "metadata": {
        "id": "-2TlFoOcJtdQ"
      },
      "execution_count": null,
      "outputs": []
    },
    {
      "cell_type": "code",
      "source": [
        "ml_df['City'] = ml_df['City'].map(city_map)"
      ],
      "metadata": {
        "colab": {
          "base_uri": "https://localhost:8080/"
        },
        "id": "fofC7yr5KQWA",
        "outputId": "c9c0a6b3-bfcc-4e30-a717-b60383ec2ae8"
      },
      "execution_count": null,
      "outputs": [
        {
          "output_type": "stream",
          "name": "stderr",
          "text": [
            "<ipython-input-155-e82b5d0e801a>:1: SettingWithCopyWarning: \n",
            "A value is trying to be set on a copy of a slice from a DataFrame.\n",
            "Try using .loc[row_indexer,col_indexer] = value instead\n",
            "\n",
            "See the caveats in the documentation: https://pandas.pydata.org/pandas-docs/stable/user_guide/indexing.html#returning-a-view-versus-a-copy\n",
            "  ml_df['City'] = ml_df['City'].map(city_map)\n"
          ]
        }
      ]
    },
    {
      "cell_type": "markdown",
      "source": [
        "# Standerdisation of training data"
      ],
      "metadata": {
        "id": "lLH384pCPs75"
      }
    },
    {
      "cell_type": "code",
      "source": [
        "ml_df"
      ],
      "metadata": {
        "colab": {
          "base_uri": "https://localhost:8080/",
          "height": 438
        },
        "id": "yH8Wy87dNz0u",
        "outputId": "4f6e14ab-7764-434c-cbe1-8a9bb10a8315"
      },
      "execution_count": null,
      "outputs": [
        {
          "output_type": "execute_result",
          "data": {
            "text/plain": [
              "       Age Gender      City Education_Level Joining Designation Grade target  \\\n",
              "                                                                               \n",
              "1334  37.0    1.0  0.376238               2                   2     3      0   \n",
              "2606  27.0    0.0  0.287879               1                   3     3      1   \n",
              "2673  37.0    0.0  0.297297               1                   3     3      1   \n",
              "428   47.0    0.0  0.297297               2                   2     4      1   \n",
              "34    32.0    0.0  0.256757               1                   3     3      1   \n",
              "...    ...    ...       ...             ...                 ...   ...    ...   \n",
              "564   36.0    0.0  0.414062               2                   3     3      0   \n",
              "3129  32.0    1.0  0.376238               0                   3     3      0   \n",
              "537   36.0    1.0  0.414062               0                   2     2      0   \n",
              "336   34.0    0.0  0.222222               1                   1     1      0   \n",
              "837   29.0    1.0  0.215385               2                   3     3      0   \n",
              "\n",
              "     increment_income improvment_in_quat_rating  \n",
              "                                                 \n",
              "1334                0                         0  \n",
              "2606                0                         0  \n",
              "2673                0                         0  \n",
              "428                 0                         0  \n",
              "34                  0                         0  \n",
              "...               ...                       ...  \n",
              "564                 0                         1  \n",
              "3129                0                         1  \n",
              "537                 1                         1  \n",
              "336                 1                         1  \n",
              "837                 1                         1  \n",
              "\n",
              "[4526 rows x 9 columns]"
            ],
            "text/html": [
              "\n",
              "  <div id=\"df-cf63e60d-9ea8-43c4-a420-35cd1d011485\">\n",
              "    <div class=\"colab-df-container\">\n",
              "      <div>\n",
              "<style scoped>\n",
              "    .dataframe tbody tr th:only-of-type {\n",
              "        vertical-align: middle;\n",
              "    }\n",
              "\n",
              "    .dataframe tbody tr th {\n",
              "        vertical-align: top;\n",
              "    }\n",
              "\n",
              "    .dataframe thead tr th {\n",
              "        text-align: left;\n",
              "    }\n",
              "</style>\n",
              "<table border=\"1\" class=\"dataframe\">\n",
              "  <thead>\n",
              "    <tr>\n",
              "      <th></th>\n",
              "      <th>Age</th>\n",
              "      <th>Gender</th>\n",
              "      <th>City</th>\n",
              "      <th>Education_Level</th>\n",
              "      <th>Joining Designation</th>\n",
              "      <th>Grade</th>\n",
              "      <th>target</th>\n",
              "      <th>increment_income</th>\n",
              "      <th>improvment_in_quat_rating</th>\n",
              "    </tr>\n",
              "    <tr>\n",
              "      <th></th>\n",
              "      <th></th>\n",
              "      <th></th>\n",
              "      <th></th>\n",
              "      <th></th>\n",
              "      <th></th>\n",
              "      <th></th>\n",
              "      <th></th>\n",
              "      <th></th>\n",
              "      <th></th>\n",
              "    </tr>\n",
              "  </thead>\n",
              "  <tbody>\n",
              "    <tr>\n",
              "      <th>1334</th>\n",
              "      <td>37.0</td>\n",
              "      <td>1.0</td>\n",
              "      <td>0.376238</td>\n",
              "      <td>2</td>\n",
              "      <td>2</td>\n",
              "      <td>3</td>\n",
              "      <td>0</td>\n",
              "      <td>0</td>\n",
              "      <td>0</td>\n",
              "    </tr>\n",
              "    <tr>\n",
              "      <th>2606</th>\n",
              "      <td>27.0</td>\n",
              "      <td>0.0</td>\n",
              "      <td>0.287879</td>\n",
              "      <td>1</td>\n",
              "      <td>3</td>\n",
              "      <td>3</td>\n",
              "      <td>1</td>\n",
              "      <td>0</td>\n",
              "      <td>0</td>\n",
              "    </tr>\n",
              "    <tr>\n",
              "      <th>2673</th>\n",
              "      <td>37.0</td>\n",
              "      <td>0.0</td>\n",
              "      <td>0.297297</td>\n",
              "      <td>1</td>\n",
              "      <td>3</td>\n",
              "      <td>3</td>\n",
              "      <td>1</td>\n",
              "      <td>0</td>\n",
              "      <td>0</td>\n",
              "    </tr>\n",
              "    <tr>\n",
              "      <th>428</th>\n",
              "      <td>47.0</td>\n",
              "      <td>0.0</td>\n",
              "      <td>0.297297</td>\n",
              "      <td>2</td>\n",
              "      <td>2</td>\n",
              "      <td>4</td>\n",
              "      <td>1</td>\n",
              "      <td>0</td>\n",
              "      <td>0</td>\n",
              "    </tr>\n",
              "    <tr>\n",
              "      <th>34</th>\n",
              "      <td>32.0</td>\n",
              "      <td>0.0</td>\n",
              "      <td>0.256757</td>\n",
              "      <td>1</td>\n",
              "      <td>3</td>\n",
              "      <td>3</td>\n",
              "      <td>1</td>\n",
              "      <td>0</td>\n",
              "      <td>0</td>\n",
              "    </tr>\n",
              "    <tr>\n",
              "      <th>...</th>\n",
              "      <td>...</td>\n",
              "      <td>...</td>\n",
              "      <td>...</td>\n",
              "      <td>...</td>\n",
              "      <td>...</td>\n",
              "      <td>...</td>\n",
              "      <td>...</td>\n",
              "      <td>...</td>\n",
              "      <td>...</td>\n",
              "    </tr>\n",
              "    <tr>\n",
              "      <th>564</th>\n",
              "      <td>36.0</td>\n",
              "      <td>0.0</td>\n",
              "      <td>0.414062</td>\n",
              "      <td>2</td>\n",
              "      <td>3</td>\n",
              "      <td>3</td>\n",
              "      <td>0</td>\n",
              "      <td>0</td>\n",
              "      <td>1</td>\n",
              "    </tr>\n",
              "    <tr>\n",
              "      <th>3129</th>\n",
              "      <td>32.0</td>\n",
              "      <td>1.0</td>\n",
              "      <td>0.376238</td>\n",
              "      <td>0</td>\n",
              "      <td>3</td>\n",
              "      <td>3</td>\n",
              "      <td>0</td>\n",
              "      <td>0</td>\n",
              "      <td>1</td>\n",
              "    </tr>\n",
              "    <tr>\n",
              "      <th>537</th>\n",
              "      <td>36.0</td>\n",
              "      <td>1.0</td>\n",
              "      <td>0.414062</td>\n",
              "      <td>0</td>\n",
              "      <td>2</td>\n",
              "      <td>2</td>\n",
              "      <td>0</td>\n",
              "      <td>1</td>\n",
              "      <td>1</td>\n",
              "    </tr>\n",
              "    <tr>\n",
              "      <th>336</th>\n",
              "      <td>34.0</td>\n",
              "      <td>0.0</td>\n",
              "      <td>0.222222</td>\n",
              "      <td>1</td>\n",
              "      <td>1</td>\n",
              "      <td>1</td>\n",
              "      <td>0</td>\n",
              "      <td>1</td>\n",
              "      <td>1</td>\n",
              "    </tr>\n",
              "    <tr>\n",
              "      <th>837</th>\n",
              "      <td>29.0</td>\n",
              "      <td>1.0</td>\n",
              "      <td>0.215385</td>\n",
              "      <td>2</td>\n",
              "      <td>3</td>\n",
              "      <td>3</td>\n",
              "      <td>0</td>\n",
              "      <td>1</td>\n",
              "      <td>1</td>\n",
              "    </tr>\n",
              "  </tbody>\n",
              "</table>\n",
              "<p>4526 rows × 9 columns</p>\n",
              "</div>\n",
              "      <button class=\"colab-df-convert\" onclick=\"convertToInteractive('df-cf63e60d-9ea8-43c4-a420-35cd1d011485')\"\n",
              "              title=\"Convert this dataframe to an interactive table.\"\n",
              "              style=\"display:none;\">\n",
              "        \n",
              "  <svg xmlns=\"http://www.w3.org/2000/svg\" height=\"24px\"viewBox=\"0 0 24 24\"\n",
              "       width=\"24px\">\n",
              "    <path d=\"M0 0h24v24H0V0z\" fill=\"none\"/>\n",
              "    <path d=\"M18.56 5.44l.94 2.06.94-2.06 2.06-.94-2.06-.94-.94-2.06-.94 2.06-2.06.94zm-11 1L8.5 8.5l.94-2.06 2.06-.94-2.06-.94L8.5 2.5l-.94 2.06-2.06.94zm10 10l.94 2.06.94-2.06 2.06-.94-2.06-.94-.94-2.06-.94 2.06-2.06.94z\"/><path d=\"M17.41 7.96l-1.37-1.37c-.4-.4-.92-.59-1.43-.59-.52 0-1.04.2-1.43.59L10.3 9.45l-7.72 7.72c-.78.78-.78 2.05 0 2.83L4 21.41c.39.39.9.59 1.41.59.51 0 1.02-.2 1.41-.59l7.78-7.78 2.81-2.81c.8-.78.8-2.07 0-2.86zM5.41 20L4 18.59l7.72-7.72 1.47 1.35L5.41 20z\"/>\n",
              "  </svg>\n",
              "      </button>\n",
              "      \n",
              "  <style>\n",
              "    .colab-df-container {\n",
              "      display:flex;\n",
              "      flex-wrap:wrap;\n",
              "      gap: 12px;\n",
              "    }\n",
              "\n",
              "    .colab-df-convert {\n",
              "      background-color: #E8F0FE;\n",
              "      border: none;\n",
              "      border-radius: 50%;\n",
              "      cursor: pointer;\n",
              "      display: none;\n",
              "      fill: #1967D2;\n",
              "      height: 32px;\n",
              "      padding: 0 0 0 0;\n",
              "      width: 32px;\n",
              "    }\n",
              "\n",
              "    .colab-df-convert:hover {\n",
              "      background-color: #E2EBFA;\n",
              "      box-shadow: 0px 1px 2px rgba(60, 64, 67, 0.3), 0px 1px 3px 1px rgba(60, 64, 67, 0.15);\n",
              "      fill: #174EA6;\n",
              "    }\n",
              "\n",
              "    [theme=dark] .colab-df-convert {\n",
              "      background-color: #3B4455;\n",
              "      fill: #D2E3FC;\n",
              "    }\n",
              "\n",
              "    [theme=dark] .colab-df-convert:hover {\n",
              "      background-color: #434B5C;\n",
              "      box-shadow: 0px 1px 3px 1px rgba(0, 0, 0, 0.15);\n",
              "      filter: drop-shadow(0px 1px 2px rgba(0, 0, 0, 0.3));\n",
              "      fill: #FFFFFF;\n",
              "    }\n",
              "  </style>\n",
              "\n",
              "      <script>\n",
              "        const buttonEl =\n",
              "          document.querySelector('#df-cf63e60d-9ea8-43c4-a420-35cd1d011485 button.colab-df-convert');\n",
              "        buttonEl.style.display =\n",
              "          google.colab.kernel.accessAllowed ? 'block' : 'none';\n",
              "\n",
              "        async function convertToInteractive(key) {\n",
              "          const element = document.querySelector('#df-cf63e60d-9ea8-43c4-a420-35cd1d011485');\n",
              "          const dataTable =\n",
              "            await google.colab.kernel.invokeFunction('convertToInteractive',\n",
              "                                                     [key], {});\n",
              "          if (!dataTable) return;\n",
              "\n",
              "          const docLinkHtml = 'Like what you see? Visit the ' +\n",
              "            '<a target=\"_blank\" href=https://colab.research.google.com/notebooks/data_table.ipynb>data table notebook</a>'\n",
              "            + ' to learn more about interactive tables.';\n",
              "          element.innerHTML = '';\n",
              "          dataTable['output_type'] = 'display_data';\n",
              "          await google.colab.output.renderOutput(dataTable, element);\n",
              "          const docLink = document.createElement('div');\n",
              "          docLink.innerHTML = docLinkHtml;\n",
              "          element.appendChild(docLink);\n",
              "        }\n",
              "      </script>\n",
              "    </div>\n",
              "  </div>\n",
              "  "
            ]
          },
          "metadata": {},
          "execution_count": 156
        }
      ]
    },
    {
      "cell_type": "code",
      "source": [
        "ml_df.columns"
      ],
      "metadata": {
        "colab": {
          "base_uri": "https://localhost:8080/"
        },
        "id": "8ta4uMZlPVlp",
        "outputId": "e1739f39-b78e-4433-9793-2bfa1a6b52d0"
      },
      "execution_count": null,
      "outputs": [
        {
          "output_type": "execute_result",
          "data": {
            "text/plain": [
              "MultiIndex([(                      'Age', ''),\n",
              "            (                   'Gender', ''),\n",
              "            (                     'City', ''),\n",
              "            (          'Education_Level', ''),\n",
              "            (      'Joining Designation', ''),\n",
              "            (                    'Grade', ''),\n",
              "            (                   'target', ''),\n",
              "            (         'increment_income', ''),\n",
              "            ('improvment_in_quat_rating', '')],\n",
              "           )"
            ]
          },
          "metadata": {},
          "execution_count": 157
        }
      ]
    },
    {
      "cell_type": "code",
      "source": [
        "columns = [('Age', ''),( 'Education_Level', ''),('Joining Designation', ''),('Grade', '')]\n",
        "for col in columns:\n",
        "  ml_df[col] = (ml_df[col] - np.mean(ml_df[col]))/np.std(ml_df[col])"
      ],
      "metadata": {
        "colab": {
          "base_uri": "https://localhost:8080/"
        },
        "id": "PzC5S8JzOxhS",
        "outputId": "66ab34f5-5f09-4add-b133-856249d97fbb"
      },
      "execution_count": null,
      "outputs": [
        {
          "output_type": "stream",
          "name": "stderr",
          "text": [
            "<ipython-input-158-68079e35291e>:3: SettingWithCopyWarning: \n",
            "A value is trying to be set on a copy of a slice from a DataFrame.\n",
            "Try using .loc[row_indexer,col_indexer] = value instead\n",
            "\n",
            "See the caveats in the documentation: https://pandas.pydata.org/pandas-docs/stable/user_guide/indexing.html#returning-a-view-versus-a-copy\n",
            "  ml_df[col] = (ml_df[col] - np.mean(ml_df[col]))/np.std(ml_df[col])\n"
          ]
        }
      ]
    },
    {
      "cell_type": "code",
      "source": [
        "ml_df.head()"
      ],
      "metadata": {
        "id": "favikubKPeUh",
        "colab": {
          "base_uri": "https://localhost:8080/",
          "height": 220
        },
        "outputId": "94f1d5b5-4c72-41d5-904c-e0e5e7298ae1"
      },
      "execution_count": null,
      "outputs": [
        {
          "output_type": "execute_result",
          "data": {
            "text/plain": [
              "           Age Gender      City Education_Level Joining Designation     Grade  \\\n",
              "                                                                                \n",
              "1334  0.483864    1.0  0.376238        1.203496            0.255167  0.801691   \n",
              "2606 -1.168692    0.0  0.287879       -0.039265            1.425263  0.801691   \n",
              "2673  0.483864    0.0  0.297297       -0.039265            1.425263  0.801691   \n",
              "428   2.136419    0.0  0.297297        1.203496            0.255167  1.821205   \n",
              "34   -0.342414    0.0  0.256757       -0.039265            1.425263  0.801691   \n",
              "\n",
              "     target increment_income improvment_in_quat_rating  \n",
              "                                                        \n",
              "1334      0                0                         0  \n",
              "2606      1                0                         0  \n",
              "2673      1                0                         0  \n",
              "428       1                0                         0  \n",
              "34        1                0                         0  "
            ],
            "text/html": [
              "\n",
              "  <div id=\"df-819a3427-7682-4e35-a4db-42b1b8d54b3c\">\n",
              "    <div class=\"colab-df-container\">\n",
              "      <div>\n",
              "<style scoped>\n",
              "    .dataframe tbody tr th:only-of-type {\n",
              "        vertical-align: middle;\n",
              "    }\n",
              "\n",
              "    .dataframe tbody tr th {\n",
              "        vertical-align: top;\n",
              "    }\n",
              "\n",
              "    .dataframe thead tr th {\n",
              "        text-align: left;\n",
              "    }\n",
              "</style>\n",
              "<table border=\"1\" class=\"dataframe\">\n",
              "  <thead>\n",
              "    <tr>\n",
              "      <th></th>\n",
              "      <th>Age</th>\n",
              "      <th>Gender</th>\n",
              "      <th>City</th>\n",
              "      <th>Education_Level</th>\n",
              "      <th>Joining Designation</th>\n",
              "      <th>Grade</th>\n",
              "      <th>target</th>\n",
              "      <th>increment_income</th>\n",
              "      <th>improvment_in_quat_rating</th>\n",
              "    </tr>\n",
              "    <tr>\n",
              "      <th></th>\n",
              "      <th></th>\n",
              "      <th></th>\n",
              "      <th></th>\n",
              "      <th></th>\n",
              "      <th></th>\n",
              "      <th></th>\n",
              "      <th></th>\n",
              "      <th></th>\n",
              "      <th></th>\n",
              "    </tr>\n",
              "  </thead>\n",
              "  <tbody>\n",
              "    <tr>\n",
              "      <th>1334</th>\n",
              "      <td>0.483864</td>\n",
              "      <td>1.0</td>\n",
              "      <td>0.376238</td>\n",
              "      <td>1.203496</td>\n",
              "      <td>0.255167</td>\n",
              "      <td>0.801691</td>\n",
              "      <td>0</td>\n",
              "      <td>0</td>\n",
              "      <td>0</td>\n",
              "    </tr>\n",
              "    <tr>\n",
              "      <th>2606</th>\n",
              "      <td>-1.168692</td>\n",
              "      <td>0.0</td>\n",
              "      <td>0.287879</td>\n",
              "      <td>-0.039265</td>\n",
              "      <td>1.425263</td>\n",
              "      <td>0.801691</td>\n",
              "      <td>1</td>\n",
              "      <td>0</td>\n",
              "      <td>0</td>\n",
              "    </tr>\n",
              "    <tr>\n",
              "      <th>2673</th>\n",
              "      <td>0.483864</td>\n",
              "      <td>0.0</td>\n",
              "      <td>0.297297</td>\n",
              "      <td>-0.039265</td>\n",
              "      <td>1.425263</td>\n",
              "      <td>0.801691</td>\n",
              "      <td>1</td>\n",
              "      <td>0</td>\n",
              "      <td>0</td>\n",
              "    </tr>\n",
              "    <tr>\n",
              "      <th>428</th>\n",
              "      <td>2.136419</td>\n",
              "      <td>0.0</td>\n",
              "      <td>0.297297</td>\n",
              "      <td>1.203496</td>\n",
              "      <td>0.255167</td>\n",
              "      <td>1.821205</td>\n",
              "      <td>1</td>\n",
              "      <td>0</td>\n",
              "      <td>0</td>\n",
              "    </tr>\n",
              "    <tr>\n",
              "      <th>34</th>\n",
              "      <td>-0.342414</td>\n",
              "      <td>0.0</td>\n",
              "      <td>0.256757</td>\n",
              "      <td>-0.039265</td>\n",
              "      <td>1.425263</td>\n",
              "      <td>0.801691</td>\n",
              "      <td>1</td>\n",
              "      <td>0</td>\n",
              "      <td>0</td>\n",
              "    </tr>\n",
              "  </tbody>\n",
              "</table>\n",
              "</div>\n",
              "      <button class=\"colab-df-convert\" onclick=\"convertToInteractive('df-819a3427-7682-4e35-a4db-42b1b8d54b3c')\"\n",
              "              title=\"Convert this dataframe to an interactive table.\"\n",
              "              style=\"display:none;\">\n",
              "        \n",
              "  <svg xmlns=\"http://www.w3.org/2000/svg\" height=\"24px\"viewBox=\"0 0 24 24\"\n",
              "       width=\"24px\">\n",
              "    <path d=\"M0 0h24v24H0V0z\" fill=\"none\"/>\n",
              "    <path d=\"M18.56 5.44l.94 2.06.94-2.06 2.06-.94-2.06-.94-.94-2.06-.94 2.06-2.06.94zm-11 1L8.5 8.5l.94-2.06 2.06-.94-2.06-.94L8.5 2.5l-.94 2.06-2.06.94zm10 10l.94 2.06.94-2.06 2.06-.94-2.06-.94-.94-2.06-.94 2.06-2.06.94z\"/><path d=\"M17.41 7.96l-1.37-1.37c-.4-.4-.92-.59-1.43-.59-.52 0-1.04.2-1.43.59L10.3 9.45l-7.72 7.72c-.78.78-.78 2.05 0 2.83L4 21.41c.39.39.9.59 1.41.59.51 0 1.02-.2 1.41-.59l7.78-7.78 2.81-2.81c.8-.78.8-2.07 0-2.86zM5.41 20L4 18.59l7.72-7.72 1.47 1.35L5.41 20z\"/>\n",
              "  </svg>\n",
              "      </button>\n",
              "      \n",
              "  <style>\n",
              "    .colab-df-container {\n",
              "      display:flex;\n",
              "      flex-wrap:wrap;\n",
              "      gap: 12px;\n",
              "    }\n",
              "\n",
              "    .colab-df-convert {\n",
              "      background-color: #E8F0FE;\n",
              "      border: none;\n",
              "      border-radius: 50%;\n",
              "      cursor: pointer;\n",
              "      display: none;\n",
              "      fill: #1967D2;\n",
              "      height: 32px;\n",
              "      padding: 0 0 0 0;\n",
              "      width: 32px;\n",
              "    }\n",
              "\n",
              "    .colab-df-convert:hover {\n",
              "      background-color: #E2EBFA;\n",
              "      box-shadow: 0px 1px 2px rgba(60, 64, 67, 0.3), 0px 1px 3px 1px rgba(60, 64, 67, 0.15);\n",
              "      fill: #174EA6;\n",
              "    }\n",
              "\n",
              "    [theme=dark] .colab-df-convert {\n",
              "      background-color: #3B4455;\n",
              "      fill: #D2E3FC;\n",
              "    }\n",
              "\n",
              "    [theme=dark] .colab-df-convert:hover {\n",
              "      background-color: #434B5C;\n",
              "      box-shadow: 0px 1px 3px 1px rgba(0, 0, 0, 0.15);\n",
              "      filter: drop-shadow(0px 1px 2px rgba(0, 0, 0, 0.3));\n",
              "      fill: #FFFFFF;\n",
              "    }\n",
              "  </style>\n",
              "\n",
              "      <script>\n",
              "        const buttonEl =\n",
              "          document.querySelector('#df-819a3427-7682-4e35-a4db-42b1b8d54b3c button.colab-df-convert');\n",
              "        buttonEl.style.display =\n",
              "          google.colab.kernel.accessAllowed ? 'block' : 'none';\n",
              "\n",
              "        async function convertToInteractive(key) {\n",
              "          const element = document.querySelector('#df-819a3427-7682-4e35-a4db-42b1b8d54b3c');\n",
              "          const dataTable =\n",
              "            await google.colab.kernel.invokeFunction('convertToInteractive',\n",
              "                                                     [key], {});\n",
              "          if (!dataTable) return;\n",
              "\n",
              "          const docLinkHtml = 'Like what you see? Visit the ' +\n",
              "            '<a target=\"_blank\" href=https://colab.research.google.com/notebooks/data_table.ipynb>data table notebook</a>'\n",
              "            + ' to learn more about interactive tables.';\n",
              "          element.innerHTML = '';\n",
              "          dataTable['output_type'] = 'display_data';\n",
              "          await google.colab.output.renderOutput(dataTable, element);\n",
              "          const docLink = document.createElement('div');\n",
              "          docLink.innerHTML = docLinkHtml;\n",
              "          element.appendChild(docLink);\n",
              "        }\n",
              "      </script>\n",
              "    </div>\n",
              "  </div>\n",
              "  "
            ]
          },
          "metadata": {},
          "execution_count": 159
        }
      ]
    },
    {
      "cell_type": "code",
      "source": [
        "ml_df.columns = [''.join(x) for x in ml_df.columns]"
      ],
      "metadata": {
        "id": "D15i314cl0It"
      },
      "execution_count": null,
      "outputs": []
    },
    {
      "cell_type": "code",
      "source": [
        "ml_df = ml_df.astype('int')"
      ],
      "metadata": {
        "id": "hvlHeHQpna3r"
      },
      "execution_count": null,
      "outputs": []
    },
    {
      "cell_type": "markdown",
      "source": [
        "# Ensemble learning (Bagging)  "
      ],
      "metadata": {
        "id": "fBxuJALwi7pQ"
      }
    },
    {
      "cell_type": "markdown",
      "source": [
        "first of all lets build a basic model whithout any instructions i.e with default values"
      ],
      "metadata": {
        "id": "OqNLKHU-Gbpg"
      }
    },
    {
      "cell_type": "code",
      "source": [
        "from sklearn.model_selection import train_test_split\n",
        "# Putting feature variable to X\n",
        "X = ml_df.drop(['target'],axis=1).astype('int')\n",
        "\n",
        "# Putting response variable to y\n",
        "y = ml_df['target'].astype('int')\n",
        "\n",
        "# Splitting the data into train and test\n",
        "X_train, X_test, y_train, y_test = train_test_split(X, y, test_size=0.30, random_state=101)"
      ],
      "metadata": {
        "id": "SjLs6LFUQeC3"
      },
      "execution_count": null,
      "outputs": []
    },
    {
      "cell_type": "code",
      "source": [
        "from sklearn.ensemble import RandomForestClassifier"
      ],
      "metadata": {
        "id": "Dfw3WELGlEPG"
      },
      "execution_count": null,
      "outputs": []
    },
    {
      "cell_type": "code",
      "source": [
        "rf = RandomForestClassifier()"
      ],
      "metadata": {
        "id": "6ef74r_HlNOb"
      },
      "execution_count": null,
      "outputs": []
    },
    {
      "cell_type": "code",
      "source": [
        "rf.fit(X_train, y_train)"
      ],
      "metadata": {
        "colab": {
          "base_uri": "https://localhost:8080/"
        },
        "id": "Jxe10j6xlPqg",
        "outputId": "fe89d1ca-c4ae-42af-b646-8ad810baa9a2"
      },
      "execution_count": null,
      "outputs": [
        {
          "output_type": "execute_result",
          "data": {
            "text/plain": [
              "RandomForestClassifier()"
            ]
          },
          "metadata": {},
          "execution_count": 165
        }
      ]
    },
    {
      "cell_type": "code",
      "source": [
        "pred = rf.predict(X_test)"
      ],
      "metadata": {
        "id": "UWvfUgwVlTO-"
      },
      "execution_count": null,
      "outputs": []
    },
    {
      "cell_type": "code",
      "source": [
        "from sklearn.metrics import classification_report"
      ],
      "metadata": {
        "id": "KEHvtnqvGF8i"
      },
      "execution_count": null,
      "outputs": []
    },
    {
      "cell_type": "code",
      "source": [
        "print(classification_report(y_test,pred))"
      ],
      "metadata": {
        "colab": {
          "base_uri": "https://localhost:8080/"
        },
        "id": "d2uAje-8GTF7",
        "outputId": "05dae3c7-91ab-4a06-a7b4-228861610505"
      },
      "execution_count": null,
      "outputs": [
        {
          "output_type": "stream",
          "name": "stdout",
          "text": [
            "              precision    recall  f1-score   support\n",
            "\n",
            "           0       0.82      0.80      0.81       948\n",
            "           1       0.56      0.59      0.58       410\n",
            "\n",
            "    accuracy                           0.74      1358\n",
            "   macro avg       0.69      0.70      0.69      1358\n",
            "weighted avg       0.74      0.74      0.74      1358\n",
            "\n"
          ]
        }
      ]
    },
    {
      "cell_type": "markdown",
      "source": [
        "**classification report description**\n",
        "\n",
        "**precision :** Precision is defined as the ratio of true positives to the sum of true and false positives.\n",
        "\n",
        "**recall :** Recall is defined as the ratio of true positives to the sum of true positives and false negatives.\n",
        "\n",
        "**F1 score :** The F1 is the weighted harmonic mean of precision and recall. The closer the value of the F1 score is to 1.0, the better the expected performance of the model is.\n",
        "\n",
        "**Support :** Support is the number of actual occurrences of the class in the dataset. It doesn’t vary between models, it just diagnoses the performance evaluation process."
      ],
      "metadata": {
        "id": "iKKXiCRyHIIM"
      }
    },
    {
      "cell_type": "markdown",
      "source": [
        "here from f1 score we can see for predicting 1 the probability of correctly predicting is only 59% i.e model doing desent job in predicting a variable"
      ],
      "metadata": {
        "id": "B5LgKIqsILuw"
      }
    },
    {
      "cell_type": "markdown",
      "source": [
        "# Hyper-Parameter tuning For the model"
      ],
      "metadata": {
        "id": "wOOJbiZ_N-jn"
      }
    },
    {
      "cell_type": "markdown",
      "source": [
        "## Hyper tuning for MAX_DEPTH"
      ],
      "metadata": {
        "id": "dZX4unkzPg-S"
      }
    },
    {
      "cell_type": "code",
      "source": [
        "# GridSearchCV to find optimal n_estimators\n",
        "from sklearn.model_selection import KFold\n",
        "from sklearn.model_selection import GridSearchCV\n",
        "\n",
        "\n",
        "# specify number of folds for k-fold CV\n",
        "n_folds = 5\n",
        "\n",
        "# parameters to build the model on\n",
        "parameters = {'max_depth': range(4, 20, 2)}\n",
        "\n",
        "# instantiate the model\n",
        "rf = RandomForestClassifier()\n",
        "\n",
        "\n",
        "# fit tree on training data\n",
        "rf = GridSearchCV(rf, parameters, \n",
        "                    cv=n_folds, \n",
        "                   scoring=\"accuracy\",return_train_score=True)\n",
        "rf.fit(X_train, y_train)"
      ],
      "metadata": {
        "colab": {
          "base_uri": "https://localhost:8080/"
        },
        "id": "vmOl2u8WK23d",
        "outputId": "04e341ef-7b6e-4f3d-8c44-217434b024ab"
      },
      "execution_count": null,
      "outputs": [
        {
          "output_type": "execute_result",
          "data": {
            "text/plain": [
              "GridSearchCV(cv=5, estimator=RandomForestClassifier(),\n",
              "             param_grid={'max_depth': range(4, 20, 2)}, return_train_score=True,\n",
              "             scoring='accuracy')"
            ]
          },
          "metadata": {},
          "execution_count": 169
        }
      ]
    },
    {
      "cell_type": "code",
      "source": [
        "# scores of GridSearch CV\n",
        "scores = rf.cv_results_\n",
        "pd.DataFrame(scores).head()"
      ],
      "metadata": {
        "colab": {
          "base_uri": "https://localhost:8080/",
          "height": 386
        },
        "id": "rn9KRuphOgKr",
        "outputId": "81d00648-78a2-479b-c116-da70286b33d7"
      },
      "execution_count": null,
      "outputs": [
        {
          "output_type": "execute_result",
          "data": {
            "text/plain": [
              "   mean_fit_time  std_fit_time  mean_score_time  std_score_time  \\\n",
              "0       0.174963      0.009466         0.017226        0.000870   \n",
              "1       0.182515      0.004916         0.018584        0.000280   \n",
              "2       0.189214      0.004738         0.022115        0.003396   \n",
              "3       0.239450      0.048622         0.026705        0.007809   \n",
              "4       0.208713      0.004930         0.023602        0.001916   \n",
              "\n",
              "  param_max_depth             params  split0_test_score  split1_test_score  \\\n",
              "0               4   {'max_depth': 4}           0.749211           0.774448   \n",
              "1               6   {'max_depth': 6}           0.760252           0.779180   \n",
              "2               8   {'max_depth': 8}           0.758675           0.777603   \n",
              "3              10  {'max_depth': 10}           0.768139           0.774448   \n",
              "4              12  {'max_depth': 12}           0.758675           0.780757   \n",
              "\n",
              "   split2_test_score  split3_test_score  ...  mean_test_score  std_test_score  \\\n",
              "0           0.780757           0.729858  ...         0.756618        0.018614   \n",
              "1           0.782334           0.770932  ...         0.770198        0.009686   \n",
              "2           0.790221           0.772512  ...         0.773357        0.010487   \n",
              "3           0.785489           0.756714  ...         0.772092        0.009486   \n",
              "4           0.771293           0.761453  ...         0.768938        0.007992   \n",
              "\n",
              "   rank_test_score  split0_train_score  split1_train_score  \\\n",
              "0                8            0.769534            0.771113   \n",
              "1                3            0.788477            0.784925   \n",
              "2                1            0.798737            0.799921   \n",
              "3                2            0.805446            0.803078   \n",
              "4                4            0.805446            0.803473   \n",
              "\n",
              "   split2_train_score  split3_train_score  split4_train_score  \\\n",
              "0            0.773875            0.762130            0.775542   \n",
              "1            0.783346            0.786982            0.786588   \n",
              "2            0.791634            0.799211            0.795266   \n",
              "3            0.800710            0.803945            0.801183   \n",
              "4            0.801105            0.804339            0.801183   \n",
              "\n",
              "   mean_train_score  std_train_score  \n",
              "0          0.770439         0.004651  \n",
              "1          0.786064         0.001768  \n",
              "2          0.796954         0.003106  \n",
              "3          0.802873         0.001752  \n",
              "4          0.803109         0.001722  \n",
              "\n",
              "[5 rows x 21 columns]"
            ],
            "text/html": [
              "\n",
              "  <div id=\"df-e1f4c210-b4ee-4b41-ae45-828f41de82aa\">\n",
              "    <div class=\"colab-df-container\">\n",
              "      <div>\n",
              "<style scoped>\n",
              "    .dataframe tbody tr th:only-of-type {\n",
              "        vertical-align: middle;\n",
              "    }\n",
              "\n",
              "    .dataframe tbody tr th {\n",
              "        vertical-align: top;\n",
              "    }\n",
              "\n",
              "    .dataframe thead th {\n",
              "        text-align: right;\n",
              "    }\n",
              "</style>\n",
              "<table border=\"1\" class=\"dataframe\">\n",
              "  <thead>\n",
              "    <tr style=\"text-align: right;\">\n",
              "      <th></th>\n",
              "      <th>mean_fit_time</th>\n",
              "      <th>std_fit_time</th>\n",
              "      <th>mean_score_time</th>\n",
              "      <th>std_score_time</th>\n",
              "      <th>param_max_depth</th>\n",
              "      <th>params</th>\n",
              "      <th>split0_test_score</th>\n",
              "      <th>split1_test_score</th>\n",
              "      <th>split2_test_score</th>\n",
              "      <th>split3_test_score</th>\n",
              "      <th>...</th>\n",
              "      <th>mean_test_score</th>\n",
              "      <th>std_test_score</th>\n",
              "      <th>rank_test_score</th>\n",
              "      <th>split0_train_score</th>\n",
              "      <th>split1_train_score</th>\n",
              "      <th>split2_train_score</th>\n",
              "      <th>split3_train_score</th>\n",
              "      <th>split4_train_score</th>\n",
              "      <th>mean_train_score</th>\n",
              "      <th>std_train_score</th>\n",
              "    </tr>\n",
              "  </thead>\n",
              "  <tbody>\n",
              "    <tr>\n",
              "      <th>0</th>\n",
              "      <td>0.174963</td>\n",
              "      <td>0.009466</td>\n",
              "      <td>0.017226</td>\n",
              "      <td>0.000870</td>\n",
              "      <td>4</td>\n",
              "      <td>{'max_depth': 4}</td>\n",
              "      <td>0.749211</td>\n",
              "      <td>0.774448</td>\n",
              "      <td>0.780757</td>\n",
              "      <td>0.729858</td>\n",
              "      <td>...</td>\n",
              "      <td>0.756618</td>\n",
              "      <td>0.018614</td>\n",
              "      <td>8</td>\n",
              "      <td>0.769534</td>\n",
              "      <td>0.771113</td>\n",
              "      <td>0.773875</td>\n",
              "      <td>0.762130</td>\n",
              "      <td>0.775542</td>\n",
              "      <td>0.770439</td>\n",
              "      <td>0.004651</td>\n",
              "    </tr>\n",
              "    <tr>\n",
              "      <th>1</th>\n",
              "      <td>0.182515</td>\n",
              "      <td>0.004916</td>\n",
              "      <td>0.018584</td>\n",
              "      <td>0.000280</td>\n",
              "      <td>6</td>\n",
              "      <td>{'max_depth': 6}</td>\n",
              "      <td>0.760252</td>\n",
              "      <td>0.779180</td>\n",
              "      <td>0.782334</td>\n",
              "      <td>0.770932</td>\n",
              "      <td>...</td>\n",
              "      <td>0.770198</td>\n",
              "      <td>0.009686</td>\n",
              "      <td>3</td>\n",
              "      <td>0.788477</td>\n",
              "      <td>0.784925</td>\n",
              "      <td>0.783346</td>\n",
              "      <td>0.786982</td>\n",
              "      <td>0.786588</td>\n",
              "      <td>0.786064</td>\n",
              "      <td>0.001768</td>\n",
              "    </tr>\n",
              "    <tr>\n",
              "      <th>2</th>\n",
              "      <td>0.189214</td>\n",
              "      <td>0.004738</td>\n",
              "      <td>0.022115</td>\n",
              "      <td>0.003396</td>\n",
              "      <td>8</td>\n",
              "      <td>{'max_depth': 8}</td>\n",
              "      <td>0.758675</td>\n",
              "      <td>0.777603</td>\n",
              "      <td>0.790221</td>\n",
              "      <td>0.772512</td>\n",
              "      <td>...</td>\n",
              "      <td>0.773357</td>\n",
              "      <td>0.010487</td>\n",
              "      <td>1</td>\n",
              "      <td>0.798737</td>\n",
              "      <td>0.799921</td>\n",
              "      <td>0.791634</td>\n",
              "      <td>0.799211</td>\n",
              "      <td>0.795266</td>\n",
              "      <td>0.796954</td>\n",
              "      <td>0.003106</td>\n",
              "    </tr>\n",
              "    <tr>\n",
              "      <th>3</th>\n",
              "      <td>0.239450</td>\n",
              "      <td>0.048622</td>\n",
              "      <td>0.026705</td>\n",
              "      <td>0.007809</td>\n",
              "      <td>10</td>\n",
              "      <td>{'max_depth': 10}</td>\n",
              "      <td>0.768139</td>\n",
              "      <td>0.774448</td>\n",
              "      <td>0.785489</td>\n",
              "      <td>0.756714</td>\n",
              "      <td>...</td>\n",
              "      <td>0.772092</td>\n",
              "      <td>0.009486</td>\n",
              "      <td>2</td>\n",
              "      <td>0.805446</td>\n",
              "      <td>0.803078</td>\n",
              "      <td>0.800710</td>\n",
              "      <td>0.803945</td>\n",
              "      <td>0.801183</td>\n",
              "      <td>0.802873</td>\n",
              "      <td>0.001752</td>\n",
              "    </tr>\n",
              "    <tr>\n",
              "      <th>4</th>\n",
              "      <td>0.208713</td>\n",
              "      <td>0.004930</td>\n",
              "      <td>0.023602</td>\n",
              "      <td>0.001916</td>\n",
              "      <td>12</td>\n",
              "      <td>{'max_depth': 12}</td>\n",
              "      <td>0.758675</td>\n",
              "      <td>0.780757</td>\n",
              "      <td>0.771293</td>\n",
              "      <td>0.761453</td>\n",
              "      <td>...</td>\n",
              "      <td>0.768938</td>\n",
              "      <td>0.007992</td>\n",
              "      <td>4</td>\n",
              "      <td>0.805446</td>\n",
              "      <td>0.803473</td>\n",
              "      <td>0.801105</td>\n",
              "      <td>0.804339</td>\n",
              "      <td>0.801183</td>\n",
              "      <td>0.803109</td>\n",
              "      <td>0.001722</td>\n",
              "    </tr>\n",
              "  </tbody>\n",
              "</table>\n",
              "<p>5 rows × 21 columns</p>\n",
              "</div>\n",
              "      <button class=\"colab-df-convert\" onclick=\"convertToInteractive('df-e1f4c210-b4ee-4b41-ae45-828f41de82aa')\"\n",
              "              title=\"Convert this dataframe to an interactive table.\"\n",
              "              style=\"display:none;\">\n",
              "        \n",
              "  <svg xmlns=\"http://www.w3.org/2000/svg\" height=\"24px\"viewBox=\"0 0 24 24\"\n",
              "       width=\"24px\">\n",
              "    <path d=\"M0 0h24v24H0V0z\" fill=\"none\"/>\n",
              "    <path d=\"M18.56 5.44l.94 2.06.94-2.06 2.06-.94-2.06-.94-.94-2.06-.94 2.06-2.06.94zm-11 1L8.5 8.5l.94-2.06 2.06-.94-2.06-.94L8.5 2.5l-.94 2.06-2.06.94zm10 10l.94 2.06.94-2.06 2.06-.94-2.06-.94-.94-2.06-.94 2.06-2.06.94z\"/><path d=\"M17.41 7.96l-1.37-1.37c-.4-.4-.92-.59-1.43-.59-.52 0-1.04.2-1.43.59L10.3 9.45l-7.72 7.72c-.78.78-.78 2.05 0 2.83L4 21.41c.39.39.9.59 1.41.59.51 0 1.02-.2 1.41-.59l7.78-7.78 2.81-2.81c.8-.78.8-2.07 0-2.86zM5.41 20L4 18.59l7.72-7.72 1.47 1.35L5.41 20z\"/>\n",
              "  </svg>\n",
              "      </button>\n",
              "      \n",
              "  <style>\n",
              "    .colab-df-container {\n",
              "      display:flex;\n",
              "      flex-wrap:wrap;\n",
              "      gap: 12px;\n",
              "    }\n",
              "\n",
              "    .colab-df-convert {\n",
              "      background-color: #E8F0FE;\n",
              "      border: none;\n",
              "      border-radius: 50%;\n",
              "      cursor: pointer;\n",
              "      display: none;\n",
              "      fill: #1967D2;\n",
              "      height: 32px;\n",
              "      padding: 0 0 0 0;\n",
              "      width: 32px;\n",
              "    }\n",
              "\n",
              "    .colab-df-convert:hover {\n",
              "      background-color: #E2EBFA;\n",
              "      box-shadow: 0px 1px 2px rgba(60, 64, 67, 0.3), 0px 1px 3px 1px rgba(60, 64, 67, 0.15);\n",
              "      fill: #174EA6;\n",
              "    }\n",
              "\n",
              "    [theme=dark] .colab-df-convert {\n",
              "      background-color: #3B4455;\n",
              "      fill: #D2E3FC;\n",
              "    }\n",
              "\n",
              "    [theme=dark] .colab-df-convert:hover {\n",
              "      background-color: #434B5C;\n",
              "      box-shadow: 0px 1px 3px 1px rgba(0, 0, 0, 0.15);\n",
              "      filter: drop-shadow(0px 1px 2px rgba(0, 0, 0, 0.3));\n",
              "      fill: #FFFFFF;\n",
              "    }\n",
              "  </style>\n",
              "\n",
              "      <script>\n",
              "        const buttonEl =\n",
              "          document.querySelector('#df-e1f4c210-b4ee-4b41-ae45-828f41de82aa button.colab-df-convert');\n",
              "        buttonEl.style.display =\n",
              "          google.colab.kernel.accessAllowed ? 'block' : 'none';\n",
              "\n",
              "        async function convertToInteractive(key) {\n",
              "          const element = document.querySelector('#df-e1f4c210-b4ee-4b41-ae45-828f41de82aa');\n",
              "          const dataTable =\n",
              "            await google.colab.kernel.invokeFunction('convertToInteractive',\n",
              "                                                     [key], {});\n",
              "          if (!dataTable) return;\n",
              "\n",
              "          const docLinkHtml = 'Like what you see? Visit the ' +\n",
              "            '<a target=\"_blank\" href=https://colab.research.google.com/notebooks/data_table.ipynb>data table notebook</a>'\n",
              "            + ' to learn more about interactive tables.';\n",
              "          element.innerHTML = '';\n",
              "          dataTable['output_type'] = 'display_data';\n",
              "          await google.colab.output.renderOutput(dataTable, element);\n",
              "          const docLink = document.createElement('div');\n",
              "          docLink.innerHTML = docLinkHtml;\n",
              "          element.appendChild(docLink);\n",
              "        }\n",
              "      </script>\n",
              "    </div>\n",
              "  </div>\n",
              "  "
            ]
          },
          "metadata": {},
          "execution_count": 170
        }
      ]
    },
    {
      "cell_type": "code",
      "source": [
        "# plotting accuracies with max_depth\n",
        "plt.figure()\n",
        "plt.title('Effect of different max_depth on accuracy of model')\n",
        "plt.plot(scores[\"param_max_depth\"], \n",
        "         scores[\"mean_train_score\"], \n",
        "         label=\"training accuracy\")\n",
        "plt.plot(scores[\"param_max_depth\"], \n",
        "         scores[\"mean_test_score\"], \n",
        "         label=\"test accuracy\")\n",
        "plt.xlabel(\"max_depth\")\n",
        "plt.ylabel(\"Accuracy\")\n",
        "plt.grid()\n",
        "plt.legend()\n",
        "plt.show()"
      ],
      "metadata": {
        "colab": {
          "base_uri": "https://localhost:8080/",
          "height": 296
        },
        "id": "4Sa4i3zqOnSB",
        "outputId": "a82e35aa-431c-4e17-9ec3-16fed5456d6e"
      },
      "execution_count": null,
      "outputs": [
        {
          "output_type": "display_data",
          "data": {
            "text/plain": [
              "<Figure size 432x288 with 1 Axes>"
            ],
            "image/png": "[encoded data removed]"
          },
          "metadata": {
            "needs_background": "light"
          }
        }
      ]
    },
    {
      "cell_type": "markdown",
      "source": [
        "here we can see test and train accuracy increses upto max_depth = 8 after that training accuracy increses but on unseen test data its accuracy decreses"
      ],
      "metadata": {
        "id": "n08TkTn1PBFO"
      }
    },
    {
      "cell_type": "markdown",
      "source": [
        "## Hyper tuning for n_estimators"
      ],
      "metadata": {
        "id": "ohoLFcVpPpnL"
      }
    },
    {
      "cell_type": "code",
      "source": [
        "# specify number of folds for k-fold CV\n",
        "n_folds = 5\n",
        "\n",
        "# parameters to build the model on\n",
        "parameters = {'n_estimators': range(100, 1500, 100)}\n",
        "\n",
        "# instantiate the model (note we are specifying a max_depth)\n",
        "rf = RandomForestClassifier(max_depth=8)\n",
        "\n",
        "\n",
        "# fit tree on training data\n",
        "rf = GridSearchCV(rf, parameters, \n",
        "                    cv=n_folds, \n",
        "                   scoring=\"accuracy\",return_train_score=True)\n",
        "rf.fit(X_train, y_train)"
      ],
      "metadata": {
        "colab": {
          "base_uri": "https://localhost:8080/"
        },
        "id": "4ZJHlMVTOvcj",
        "outputId": "cb7fd83e-a5ea-414f-8ae6-562b05603720"
      },
      "execution_count": null,
      "outputs": [
        {
          "output_type": "execute_result",
          "data": {
            "text/plain": [
              "GridSearchCV(cv=5, estimator=RandomForestClassifier(max_depth=8),\n",
              "             param_grid={'n_estimators': range(100, 1500, 100)},\n",
              "             return_train_score=True, scoring='accuracy')"
            ]
          },
          "metadata": {},
          "execution_count": 172
        }
      ]
    },
    {
      "cell_type": "code",
      "source": [
        "# scores of GridSearch CV\n",
        "scores = rf.cv_results_\n",
        "pd.DataFrame(scores).head()"
      ],
      "metadata": {
        "colab": {
          "base_uri": "https://localhost:8080/",
          "height": 386
        },
        "id": "XvUHx5tEQe0H",
        "outputId": "d396897b-7599-4a57-ee00-c02145c0ca9c"
      },
      "execution_count": null,
      "outputs": [
        {
          "output_type": "execute_result",
          "data": {
            "text/plain": [
              "   mean_fit_time  std_fit_time  mean_score_time  std_score_time  \\\n",
              "0       0.438792      0.056117         0.046432        0.017323   \n",
              "1       0.824168      0.054318         0.100962        0.023467   \n",
              "2       1.339085      0.205919         0.106498        0.008475   \n",
              "3       1.025635      0.442712         0.088341        0.023987   \n",
              "4       0.928774      0.003100         0.095936        0.004412   \n",
              "\n",
              "  param_n_estimators                 params  split0_test_score  \\\n",
              "0                100  {'n_estimators': 100}           0.758675   \n",
              "1                200  {'n_estimators': 200}           0.757098   \n",
              "2                300  {'n_estimators': 300}           0.761830   \n",
              "3                400  {'n_estimators': 400}           0.758675   \n",
              "4                500  {'n_estimators': 500}           0.760252   \n",
              "\n",
              "   split1_test_score  split2_test_score  split3_test_score  ...  \\\n",
              "0           0.782334           0.790221           0.774092  ...   \n",
              "1           0.780757           0.791798           0.775671  ...   \n",
              "2           0.782334           0.793375           0.770932  ...   \n",
              "3           0.782334           0.793375           0.774092  ...   \n",
              "4           0.782334           0.790221           0.772512  ...   \n",
              "\n",
              "   mean_test_score  std_test_score  rank_test_score  split0_train_score  \\\n",
              "0         0.775251        0.010668                9            0.800316   \n",
              "1         0.774935        0.011560               12            0.801500   \n",
              "2         0.774617        0.011736               14            0.800316   \n",
              "3         0.775250        0.011922               10            0.800316   \n",
              "4         0.775566        0.010136                6            0.799921   \n",
              "\n",
              "   split1_train_score  split2_train_score  split3_train_score  \\\n",
              "0            0.798343            0.795185            0.799211   \n",
              "1            0.798343            0.795580            0.797239   \n",
              "2            0.798343            0.795185            0.798422   \n",
              "3            0.797553            0.794396            0.798422   \n",
              "4            0.797948            0.795580            0.799211   \n",
              "\n",
              "   split4_train_score  mean_train_score  std_train_score  \n",
              "0            0.794872          0.797585         0.002181  \n",
              "1            0.796450          0.797822         0.002052  \n",
              "2            0.795661          0.797585         0.001907  \n",
              "3            0.793688          0.796875         0.002490  \n",
              "4            0.796450          0.797822         0.001629  \n",
              "\n",
              "[5 rows x 21 columns]"
            ],
            "text/html": [
              "\n",
              "  <div id=\"df-4d32c625-0b0b-4c3d-84fb-7a181822afc3\">\n",
              "    <div class=\"colab-df-container\">\n",
              "      <div>\n",
              "<style scoped>\n",
              "    .dataframe tbody tr th:only-of-type {\n",
              "        vertical-align: middle;\n",
              "    }\n",
              "\n",
              "    .dataframe tbody tr th {\n",
              "        vertical-align: top;\n",
              "    }\n",
              "\n",
              "    .dataframe thead th {\n",
              "        text-align: right;\n",
              "    }\n",
              "</style>\n",
              "<table border=\"1\" class=\"dataframe\">\n",
              "  <thead>\n",
              "    <tr style=\"text-align: right;\">\n",
              "      <th></th>\n",
              "      <th>mean_fit_time</th>\n",
              "      <th>std_fit_time</th>\n",
              "      <th>mean_score_time</th>\n",
              "      <th>std_score_time</th>\n",
              "      <th>param_n_estimators</th>\n",
              "      <th>params</th>\n",
              "      <th>split0_test_score</th>\n",
              "      <th>split1_test_score</th>\n",
              "      <th>split2_test_score</th>\n",
              "      <th>split3_test_score</th>\n",
              "      <th>...</th>\n",
              "      <th>mean_test_score</th>\n",
              "      <th>std_test_score</th>\n",
              "      <th>rank_test_score</th>\n",
              "      <th>split0_train_score</th>\n",
              "      <th>split1_train_score</th>\n",
              "      <th>split2_train_score</th>\n",
              "      <th>split3_train_score</th>\n",
              "      <th>split4_train_score</th>\n",
              "      <th>mean_train_score</th>\n",
              "      <th>std_train_score</th>\n",
              "    </tr>\n",
              "  </thead>\n",
              "  <tbody>\n",
              "    <tr>\n",
              "      <th>0</th>\n",
              "      <td>0.438792</td>\n",
              "      <td>0.056117</td>\n",
              "      <td>0.046432</td>\n",
              "      <td>0.017323</td>\n",
              "      <td>100</td>\n",
              "      <td>{'n_estimators': 100}</td>\n",
              "      <td>0.758675</td>\n",
              "      <td>0.782334</td>\n",
              "      <td>0.790221</td>\n",
              "      <td>0.774092</td>\n",
              "      <td>...</td>\n",
              "      <td>0.775251</td>\n",
              "      <td>0.010668</td>\n",
              "      <td>9</td>\n",
              "      <td>0.800316</td>\n",
              "      <td>0.798343</td>\n",
              "      <td>0.795185</td>\n",
              "      <td>0.799211</td>\n",
              "      <td>0.794872</td>\n",
              "      <td>0.797585</td>\n",
              "      <td>0.002181</td>\n",
              "    </tr>\n",
              "    <tr>\n",
              "      <th>1</th>\n",
              "      <td>0.824168</td>\n",
              "      <td>0.054318</td>\n",
              "      <td>0.100962</td>\n",
              "      <td>0.023467</td>\n",
              "      <td>200</td>\n",
              "      <td>{'n_estimators': 200}</td>\n",
              "      <td>0.757098</td>\n",
              "      <td>0.780757</td>\n",
              "      <td>0.791798</td>\n",
              "      <td>0.775671</td>\n",
              "      <td>...</td>\n",
              "      <td>0.774935</td>\n",
              "      <td>0.011560</td>\n",
              "      <td>12</td>\n",
              "      <td>0.801500</td>\n",
              "      <td>0.798343</td>\n",
              "      <td>0.795580</td>\n",
              "      <td>0.797239</td>\n",
              "      <td>0.796450</td>\n",
              "      <td>0.797822</td>\n",
              "      <td>0.002052</td>\n",
              "    </tr>\n",
              "    <tr>\n",
              "      <th>2</th>\n",
              "      <td>1.339085</td>\n",
              "      <td>0.205919</td>\n",
              "      <td>0.106498</td>\n",
              "      <td>0.008475</td>\n",
              "      <td>300</td>\n",
              "      <td>{'n_estimators': 300}</td>\n",
              "      <td>0.761830</td>\n",
              "      <td>0.782334</td>\n",
              "      <td>0.793375</td>\n",
              "      <td>0.770932</td>\n",
              "      <td>...</td>\n",
              "      <td>0.774617</td>\n",
              "      <td>0.011736</td>\n",
              "      <td>14</td>\n",
              "      <td>0.800316</td>\n",
              "      <td>0.798343</td>\n",
              "      <td>0.795185</td>\n",
              "      <td>0.798422</td>\n",
              "      <td>0.795661</td>\n",
              "      <td>0.797585</td>\n",
              "      <td>0.001907</td>\n",
              "    </tr>\n",
              "    <tr>\n",
              "      <th>3</th>\n",
              "      <td>1.025635</td>\n",
              "      <td>0.442712</td>\n",
              "      <td>0.088341</td>\n",
              "      <td>0.023987</td>\n",
              "      <td>400</td>\n",
              "      <td>{'n_estimators': 400}</td>\n",
              "      <td>0.758675</td>\n",
              "      <td>0.782334</td>\n",
              "      <td>0.793375</td>\n",
              "      <td>0.774092</td>\n",
              "      <td>...</td>\n",
              "      <td>0.775250</td>\n",
              "      <td>0.011922</td>\n",
              "      <td>10</td>\n",
              "      <td>0.800316</td>\n",
              "      <td>0.797553</td>\n",
              "      <td>0.794396</td>\n",
              "      <td>0.798422</td>\n",
              "      <td>0.793688</td>\n",
              "      <td>0.796875</td>\n",
              "      <td>0.002490</td>\n",
              "    </tr>\n",
              "    <tr>\n",
              "      <th>4</th>\n",
              "      <td>0.928774</td>\n",
              "      <td>0.003100</td>\n",
              "      <td>0.095936</td>\n",
              "      <td>0.004412</td>\n",
              "      <td>500</td>\n",
              "      <td>{'n_estimators': 500}</td>\n",
              "      <td>0.760252</td>\n",
              "      <td>0.782334</td>\n",
              "      <td>0.790221</td>\n",
              "      <td>0.772512</td>\n",
              "      <td>...</td>\n",
              "      <td>0.775566</td>\n",
              "      <td>0.010136</td>\n",
              "      <td>6</td>\n",
              "      <td>0.799921</td>\n",
              "      <td>0.797948</td>\n",
              "      <td>0.795580</td>\n",
              "      <td>0.799211</td>\n",
              "      <td>0.796450</td>\n",
              "      <td>0.797822</td>\n",
              "      <td>0.001629</td>\n",
              "    </tr>\n",
              "  </tbody>\n",
              "</table>\n",
              "<p>5 rows × 21 columns</p>\n",
              "</div>\n",
              "      <button class=\"colab-df-convert\" onclick=\"convertToInteractive('df-4d32c625-0b0b-4c3d-84fb-7a181822afc3')\"\n",
              "              title=\"Convert this dataframe to an interactive table.\"\n",
              "              style=\"display:none;\">\n",
              "        \n",
              "  <svg xmlns=\"http://www.w3.org/2000/svg\" height=\"24px\"viewBox=\"0 0 24 24\"\n",
              "       width=\"24px\">\n",
              "    <path d=\"M0 0h24v24H0V0z\" fill=\"none\"/>\n",
              "    <path d=\"M18.56 5.44l.94 2.06.94-2.06 2.06-.94-2.06-.94-.94-2.06-.94 2.06-2.06.94zm-11 1L8.5 8.5l.94-2.06 2.06-.94-2.06-.94L8.5 2.5l-.94 2.06-2.06.94zm10 10l.94 2.06.94-2.06 2.06-.94-2.06-.94-.94-2.06-.94 2.06-2.06.94z\"/><path d=\"M17.41 7.96l-1.37-1.37c-.4-.4-.92-.59-1.43-.59-.52 0-1.04.2-1.43.59L10.3 9.45l-7.72 7.72c-.78.78-.78 2.05 0 2.83L4 21.41c.39.39.9.59 1.41.59.51 0 1.02-.2 1.41-.59l7.78-7.78 2.81-2.81c.8-.78.8-2.07 0-2.86zM5.41 20L4 18.59l7.72-7.72 1.47 1.35L5.41 20z\"/>\n",
              "  </svg>\n",
              "      </button>\n",
              "      \n",
              "  <style>\n",
              "    .colab-df-container {\n",
              "      display:flex;\n",
              "      flex-wrap:wrap;\n",
              "      gap: 12px;\n",
              "    }\n",
              "\n",
              "    .colab-df-convert {\n",
              "      background-color: #E8F0FE;\n",
              "      border: none;\n",
              "      border-radius: 50%;\n",
              "      cursor: pointer;\n",
              "      display: none;\n",
              "      fill: #1967D2;\n",
              "      height: 32px;\n",
              "      padding: 0 0 0 0;\n",
              "      width: 32px;\n",
              "    }\n",
              "\n",
              "    .colab-df-convert:hover {\n",
              "      background-color: #E2EBFA;\n",
              "      box-shadow: 0px 1px 2px rgba(60, 64, 67, 0.3), 0px 1px 3px 1px rgba(60, 64, 67, 0.15);\n",
              "      fill: #174EA6;\n",
              "    }\n",
              "\n",
              "    [theme=dark] .colab-df-convert {\n",
              "      background-color: #3B4455;\n",
              "      fill: #D2E3FC;\n",
              "    }\n",
              "\n",
              "    [theme=dark] .colab-df-convert:hover {\n",
              "      background-color: #434B5C;\n",
              "      box-shadow: 0px 1px 3px 1px rgba(0, 0, 0, 0.15);\n",
              "      filter: drop-shadow(0px 1px 2px rgba(0, 0, 0, 0.3));\n",
              "      fill: #FFFFFF;\n",
              "    }\n",
              "  </style>\n",
              "\n",
              "      <script>\n",
              "        const buttonEl =\n",
              "          document.querySelector('#df-4d32c625-0b0b-4c3d-84fb-7a181822afc3 button.colab-df-convert');\n",
              "        buttonEl.style.display =\n",
              "          google.colab.kernel.accessAllowed ? 'block' : 'none';\n",
              "\n",
              "        async function convertToInteractive(key) {\n",
              "          const element = document.querySelector('#df-4d32c625-0b0b-4c3d-84fb-7a181822afc3');\n",
              "          const dataTable =\n",
              "            await google.colab.kernel.invokeFunction('convertToInteractive',\n",
              "                                                     [key], {});\n",
              "          if (!dataTable) return;\n",
              "\n",
              "          const docLinkHtml = 'Like what you see? Visit the ' +\n",
              "            '<a target=\"_blank\" href=https://colab.research.google.com/notebooks/data_table.ipynb>data table notebook</a>'\n",
              "            + ' to learn more about interactive tables.';\n",
              "          element.innerHTML = '';\n",
              "          dataTable['output_type'] = 'display_data';\n",
              "          await google.colab.output.renderOutput(dataTable, element);\n",
              "          const docLink = document.createElement('div');\n",
              "          docLink.innerHTML = docLinkHtml;\n",
              "          element.appendChild(docLink);\n",
              "        }\n",
              "      </script>\n",
              "    </div>\n",
              "  </div>\n",
              "  "
            ]
          },
          "metadata": {},
          "execution_count": 173
        }
      ]
    },
    {
      "cell_type": "code",
      "source": [
        "# plotting accuracies with n_estimators\n",
        "plt.figure()\n",
        "plt.plot(scores[\"param_n_estimators\"], \n",
        "         scores[\"mean_train_score\"], \n",
        "         label=\"training accuracy\")\n",
        "plt.plot(scores[\"param_n_estimators\"], \n",
        "         scores[\"mean_test_score\"], \n",
        "         label=\"test accuracy\")\n",
        "plt.xlabel(\"n_estimators\")\n",
        "plt.ylabel(\"Accuracy\")\n",
        "plt.grid()\n",
        "plt.legend()\n",
        "plt.show()"
      ],
      "metadata": {
        "colab": {
          "base_uri": "https://localhost:8080/",
          "height": 280
        },
        "id": "tubnPvSeQnaB",
        "outputId": "b4e91319-9003-4c0e-9ac7-13167c65ca64"
      },
      "execution_count": null,
      "outputs": [
        {
          "output_type": "display_data",
          "data": {
            "text/plain": [
              "<Figure size 432x288 with 1 Axes>"
            ],
            "image/png": "[encoded data removed]"
          },
          "metadata": {
            "needs_background": "light"
          }
        }
      ]
    },
    {
      "cell_type": "markdown",
      "source": [
        "here we can see n_estimator is not contributing much towards accuracy of the model and hence we will go with n_estimaor = 300 because beyond that n_estimator VS accuracy curve is almost flat"
      ],
      "metadata": {
        "id": "XtuIKoEDSEgm"
      }
    },
    {
      "cell_type": "markdown",
      "source": [
        "## Hyper tuning for max_features"
      ],
      "metadata": {
        "id": "5gv0nwG6Swiu"
      }
    },
    {
      "cell_type": "code",
      "source": [
        "# specify number of folds for k-fold CV\n",
        "n_folds = 5\n",
        "\n",
        "# parameters to build the model on\n",
        "parameters = {'max_features': [2,3,5,6,8]}\n",
        "\n",
        "# instantiate the model\n",
        "rf = RandomForestClassifier(max_depth=8,n_estimators=300)\n",
        "\n",
        "\n",
        "# fit tree on training data\n",
        "rf = GridSearchCV(rf, parameters, \n",
        "                    cv=n_folds, \n",
        "                   scoring=\"accuracy\",return_train_score=True)\n",
        "rf.fit(X_train, y_train)"
      ],
      "metadata": {
        "colab": {
          "base_uri": "https://localhost:8080/"
        },
        "id": "FyUB7f2AQoAG",
        "outputId": "742e08c6-8635-47e5-db9f-e7055f7f17bc"
      },
      "execution_count": null,
      "outputs": [
        {
          "output_type": "execute_result",
          "data": {
            "text/plain": [
              "GridSearchCV(cv=5,\n",
              "             estimator=RandomForestClassifier(max_depth=8, n_estimators=300),\n",
              "             param_grid={'max_features': [2, 3, 5, 6, 8]},\n",
              "             return_train_score=True, scoring='accuracy')"
            ]
          },
          "metadata": {},
          "execution_count": 175
        }
      ]
    },
    {
      "cell_type": "code",
      "source": [
        "# scores of GridSearch CV\n",
        "scores = rf.cv_results_\n",
        "pd.DataFrame(scores).head()"
      ],
      "metadata": {
        "colab": {
          "base_uri": "https://localhost:8080/",
          "height": 386
        },
        "id": "xFQUzYRzTeQi",
        "outputId": "f2b8b73e-d713-4252-c543-76cc43b04425"
      },
      "execution_count": null,
      "outputs": [
        {
          "output_type": "execute_result",
          "data": {
            "text/plain": [
              "   mean_fit_time  std_fit_time  mean_score_time  std_score_time  \\\n",
              "0       0.572284      0.007002         0.061828        0.003303   \n",
              "1       0.594111      0.012461         0.058615        0.001620   \n",
              "2       0.633895      0.010745         0.059943        0.004837   \n",
              "3       0.854962      0.369116         0.088685        0.042265   \n",
              "4       0.706300      0.007930         0.059661        0.001595   \n",
              "\n",
              "  param_max_features               params  split0_test_score  \\\n",
              "0                  2  {'max_features': 2}           0.757098   \n",
              "1                  3  {'max_features': 3}           0.763407   \n",
              "2                  5  {'max_features': 5}           0.757098   \n",
              "3                  6  {'max_features': 6}           0.755521   \n",
              "4                  8  {'max_features': 8}           0.757098   \n",
              "\n",
              "   split1_test_score  split2_test_score  split3_test_score  ...  \\\n",
              "0           0.782334           0.793375           0.774092  ...   \n",
              "1           0.777603           0.787066           0.767773  ...   \n",
              "2           0.780757           0.787066           0.767773  ...   \n",
              "3           0.777603           0.783912           0.767773  ...   \n",
              "4           0.776025           0.783912           0.769352  ...   \n",
              "\n",
              "   mean_test_score  std_test_score  rank_test_score  split0_train_score  \\\n",
              "0         0.776514        0.011847                1            0.799921   \n",
              "1         0.772724        0.008548                2            0.800710   \n",
              "2         0.772409        0.010486                3            0.798343   \n",
              "3         0.770832        0.009622                4            0.798737   \n",
              "4         0.770516        0.009054                5            0.798343   \n",
              "\n",
              "   split1_train_score  split2_train_score  split3_train_score  \\\n",
              "0            0.797553            0.792818            0.796450   \n",
              "1            0.797159            0.794396            0.798028   \n",
              "2            0.797553            0.789661            0.798028   \n",
              "3            0.796764            0.792028            0.799606   \n",
              "4            0.797553            0.791634            0.800000   \n",
              "\n",
              "   split4_train_score  mean_train_score  std_train_score  \n",
              "0            0.796450          0.796638         0.002293  \n",
              "1            0.794477          0.796954         0.002366  \n",
              "2            0.794477          0.795612         0.003279  \n",
              "3            0.795266          0.796480         0.002692  \n",
              "4            0.797239          0.796954         0.002827  \n",
              "\n",
              "[5 rows x 21 columns]"
            ],
            "text/html": [
              "\n",
              "  <div id=\"df-63a8cc28-08d6-4848-b1e2-e1c40d9c962d\">\n",
              "    <div class=\"colab-df-container\">\n",
              "      <div>\n",
              "<style scoped>\n",
              "    .dataframe tbody tr th:only-of-type {\n",
              "        vertical-align: middle;\n",
              "    }\n",
              "\n",
              "    .dataframe tbody tr th {\n",
              "        vertical-align: top;\n",
              "    }\n",
              "\n",
              "    .dataframe thead th {\n",
              "        text-align: right;\n",
              "    }\n",
              "</style>\n",
              "<table border=\"1\" class=\"dataframe\">\n",
              "  <thead>\n",
              "    <tr style=\"text-align: right;\">\n",
              "      <th></th>\n",
              "      <th>mean_fit_time</th>\n",
              "      <th>std_fit_time</th>\n",
              "      <th>mean_score_time</th>\n",
              "      <th>std_score_time</th>\n",
              "      <th>param_max_features</th>\n",
              "      <th>params</th>\n",
              "      <th>split0_test_score</th>\n",
              "      <th>split1_test_score</th>\n",
              "      <th>split2_test_score</th>\n",
              "      <th>split3_test_score</th>\n",
              "      <th>...</th>\n",
              "      <th>mean_test_score</th>\n",
              "      <th>std_test_score</th>\n",
              "      <th>rank_test_score</th>\n",
              "      <th>split0_train_score</th>\n",
              "      <th>split1_train_score</th>\n",
              "      <th>split2_train_score</th>\n",
              "      <th>split3_train_score</th>\n",
              "      <th>split4_train_score</th>\n",
              "      <th>mean_train_score</th>\n",
              "      <th>std_train_score</th>\n",
              "    </tr>\n",
              "  </thead>\n",
              "  <tbody>\n",
              "    <tr>\n",
              "      <th>0</th>\n",
              "      <td>0.572284</td>\n",
              "      <td>0.007002</td>\n",
              "      <td>0.061828</td>\n",
              "      <td>0.003303</td>\n",
              "      <td>2</td>\n",
              "      <td>{'max_features': 2}</td>\n",
              "      <td>0.757098</td>\n",
              "      <td>0.782334</td>\n",
              "      <td>0.793375</td>\n",
              "      <td>0.774092</td>\n",
              "      <td>...</td>\n",
              "      <td>0.776514</td>\n",
              "      <td>0.011847</td>\n",
              "      <td>1</td>\n",
              "      <td>0.799921</td>\n",
              "      <td>0.797553</td>\n",
              "      <td>0.792818</td>\n",
              "      <td>0.796450</td>\n",
              "      <td>0.796450</td>\n",
              "      <td>0.796638</td>\n",
              "      <td>0.002293</td>\n",
              "    </tr>\n",
              "    <tr>\n",
              "      <th>1</th>\n",
              "      <td>0.594111</td>\n",
              "      <td>0.012461</td>\n",
              "      <td>0.058615</td>\n",
              "      <td>0.001620</td>\n",
              "      <td>3</td>\n",
              "      <td>{'max_features': 3}</td>\n",
              "      <td>0.763407</td>\n",
              "      <td>0.777603</td>\n",
              "      <td>0.787066</td>\n",
              "      <td>0.767773</td>\n",
              "      <td>...</td>\n",
              "      <td>0.772724</td>\n",
              "      <td>0.008548</td>\n",
              "      <td>2</td>\n",
              "      <td>0.800710</td>\n",
              "      <td>0.797159</td>\n",
              "      <td>0.794396</td>\n",
              "      <td>0.798028</td>\n",
              "      <td>0.794477</td>\n",
              "      <td>0.796954</td>\n",
              "      <td>0.002366</td>\n",
              "    </tr>\n",
              "    <tr>\n",
              "      <th>2</th>\n",
              "      <td>0.633895</td>\n",
              "      <td>0.010745</td>\n",
              "      <td>0.059943</td>\n",
              "      <td>0.004837</td>\n",
              "      <td>5</td>\n",
              "      <td>{'max_features': 5}</td>\n",
              "      <td>0.757098</td>\n",
              "      <td>0.780757</td>\n",
              "      <td>0.787066</td>\n",
              "      <td>0.767773</td>\n",
              "      <td>...</td>\n",
              "      <td>0.772409</td>\n",
              "      <td>0.010486</td>\n",
              "      <td>3</td>\n",
              "      <td>0.798343</td>\n",
              "      <td>0.797553</td>\n",
              "      <td>0.789661</td>\n",
              "      <td>0.798028</td>\n",
              "      <td>0.794477</td>\n",
              "      <td>0.795612</td>\n",
              "      <td>0.003279</td>\n",
              "    </tr>\n",
              "    <tr>\n",
              "      <th>3</th>\n",
              "      <td>0.854962</td>\n",
              "      <td>0.369116</td>\n",
              "      <td>0.088685</td>\n",
              "      <td>0.042265</td>\n",
              "      <td>6</td>\n",
              "      <td>{'max_features': 6}</td>\n",
              "      <td>0.755521</td>\n",
              "      <td>0.777603</td>\n",
              "      <td>0.783912</td>\n",
              "      <td>0.767773</td>\n",
              "      <td>...</td>\n",
              "      <td>0.770832</td>\n",
              "      <td>0.009622</td>\n",
              "      <td>4</td>\n",
              "      <td>0.798737</td>\n",
              "      <td>0.796764</td>\n",
              "      <td>0.792028</td>\n",
              "      <td>0.799606</td>\n",
              "      <td>0.795266</td>\n",
              "      <td>0.796480</td>\n",
              "      <td>0.002692</td>\n",
              "    </tr>\n",
              "    <tr>\n",
              "      <th>4</th>\n",
              "      <td>0.706300</td>\n",
              "      <td>0.007930</td>\n",
              "      <td>0.059661</td>\n",
              "      <td>0.001595</td>\n",
              "      <td>8</td>\n",
              "      <td>{'max_features': 8}</td>\n",
              "      <td>0.757098</td>\n",
              "      <td>0.776025</td>\n",
              "      <td>0.783912</td>\n",
              "      <td>0.769352</td>\n",
              "      <td>...</td>\n",
              "      <td>0.770516</td>\n",
              "      <td>0.009054</td>\n",
              "      <td>5</td>\n",
              "      <td>0.798343</td>\n",
              "      <td>0.797553</td>\n",
              "      <td>0.791634</td>\n",
              "      <td>0.800000</td>\n",
              "      <td>0.797239</td>\n",
              "      <td>0.796954</td>\n",
              "      <td>0.002827</td>\n",
              "    </tr>\n",
              "  </tbody>\n",
              "</table>\n",
              "<p>5 rows × 21 columns</p>\n",
              "</div>\n",
              "      <button class=\"colab-df-convert\" onclick=\"convertToInteractive('df-63a8cc28-08d6-4848-b1e2-e1c40d9c962d')\"\n",
              "              title=\"Convert this dataframe to an interactive table.\"\n",
              "              style=\"display:none;\">\n",
              "        \n",
              "  <svg xmlns=\"http://www.w3.org/2000/svg\" height=\"24px\"viewBox=\"0 0 24 24\"\n",
              "       width=\"24px\">\n",
              "    <path d=\"M0 0h24v24H0V0z\" fill=\"none\"/>\n",
              "    <path d=\"M18.56 5.44l.94 2.06.94-2.06 2.06-.94-2.06-.94-.94-2.06-.94 2.06-2.06.94zm-11 1L8.5 8.5l.94-2.06 2.06-.94-2.06-.94L8.5 2.5l-.94 2.06-2.06.94zm10 10l.94 2.06.94-2.06 2.06-.94-2.06-.94-.94-2.06-.94 2.06-2.06.94z\"/><path d=\"M17.41 7.96l-1.37-1.37c-.4-.4-.92-.59-1.43-.59-.52 0-1.04.2-1.43.59L10.3 9.45l-7.72 7.72c-.78.78-.78 2.05 0 2.83L4 21.41c.39.39.9.59 1.41.59.51 0 1.02-.2 1.41-.59l7.78-7.78 2.81-2.81c.8-.78.8-2.07 0-2.86zM5.41 20L4 18.59l7.72-7.72 1.47 1.35L5.41 20z\"/>\n",
              "  </svg>\n",
              "      </button>\n",
              "      \n",
              "  <style>\n",
              "    .colab-df-container {\n",
              "      display:flex;\n",
              "      flex-wrap:wrap;\n",
              "      gap: 12px;\n",
              "    }\n",
              "\n",
              "    .colab-df-convert {\n",
              "      background-color: #E8F0FE;\n",
              "      border: none;\n",
              "      border-radius: 50%;\n",
              "      cursor: pointer;\n",
              "      display: none;\n",
              "      fill: #1967D2;\n",
              "      height: 32px;\n",
              "      padding: 0 0 0 0;\n",
              "      width: 32px;\n",
              "    }\n",
              "\n",
              "    .colab-df-convert:hover {\n",
              "      background-color: #E2EBFA;\n",
              "      box-shadow: 0px 1px 2px rgba(60, 64, 67, 0.3), 0px 1px 3px 1px rgba(60, 64, 67, 0.15);\n",
              "      fill: #174EA6;\n",
              "    }\n",
              "\n",
              "    [theme=dark] .colab-df-convert {\n",
              "      background-color: #3B4455;\n",
              "      fill: #D2E3FC;\n",
              "    }\n",
              "\n",
              "    [theme=dark] .colab-df-convert:hover {\n",
              "      background-color: #434B5C;\n",
              "      box-shadow: 0px 1px 3px 1px rgba(0, 0, 0, 0.15);\n",
              "      filter: drop-shadow(0px 1px 2px rgba(0, 0, 0, 0.3));\n",
              "      fill: #FFFFFF;\n",
              "    }\n",
              "  </style>\n",
              "\n",
              "      <script>\n",
              "        const buttonEl =\n",
              "          document.querySelector('#df-63a8cc28-08d6-4848-b1e2-e1c40d9c962d button.colab-df-convert');\n",
              "        buttonEl.style.display =\n",
              "          google.colab.kernel.accessAllowed ? 'block' : 'none';\n",
              "\n",
              "        async function convertToInteractive(key) {\n",
              "          const element = document.querySelector('#df-63a8cc28-08d6-4848-b1e2-e1c40d9c962d');\n",
              "          const dataTable =\n",
              "            await google.colab.kernel.invokeFunction('convertToInteractive',\n",
              "                                                     [key], {});\n",
              "          if (!dataTable) return;\n",
              "\n",
              "          const docLinkHtml = 'Like what you see? Visit the ' +\n",
              "            '<a target=\"_blank\" href=https://colab.research.google.com/notebooks/data_table.ipynb>data table notebook</a>'\n",
              "            + ' to learn more about interactive tables.';\n",
              "          element.innerHTML = '';\n",
              "          dataTable['output_type'] = 'display_data';\n",
              "          await google.colab.output.renderOutput(dataTable, element);\n",
              "          const docLink = document.createElement('div');\n",
              "          docLink.innerHTML = docLinkHtml;\n",
              "          element.appendChild(docLink);\n",
              "        }\n",
              "      </script>\n",
              "    </div>\n",
              "  </div>\n",
              "  "
            ]
          },
          "metadata": {},
          "execution_count": 176
        }
      ]
    },
    {
      "cell_type": "code",
      "source": [
        "# plotting accuracies with max_features\n",
        "plt.figure()\n",
        "plt.plot(scores[\"param_max_features\"], \n",
        "         scores[\"mean_train_score\"], \n",
        "         label=\"training accuracy\")\n",
        "plt.plot(scores[\"param_max_features\"], \n",
        "         scores[\"mean_test_score\"], \n",
        "         label=\"test accuracy\")\n",
        "plt.xlabel(\"max_features\")\n",
        "plt.ylabel(\"Accuracy\")\n",
        "plt.legend()\n",
        "plt.show()"
      ],
      "metadata": {
        "colab": {
          "base_uri": "https://localhost:8080/",
          "height": 280
        },
        "id": "YNO9nt7xUR7u",
        "outputId": "5f98d4a2-7708-4606-ee84-e0a33a50bb16"
      },
      "execution_count": null,
      "outputs": [
        {
          "output_type": "display_data",
          "data": {
            "text/plain": [
              "<Figure size 432x288 with 1 Axes>"
            ],
            "image/png": "[encoded data removed]"
          },
          "metadata": {
            "needs_background": "light"
          }
        }
      ]
    },
    {
      "cell_type": "markdown",
      "source": [
        "due to the fact that data we have has only 9 columns hence we can see as we increse the number of features accuracy is decresing hence we will consider max_features = 2"
      ],
      "metadata": {
        "id": "iCfANy1YVE2V"
      }
    },
    {
      "cell_type": "markdown",
      "source": [
        "# lets put all in one place"
      ],
      "metadata": {
        "id": "vWkipRsdWngB"
      }
    },
    {
      "cell_type": "code",
      "source": [
        "# Create the parameter grid based on the results of random search \n",
        "param_grid = {\n",
        "    'max_depth': [2,3,5,6,8],\n",
        "    'min_samples_leaf': range(100, 400, 200),\n",
        "    'min_samples_split': range(200, 500, 200),\n",
        "    'n_estimators': [100,200, 300,400], \n",
        "    'max_features': [2,3,5,6,8]\n",
        "}\n",
        "# Create a based model\n",
        "rf = RandomForestClassifier()\n",
        "# Instantiate the grid search model\n",
        "grid_search = GridSearchCV(estimator = rf, param_grid = param_grid, \n",
        "                          cv = 3, n_jobs = -1,verbose = 1)"
      ],
      "metadata": {
        "id": "dJfDg6AYU1z3"
      },
      "execution_count": null,
      "outputs": []
    },
    {
      "cell_type": "code",
      "source": [
        "# Fit the grid search to the data\n",
        "grid_search.fit(X_train, y_train)"
      ],
      "metadata": {
        "colab": {
          "base_uri": "https://localhost:8080/"
        },
        "id": "i9MLMv2QXEzG",
        "outputId": "dd97b614-9897-4b68-e34a-0413d98ed14a"
      },
      "execution_count": null,
      "outputs": [
        {
          "output_type": "stream",
          "name": "stdout",
          "text": [
            "Fitting 3 folds for each of 400 candidates, totalling 1200 fits\n"
          ]
        },
        {
          "output_type": "execute_result",
          "data": {
            "text/plain": [
              "GridSearchCV(cv=3, estimator=RandomForestClassifier(), n_jobs=-1,\n",
              "             param_grid={'max_depth': [2, 3, 5, 6, 8],\n",
              "                         'max_features': [2, 3, 5, 6, 8],\n",
              "                         'min_samples_leaf': range(100, 400, 200),\n",
              "                         'min_samples_split': range(200, 500, 200),\n",
              "                         'n_estimators': [100, 200, 300, 400]},\n",
              "             verbose=1)"
            ]
          },
          "metadata": {},
          "execution_count": 179
        }
      ]
    },
    {
      "cell_type": "code",
      "source": [
        "print('We can get accuracy of',grid_search.best_score_,'using',grid_search.best_params_)"
      ],
      "metadata": {
        "id": "QAK_2-uLXJp6",
        "colab": {
          "base_uri": "https://localhost:8080/"
        },
        "outputId": "ada72ac8-21d8-449b-e5a6-1c5f2060b603"
      },
      "execution_count": null,
      "outputs": [
        {
          "output_type": "stream",
          "name": "stdout",
          "text": [
            "We can get accuracy of 0.77114898989899 using {'max_depth': 2, 'max_features': 5, 'min_samples_leaf': 100, 'min_samples_split': 400, 'n_estimators': 300}\n"
          ]
        }
      ]
    },
    {
      "cell_type": "code",
      "source": [
        "# model with the best hyperparameters\n",
        "from sklearn.ensemble import RandomForestClassifier\n",
        "rfc = RandomForestClassifier(bootstrap = True ,\n",
        "                             max_depth=2,\n",
        "                             min_samples_leaf=100, \n",
        "                             min_samples_split=400,\n",
        "                             class_weight='balanced',\n",
        "                             max_features=5,\n",
        "                             n_estimators=300\n",
        "                    )"
      ],
      "metadata": {
        "id": "e0tEeImTe-_h"
      },
      "execution_count": null,
      "outputs": []
    },
    {
      "cell_type": "code",
      "source": [
        "rfc.fit(X_train,y_train)"
      ],
      "metadata": {
        "colab": {
          "base_uri": "https://localhost:8080/"
        },
        "id": "2wUPo-UPfRWK",
        "outputId": "fb82f592-0951-48f4-8e1c-e9201589f175"
      },
      "execution_count": null,
      "outputs": [
        {
          "output_type": "execute_result",
          "data": {
            "text/plain": [
              "RandomForestClassifier(class_weight='balanced', max_depth=2, max_features=5,\n",
              "                       min_samples_leaf=100, min_samples_split=400,\n",
              "                       n_estimators=300)"
            ]
          },
          "metadata": {},
          "execution_count": 196
        }
      ]
    },
    {
      "cell_type": "code",
      "source": [
        "predictions = rfc.predict(X_test)"
      ],
      "metadata": {
        "id": "m_OxUiA5fXfT"
      },
      "execution_count": null,
      "outputs": []
    },
    {
      "cell_type": "code",
      "source": [
        "print(classification_report(y_test,predictions))"
      ],
      "metadata": {
        "colab": {
          "base_uri": "https://localhost:8080/"
        },
        "id": "FNeBkB5hfu7F",
        "outputId": "6b984892-e837-4f01-e28e-a3d222ca2d25"
      },
      "execution_count": null,
      "outputs": [
        {
          "output_type": "stream",
          "name": "stdout",
          "text": [
            "              precision    recall  f1-score   support\n",
            "\n",
            "           0       0.87      0.74      0.80       948\n",
            "           1       0.56      0.75      0.64       410\n",
            "\n",
            "    accuracy                           0.74      1358\n",
            "   macro avg       0.71      0.75      0.72      1358\n",
            "weighted avg       0.78      0.74      0.75      1358\n",
            "\n"
          ]
        }
      ]
    },
    {
      "cell_type": "markdown",
      "source": [
        "here we can see f1 scores have been improved from 58% to 64% for predicting 1 in target variable "
      ],
      "metadata": {
        "id": "F4EQWlqrgoml"
      }
    },
    {
      "cell_type": "markdown",
      "source": [
        "# **insights and suggestions**\n",
        "\n",
        "* drivers who left the job have no total bussiness value or theire rides have \n",
        "very high precentage of cancellation and refunds as compared to drivers who are still in ola so its recommended to Ola make sure driver have less no of cnacellation of rides or refunds the possibale reason for cancellation and refund can be found out if we have additional data .\n",
        "\n",
        "* males are generally quiting theire jobs from ola than women this is may be happening due to finding better earning opportunity from other cab service providers , it can be prevent by giving incetives for number of miles driven during a day this will engage drivers to drive cabs most of the time for ola.\n",
        "\n",
        "* here we can see most of the people who had not able to incresed theire income are the ones who are leaving ola .\n",
        "\n",
        "* drivers who have no improvement in quaterly rating are more likely to leave ola , quaterly rating plays important role in earning of the driver  hence ola must have conduct some training sessions and train them ragrding importance of  ratings and its effect on earning potential.\n",
        "\n",
        "* more number of men have incremented theire income than womens this is may be due to more number of mens have able to improve theire quaterly ratings."
      ],
      "metadata": {
        "id": "1xUiVTBf012t"
      }
    }
  ]
}